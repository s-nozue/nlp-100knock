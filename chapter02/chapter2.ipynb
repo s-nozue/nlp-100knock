{
 "cells": [
  {
   "cell_type": "code",
   "execution_count": 1,
   "id": "95227b36-647e-4bca-8487-6abd556a2a19",
   "metadata": {},
   "outputs": [
    {
     "name": "stdout",
     "output_type": "stream",
     "text": [
      "--2023-03-16 15:48:37--  https://nlp100.github.io/data/popular-names.txt\n",
      "nlp100.github.io (nlp100.github.io) をDNSに問いあわせています... 185.199.111.153, 185.199.108.153, 185.199.109.153, ...\n",
      "nlp100.github.io (nlp100.github.io)|185.199.111.153|:443 に接続しています... 接続しました。\n",
      "HTTP による接続要求を送信しました、応答を待っています... 200 OK\n",
      "長さ: 55026 (54K) [text/plain]\n",
      "`popular-names.txt' に保存中\n",
      "\n",
      "popular-names.txt   100%[===================>]  53.74K  --.-KB/s 時間 0.004s     \n",
      "\n",
      "2023-03-16 15:48:38 (14.0 MB/s) - `popular-names.txt' へ保存完了 [55026/55026]\n",
      "\n"
     ]
    }
   ],
   "source": [
    "!wget https://nlp100.github.io/data/popular-names.txt"
   ]
  },
  {
   "cell_type": "markdown",
   "id": "4aa3ec95-ecb9-4449-bf2b-4898878f0bac",
   "metadata": {},
   "source": [
    "## 10. 行数のカウント\n",
    "行数をカウントせよ．確認にはwcコマンドを用いよ"
   ]
  },
  {
   "cell_type": "code",
   "execution_count": 16,
   "id": "c0d23b82-4d00-4266-b38a-2680b685a6fe",
   "metadata": {},
   "outputs": [
    {
     "data": {
      "text/plain": [
       "2780"
      ]
     },
     "execution_count": 16,
     "metadata": {},
     "output_type": "execute_result"
    }
   ],
   "source": [
    "count = 0\n",
    "with open('popular-names.txt', 'r') as f:\n",
    "    for _ in f:\n",
    "        count += 1\n",
    "count"
   ]
  },
  {
   "cell_type": "code",
   "execution_count": 14,
   "id": "eb870dc0-053b-409c-a87f-d10e70d9e3bb",
   "metadata": {},
   "outputs": [
    {
     "name": "stdout",
     "output_type": "stream",
     "text": [
      "    2780 popular-names.txt\n"
     ]
    }
   ],
   "source": [
    "!wc -l popular-names.txt"
   ]
  },
  {
   "cell_type": "markdown",
   "id": "99d05142-c4a2-484d-ad2e-37bf34439b17",
   "metadata": {},
   "source": [
    "## 11. タブをスペースに置換\n",
    "タブ1文字につきスペース1文字に置換せよ．確認にはsedコマンド，trコマンド，もしくはexpandコマンドを用いよ．"
   ]
  },
  {
   "cell_type": "code",
   "execution_count": 50,
   "id": "4604c626-4995-44ad-992c-96daecb565f2",
   "metadata": {},
   "outputs": [
    {
     "name": "stdout",
     "output_type": "stream",
     "text": [
      "Mary F 7065 1880\n",
      "Anna F 2604 1880\n",
      "Emma F 2003 1880\n",
      "Elizabeth F 1939 1880\n",
      "Minnie F 1746 1880\n",
      "Margaret F 1578 1880\n",
      "Ida F 1472 1880\n",
      "Alice F 1414 1880\n",
      "Bertha F 1320 1880\n",
      "Sarah F 1288 1880\n"
     ]
    }
   ],
   "source": [
    "with open('popular-names.txt', 'r') as f:\n",
    "    for i, l in enumerate(f):\n",
    "        print(l.replace('\\t', ' ').rstrip())\n",
    "        if i == 9:\n",
    "            break"
   ]
  },
  {
   "cell_type": "code",
   "execution_count": 28,
   "id": "015f5604-f773-4f7d-8ac9-4b589c68d0da",
   "metadata": {},
   "outputs": [
    {
     "name": "stdout",
     "output_type": "stream",
     "text": [
      "Mary F 7065 1880\n",
      "Anna F 2604 1880\n",
      "Emma F 2003 1880\n",
      "Elizabeth F 1939 1880\n",
      "Minnie F 1746 1880\n",
      "Margaret F 1578 1880\n",
      "Ida F 1472 1880\n",
      "Alice F 1414 1880\n",
      "Bertha F 1320 1880\n",
      "Sarah F 1288 1880\n",
      "sed: stdout: Broken pipe\n"
     ]
    }
   ],
   "source": [
    "!sed s/'\\t'/' '/g popular-names.txt | head -10"
   ]
  },
  {
   "cell_type": "code",
   "execution_count": 29,
   "id": "86e41e88-bd0f-4829-81ca-be25163f35c9",
   "metadata": {},
   "outputs": [
    {
     "name": "stdout",
     "output_type": "stream",
     "text": [
      "Mary F 7065 1880\n",
      "Anna F 2604 1880\n",
      "Emma F 2003 1880\n",
      "Elizabeth F 1939 1880\n",
      "Minnie F 1746 1880\n",
      "Margaret F 1578 1880\n",
      "Ida F 1472 1880\n",
      "Alice F 1414 1880\n",
      "Bertha F 1320 1880\n",
      "Sarah F 1288 1880\n",
      "tr: stdout: Broken pipe\n"
     ]
    }
   ],
   "source": [
    "!cat popular-names.txt | tr '\\t' ' ' | head -10"
   ]
  },
  {
   "cell_type": "code",
   "execution_count": 40,
   "id": "cc5ff70c-5b71-438a-9563-2d1e488ae3d3",
   "metadata": {},
   "outputs": [
    {
     "name": "stdout",
     "output_type": "stream",
     "text": [
      "Mary F 7065 1880\n",
      "Anna F 2604 1880\n",
      "Emma F 2003 1880\n",
      "Elizabeth F 1939 1880\n",
      "Minnie F 1746 1880\n",
      "Margaret F 1578 1880\n",
      "Ida F 1472 1880\n",
      "Alice F 1414 1880\n",
      "Bertha F 1320 1880\n",
      "Sarah F 1288 1880\n",
      "expand: stdout: Broken pipe\n"
     ]
    }
   ],
   "source": [
    "!expand -t 1 popular-names.txt | head -10"
   ]
  },
  {
   "cell_type": "markdown",
   "id": "0bf5966d-7782-4b12-bde6-445ee077d165",
   "metadata": {},
   "source": [
    "## 12. 1列目をcol1.txtに，2列目をcol2.txtに保存\n",
    "各行の1列目だけを抜き出したものをcol1.txtに，2列目だけを抜き出したものをcol2.txtとしてファイルに保存せよ．確認にはcutコマンドを用いよ．"
   ]
  },
  {
   "cell_type": "code",
   "execution_count": 74,
   "id": "13955e51-3b03-4bcb-ba9a-e4dc64602cd8",
   "metadata": {},
   "outputs": [],
   "source": [
    "with open('popular-names.txt', 'r') as f, open('col1.txt', 'w') as col1, open('col2.txt', 'w') as col2:\n",
    "    for l in f:\n",
    "        l = l.rstrip().split('\\t')\n",
    "        print(l[0], file=col1)\n",
    "        print(l[1], file=col2)"
   ]
  },
  {
   "cell_type": "code",
   "execution_count": 75,
   "id": "67a08aa2-bfbc-4f9f-85ba-6834f6c16c54",
   "metadata": {},
   "outputs": [
    {
     "name": "stdout",
     "output_type": "stream",
     "text": [
      "Mary\n",
      "Anna\n",
      "Emma\n",
      "Elizabeth\n",
      "Minnie\n",
      "Margaret\n",
      "Ida\n",
      "Alice\n",
      "Bertha\n",
      "Sarah\n"
     ]
    }
   ],
   "source": [
    "!head col1.txt"
   ]
  },
  {
   "cell_type": "code",
   "execution_count": 76,
   "id": "960faf49-ea3e-4496-886a-cab5621bf081",
   "metadata": {},
   "outputs": [
    {
     "name": "stdout",
     "output_type": "stream",
     "text": [
      "Mary\n",
      "Anna\n",
      "Emma\n",
      "Elizabeth\n",
      "Minnie\n",
      "Margaret\n",
      "Ida\n",
      "Alice\n",
      "Bertha\n",
      "Sarah\n"
     ]
    }
   ],
   "source": [
    "!cut -f 1 popular-names.txt | head -10"
   ]
  },
  {
   "cell_type": "code",
   "execution_count": 77,
   "id": "98ab9a7f-4ebe-401d-b300-789975a86b4e",
   "metadata": {},
   "outputs": [
    {
     "name": "stdout",
     "output_type": "stream",
     "text": [
      "F\n",
      "F\n",
      "F\n",
      "F\n",
      "F\n",
      "F\n",
      "F\n",
      "F\n",
      "F\n",
      "F\n"
     ]
    }
   ],
   "source": [
    "!head -10 col2.txt"
   ]
  },
  {
   "cell_type": "code",
   "execution_count": 78,
   "id": "06a267ad-957e-470e-8eed-91e2946ab720",
   "metadata": {},
   "outputs": [
    {
     "name": "stdout",
     "output_type": "stream",
     "text": [
      "F\n",
      "F\n",
      "F\n",
      "F\n",
      "F\n",
      "F\n",
      "F\n",
      "F\n",
      "F\n",
      "F\n"
     ]
    }
   ],
   "source": [
    "!cut -f 2 popular-names.txt | head -10"
   ]
  },
  {
   "cell_type": "markdown",
   "id": "fe56ff93-45c3-44ac-9b42-3a82f3094467",
   "metadata": {},
   "source": [
    "## 13. col1.txtとcol2.txtをマージPermalink\n",
    "12で作ったcol1.txtとcol2.txtを結合し，元のファイルの1列目と2列目をタブ区切りで並べたテキストファイルを作成せよ．確認にはpasteコマンドを用いよ．"
   ]
  },
  {
   "cell_type": "code",
   "execution_count": 81,
   "id": "ba821d23-da31-46d8-9688-01cf54721b30",
   "metadata": {},
   "outputs": [],
   "source": [
    "with open('col1.txt', 'r') as col1, open('col2.txt', 'r') as col2, open('merge.txt', 'w') as m:\n",
    "    for c1, c2 in zip(col1, col2):\n",
    "        print(f'{c1.rstrip()}\\t{c2.rstrip()}', file=m)"
   ]
  },
  {
   "cell_type": "code",
   "execution_count": 82,
   "id": "0f940a88-7ca3-444c-a870-68fc4477e995",
   "metadata": {},
   "outputs": [
    {
     "name": "stdout",
     "output_type": "stream",
     "text": [
      "Mary\tF\n",
      "Anna\tF\n",
      "Emma\tF\n",
      "Elizabeth\tF\n",
      "Minnie\tF\n",
      "Margaret\tF\n",
      "Ida\tF\n",
      "Alice\tF\n",
      "Bertha\tF\n",
      "Sarah\tF\n"
     ]
    }
   ],
   "source": [
    "!head -10 merge.txt"
   ]
  },
  {
   "cell_type": "code",
   "execution_count": 84,
   "id": "83854b48-d2c8-4da7-adf0-4f0a307e9aba",
   "metadata": {},
   "outputs": [
    {
     "name": "stdout",
     "output_type": "stream",
     "text": [
      "Mary\tF\n",
      "Anna\tF\n",
      "Emma\tF\n",
      "Elizabeth\tF\n",
      "Minnie\tF\n",
      "Margaret\tF\n",
      "Ida\tF\n",
      "Alice\tF\n",
      "Bertha\tF\n",
      "Sarah\tF\n"
     ]
    }
   ],
   "source": [
    "!paste -d '\\t' col1.txt col2.txt | head -10"
   ]
  },
  {
   "cell_type": "markdown",
   "id": "40f71486-2626-4976-ab17-101494182cb7",
   "metadata": {},
   "source": [
    "## 14. 先頭からN行を出力\n",
    "自然数Nをコマンドライン引数などの手段で受け取り，入力のうち先頭のN行だけを表示せよ．確認にはheadコマンドを用いよ．"
   ]
  },
  {
   "cell_type": "code",
   "execution_count": 111,
   "id": "be5d9077-91f6-4a83-b865-ea20af2cab44",
   "metadata": {},
   "outputs": [
    {
     "name": "stdout",
     "output_type": "stream",
     "text": [
      "Mary\tF\t7065\t1880\n",
      "Anna\tF\t2604\t1880\n",
      "Emma\tF\t2003\t1880\n",
      "Elizabeth\tF\t1939\t1880\n",
      "Minnie\tF\t1746\t1880\n",
      "Margaret\tF\t1578\t1880\n",
      "Ida\tF\t1472\t1880\n",
      "Alice\tF\t1414\t1880\n",
      "Bertha\tF\t1320\t1880\n",
      "Sarah\tF\t1288\t1880\n"
     ]
    }
   ],
   "source": [
    "!python head.py 10 popular-names.txt"
   ]
  },
  {
   "cell_type": "code",
   "execution_count": 112,
   "id": "3b92141e-f742-44eb-9208-bb0ec913de33",
   "metadata": {},
   "outputs": [],
   "source": [
    "#head.pyの中身\n",
    "# import sys\n",
    "# num = int(sys.argv[1])\n",
    "# file = sys.argv[2]\n",
    "# with open(file, 'r') as f:\n",
    "#     for _, l in zip(range(num), f):\n",
    "#         print(l.rstrip())"
   ]
  },
  {
   "cell_type": "code",
   "execution_count": 94,
   "id": "92290901-5484-4a9f-b1d5-ed7a769abb36",
   "metadata": {},
   "outputs": [
    {
     "name": "stdout",
     "output_type": "stream",
     "text": [
      "Mary\tF\t7065\t1880\n",
      "Anna\tF\t2604\t1880\n",
      "Emma\tF\t2003\t1880\n",
      "Elizabeth\tF\t1939\t1880\n",
      "Minnie\tF\t1746\t1880\n",
      "Margaret\tF\t1578\t1880\n",
      "Ida\tF\t1472\t1880\n",
      "Alice\tF\t1414\t1880\n",
      "Bertha\tF\t1320\t1880\n",
      "Sarah\tF\t1288\t1880\n"
     ]
    }
   ],
   "source": [
    "!head -10 popular-names.txt"
   ]
  },
  {
   "cell_type": "markdown",
   "id": "50eb2a86-a679-4fba-9296-47a2a6508f6f",
   "metadata": {},
   "source": [
    "## 15. 末尾のN行を出力\n",
    "自然数Nをコマンドライン引数などの手段で受け取り，入力のうち末尾のN行だけを表示せよ．確認にはtailコマンドを用いよ．"
   ]
  },
  {
   "cell_type": "code",
   "execution_count": 119,
   "id": "cd509e7a-643d-4684-ae35-5996262d4cb8",
   "metadata": {},
   "outputs": [
    {
     "name": "stdout",
     "output_type": "stream",
     "text": [
      "Liam\tM\t19837\t2018\n",
      "Noah\tM\t18267\t2018\n",
      "William\tM\t14516\t2018\n",
      "James\tM\t13525\t2018\n",
      "Oliver\tM\t13389\t2018\n",
      "Benjamin\tM\t13381\t2018\n",
      "Elijah\tM\t12886\t2018\n",
      "Lucas\tM\t12585\t2018\n",
      "Mason\tM\t12435\t2018\n",
      "Logan\tM\t12352\t2018\n"
     ]
    }
   ],
   "source": [
    "!python tail.py 10 popular-names.txt"
   ]
  },
  {
   "cell_type": "code",
   "execution_count": 113,
   "id": "ebb0dc4e-dbc8-421b-84d9-74e2ee396cb8",
   "metadata": {},
   "outputs": [
    {
     "name": "stdout",
     "output_type": "stream",
     "text": [
      "Liam\tM\t19837\t2018\n",
      "Noah\tM\t18267\t2018\n",
      "William\tM\t14516\t2018\n",
      "James\tM\t13525\t2018\n",
      "Oliver\tM\t13389\t2018\n",
      "Benjamin\tM\t13381\t2018\n",
      "Elijah\tM\t12886\t2018\n",
      "Lucas\tM\t12585\t2018\n",
      "Mason\tM\t12435\t2018\n",
      "Logan\tM\t12352\t2018\n"
     ]
    }
   ],
   "source": [
    "!tail -10 popular-names.txt"
   ]
  },
  {
   "cell_type": "markdown",
   "id": "e8e3ad89-e33e-418f-8c82-59e9aee32f9f",
   "metadata": {},
   "source": [
    "## 16. ファイルをN分割する\n",
    "自然数Nをコマンドライン引数などの手段で受け取り，入力のファイルを行単位でN分割せよ．同様の処理をsplitコマンドで実現せよ．"
   ]
  },
  {
   "cell_type": "code",
   "execution_count": 47,
   "id": "077ab192-baea-4df7-9b42-86c557426b8a",
   "metadata": {
    "tags": []
   },
   "outputs": [
    {
     "name": "stdout",
     "output_type": "stream",
     "text": [
      "11分割します。各ファイル(リスト)の行数は252か253になります。\n",
      "253\n",
      "253\n",
      "253\n",
      "253\n",
      "253\n",
      "253\n",
      "253\n",
      "253\n",
      "252\n",
      "252\n",
      "252\n",
      "合計は2780\n"
     ]
    }
   ],
   "source": [
    "!python py/split.py 11 popular-names.txt"
   ]
  },
  {
   "cell_type": "code",
   "execution_count": null,
   "id": "be776212-5f91-414d-9548-3bc7894c80b4",
   "metadata": {},
   "outputs": [],
   "source": [
    "#分割数を指定して、行単位で区切るオプションがこの環境では無いらしく、渋々行数指定でやることに...\n",
    "#パイプで繋いで出力先ファイルを指定したのにエラーが一生出るのでもう諦めて手作業でファイルを移動させることに..."
   ]
  },
  {
   "cell_type": "code",
   "execution_count": null,
   "id": "9cf2de7a-e8d9-4c6c-a818-e2e1cfb65281",
   "metadata": {},
   "outputs": [],
   "source": [
    "# !man split"
   ]
  },
  {
   "cell_type": "code",
   "execution_count": 15,
   "id": "3d442c6b-be16-4d6a-9d0c-e1807332684f",
   "metadata": {},
   "outputs": [
    {
     "name": "stdout",
     "output_type": "stream",
     "text": [
      "252\n"
     ]
    }
   ],
   "source": [
    "!expr 2780 / 11"
   ]
  },
  {
   "cell_type": "code",
   "execution_count": 50,
   "id": "dd02e299-d300-4f7e-a44e-aa5e9ecdb4ed",
   "metadata": {},
   "outputs": [
    {
     "name": "stdout",
     "output_type": "stream",
     "text": [
      "8\n"
     ]
    }
   ],
   "source": [
    "!expr 2780 % 11"
   ]
  },
  {
   "cell_type": "code",
   "execution_count": 78,
   "id": "d09b542f-b775-4b87-ac89-3edd2bf73f06",
   "metadata": {},
   "outputs": [
    {
     "name": "stdout",
     "output_type": "stream",
     "text": [
      "zsh:1: permission denied: files/no_16/\n"
     ]
    }
   ],
   "source": [
    "!split -l 253 popular-names.txt | files/no_16/"
   ]
  },
  {
   "cell_type": "markdown",
   "id": "029526fc-9957-4527-a032-76b0a25aa380",
   "metadata": {},
   "source": [
    "## 17. １列目の文字列の異なり\n",
    "1列目の文字列の種類（異なる文字列の集合）を求めよ．確認にはcut, sort, uniqコマンドを用いよ"
   ]
  },
  {
   "cell_type": "code",
   "execution_count": 130,
   "id": "dddaee38-a037-41a1-911a-2319dde6b235",
   "metadata": {},
   "outputs": [
    {
     "name": "stdout",
     "output_type": "stream",
     "text": [
      "136\n",
      "Abigail\n",
      "Aiden\n",
      "Alexander\n",
      "Alexis\n",
      "Alice\n",
      "Amanda\n",
      "Amelia\n",
      "Amy\n",
      "Andrew\n",
      "Angela\n"
     ]
    }
   ],
   "source": [
    "names = set()\n",
    "with open('files/col1.txt') as f:\n",
    "    for n in f:\n",
    "        names.add(n.rstrip())\n",
    "print(len(names))\n",
    "for e in sorted(names)[:10]:\n",
    "    print(e)"
   ]
  },
  {
   "cell_type": "code",
   "execution_count": 80,
   "id": "419c33e1-d68f-4ae5-ac2d-be7eee6403ad",
   "metadata": {},
   "outputs": [
    {
     "name": "stdout",
     "output_type": "stream",
     "text": [
      "     136\n"
     ]
    }
   ],
   "source": [
    "!cut -f 1 popular-names.txt |sort |uniq > files/uniq.txt |wc -l"
   ]
  },
  {
   "cell_type": "code",
   "execution_count": 131,
   "id": "71ca67cf-52a5-420d-b56b-9af1f100b008",
   "metadata": {},
   "outputs": [
    {
     "name": "stdout",
     "output_type": "stream",
     "text": [
      "Abigail\n",
      "Aiden\n",
      "Alexander\n",
      "Alexis\n",
      "Alice\n",
      "Amanda\n",
      "Amelia\n",
      "Amy\n",
      "Andrew\n",
      "Angela\n"
     ]
    }
   ],
   "source": [
    "!head files/uniq.txt"
   ]
  },
  {
   "cell_type": "markdown",
   "id": "3fd62555-816e-4c62-8764-6e47fcd10bcc",
   "metadata": {},
   "source": [
    "## 18. 各行を3コラム目の数値の降順にソート\n",
    "各行を3コラム目の数値の逆順で整列せよ（注意: 各行の内容は変更せずに並び替えよ）．確認にはsortコマンドを用いよ（この問題はコマンドで実行した時の結果と合わなくてもよい）．"
   ]
  },
  {
   "cell_type": "code",
   "execution_count": 98,
   "id": "4ba1a84a-d6e8-4bed-8ec3-44f1ca38999d",
   "metadata": {},
   "outputs": [
    {
     "name": "stdout",
     "output_type": "stream",
     "text": [
      "1.9 ms ± 104 µs per loop (mean ± std. dev. of 7 runs, 100 loops each)\n"
     ]
    }
   ],
   "source": [
    "%%timeit\n",
    "data = [l.rstrip().split() for l in open('popular-names.txt')]\n",
    "data = sorted(data, key=lambda x: int(x[2]), reverse = True)"
   ]
  },
  {
   "cell_type": "code",
   "execution_count": 99,
   "id": "576a234b-c1d5-4895-b607-e8290cd1b7d2",
   "metadata": {},
   "outputs": [
    {
     "name": "stdout",
     "output_type": "stream",
     "text": [
      "['Linda', 'F', '99689', '1947']\n",
      "['Linda', 'F', '96211', '1948']\n",
      "['James', 'M', '94757', '1947']\n",
      "['Michael', 'M', '92704', '1957']\n",
      "['Robert', 'M', '91640', '1947']\n",
      "['Linda', 'F', '91016', '1949']\n",
      "['Michael', 'M', '90656', '1956']\n",
      "['Michael', 'M', '90517', '1958']\n",
      "['James', 'M', '88584', '1948']\n",
      "['Michael', 'M', '88528', '1954']\n"
     ]
    }
   ],
   "source": [
    "for d in data[:10]:\n",
    "    print(d)"
   ]
  },
  {
   "cell_type": "code",
   "execution_count": 100,
   "id": "62d3d434-826a-46eb-9c22-942065f40173",
   "metadata": {},
   "outputs": [
    {
     "name": "stdout",
     "output_type": "stream",
     "text": [
      "488 ms ± 10 ms per loop (mean ± std. dev. of 7 runs, 1 loop each)\n"
     ]
    }
   ],
   "source": [
    "%%timeit\n",
    "#鬼非効率な気がするが、別解\n",
    "result = []\n",
    "count = 0\n",
    "\n",
    "with open('popular-names.txt') as f:\n",
    "    for l in f:\n",
    "        l = l.rstrip().split()\n",
    "        if count == 0:\n",
    "            result.append(l)\n",
    "            count += 1\n",
    "        else:\n",
    "            for i, r in enumerate(result):\n",
    "                if int(l[2]) > int(r[2]):\n",
    "                    result.insert(i, l)\n",
    "                    break\n",
    "                elif i == len(result) and int(l[2]) <= int(r[2]):\n",
    "                    result.append(l)"
   ]
  },
  {
   "cell_type": "code",
   "execution_count": 101,
   "id": "7d5543c8-85d6-467c-9cb9-2cf569f2e4cc",
   "metadata": {},
   "outputs": [
    {
     "name": "stdout",
     "output_type": "stream",
     "text": [
      "['Linda', 'F', '99689', '1947']\n",
      "['Linda', 'F', '96211', '1948']\n",
      "['James', 'M', '94757', '1947']\n",
      "['Michael', 'M', '92704', '1957']\n",
      "['Robert', 'M', '91640', '1947']\n",
      "['Linda', 'F', '91016', '1949']\n",
      "['Michael', 'M', '90656', '1956']\n",
      "['Michael', 'M', '90517', '1958']\n",
      "['James', 'M', '88584', '1948']\n",
      "['Michael', 'M', '88528', '1954']\n"
     ]
    }
   ],
   "source": [
    "for rr in result[:10]:\n",
    "    print(rr)"
   ]
  },
  {
   "cell_type": "code",
   "execution_count": 112,
   "id": "8c062087-9a89-45e6-9524-1b3c54bc2c7d",
   "metadata": {},
   "outputs": [
    {
     "name": "stdout",
     "output_type": "stream",
     "text": [
      "Linda\tF\t99689\t1947\n",
      "Linda\tF\t96211\t1948\n",
      "James\tM\t94757\t1947\n",
      "Michael\tM\t92704\t1957\n",
      "Robert\tM\t91640\t1947\n",
      "Linda\tF\t91016\t1949\n",
      "Michael\tM\t90656\t1956\n",
      "Michael\tM\t90517\t1958\n",
      "James\tM\t88584\t1948\n",
      "Michael\tM\t88528\t1954\n",
      "sort: Broken pipe\n"
     ]
    }
   ],
   "source": [
    "!sort -r -n -k 3 popular-names.txt |head"
   ]
  },
  {
   "cell_type": "markdown",
   "id": "dd49f801-b95a-45c7-9d62-609f2bd2a5d7",
   "metadata": {},
   "source": [
    "## 19. 各行の1コラム目の文字列の出現頻度を求め，出現頻度の高い順に並べる\n",
    "各行の1列目の文字列の出現頻度を求め，その高い順に並べて表示せよ．確認にはcut, uniq, sortコマンドを用いよ．"
   ]
  },
  {
   "cell_type": "code",
   "execution_count": 123,
   "id": "7f5ea9ee-f9bf-42a6-81b7-cbe7c43d3db7",
   "metadata": {},
   "outputs": [],
   "source": [
    "result = {}\n",
    "with open('popular-names.txt') as f:\n",
    "    for l in f:\n",
    "        l = l.rstrip().split()\n",
    "        if l[0] not in result:\n",
    "            result[l[0]] = 1\n",
    "        else:\n",
    "            result[l[0]] += 1\n",
    "result = sorted(result.items(), key=lambda v: v[1], reverse = True)"
   ]
  },
  {
   "cell_type": "code",
   "execution_count": 124,
   "id": "cf53845b-6c14-4780-882f-61cc84c69199",
   "metadata": {},
   "outputs": [
    {
     "name": "stdout",
     "output_type": "stream",
     "text": [
      "('James', 118)\n",
      "('William', 111)\n",
      "('John', 108)\n",
      "('Robert', 108)\n",
      "('Mary', 92)\n",
      "('Charles', 75)\n",
      "('Michael', 74)\n",
      "('Elizabeth', 73)\n",
      "('Joseph', 70)\n",
      "('Margaret', 60)\n"
     ]
    }
   ],
   "source": [
    "for i, r in enumerate(result):\n",
    "    if i == 10:\n",
    "        break\n",
    "    else:\n",
    "        print(r)"
   ]
  },
  {
   "cell_type": "code",
   "execution_count": 128,
   "id": "2f5afc3e-cb05-436f-8bc9-f9278c3824d8",
   "metadata": {},
   "outputs": [
    {
     "name": "stdout",
     "output_type": "stream",
     "text": [
      " 118 James\n",
      " 111 William\n",
      " 108 Robert\n",
      " 108 John\n",
      "  92 Mary\n",
      "  75 Charles\n",
      "  74 Michael\n",
      "  73 Elizabeth\n",
      "  70 Joseph\n",
      "  60 Margaret\n"
     ]
    }
   ],
   "source": [
    "!cut -f 1 popular-names.txt|sort |uniq -c |sort -r |head"
   ]
  },
  {
   "cell_type": "code",
   "execution_count": 6,
   "id": "d6c9e46b",
   "metadata": {},
   "outputs": [
    {
     "data": {
      "text/plain": [
       "\"Manager's\""
      ]
     },
     "execution_count": 6,
     "metadata": {},
     "output_type": "execute_result"
    }
   ],
   "source": [
    "signals = ['.', ',', ':', ';', '!', '?', '(', ')', '[', ']', \"'\", '\"', '/']\n",
    "a = \"'Hercules'?\"\n",
    "\n",
    "b = \"Manager's\"\n",
    "b.rstrip(''.join(signals))"
   ]
  },
  {
   "cell_type": "code",
   "execution_count": null,
   "id": "f774d6ce",
   "metadata": {},
   "outputs": [],
   "source": []
  },
  {
   "cell_type": "code",
   "execution_count": null,
   "metadata": {},
   "outputs": [],
   "source": []
  }
 ],
 "metadata": {
  "kernelspec": {
   "display_name": "Python 3 (ipykernel)",
   "language": "python",
   "name": "python3"
  },
  "language_info": {
   "codemirror_mode": {
    "name": "ipython",
    "version": 3
   },
   "file_extension": ".py",
   "mimetype": "text/x-python",
   "name": "python",
   "nbconvert_exporter": "python",
   "pygments_lexer": "ipython3",
   "version": "3.10.6"
  }
 },
 "nbformat": 4,
 "nbformat_minor": 5
}
