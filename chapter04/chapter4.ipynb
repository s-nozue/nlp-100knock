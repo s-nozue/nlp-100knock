{
 "cells": [
  {
   "cell_type": "code",
   "execution_count": 231,
   "id": "a98ca1de-a978-4555-842e-0ae1c6012b31",
   "metadata": {},
   "outputs": [
    {
     "name": "stdout",
     "output_type": "stream",
     "text": [
      "--2023-04-24 08:29:42--  https://nlp100.github.io/data/neko.txt\n",
      "nlp100.github.io (nlp100.github.io) をDNSに問いあわせています... 185.199.109.153, 185.199.110.153, 185.199.111.153, ...\n",
      "nlp100.github.io (nlp100.github.io)|185.199.109.153|:443 に接続しています... 接続しました。\n",
      "HTTP による接続要求を送信しました、応答を待っています... 200 OK\n",
      "長さ: 975789 (953K) [text/plain]\n",
      "`neko.txt.1' に保存中\n",
      "\n",
      "neko.txt.1          100%[===================>] 952.92K  --.-KB/s 時間 0.09s      \n",
      "\n",
      "2023-04-24 08:29:43 (10.1 MB/s) - `neko.txt.1' へ保存完了 [975789/975789]\n",
      "\n"
     ]
    }
   ],
   "source": [
    "!wget https://nlp100.github.io/data/neko.txt"
   ]
  },
  {
   "cell_type": "code",
   "execution_count": 232,
   "id": "d7c7af53-c0fe-4051-abbe-08fc1f417e62",
   "metadata": {
    "tags": []
   },
   "outputs": [],
   "source": [
    "!mecab neko.txt > neko.txt.mecab"
   ]
  },
  {
   "cell_type": "code",
   "execution_count": 233,
   "id": "36f66579-84d9-467c-ae40-1ad0ed052937",
   "metadata": {},
   "outputs": [
    {
     "name": "stdout",
     "output_type": "stream",
     "text": [
      "一\t名詞,数,*,*,*,*,一,イチ,イチ\n",
      "\t記号,一般,*,*,*,*,*\n",
      "EOS\n",
      "\t記号,一般,*,*,*,*,*\n",
      "EOS\n",
      "　\t記号,空白,*,*,*,*,　,　,　\n",
      "吾輩\t名詞,代名詞,一般,*,*,*,吾輩,ワガハイ,ワガハイ\n",
      "は\t助詞,係助詞,*,*,*,*,は,ハ,ワ\n",
      "猫\t名詞,一般,*,*,*,*,猫,ネコ,ネコ\n",
      "で\t助動詞,*,*,*,特殊・ダ,連用形,だ,デ,デ\n",
      "ある\t助動詞,*,*,*,五段・ラ行アル,基本形,ある,アル,アル\n",
      "。\t記号,句点,*,*,*,*,。,。,。\n",
      "\t記号,一般,*,*,*,*,*\n",
      "EOS\n",
      "名前\t名詞,一般,*,*,*,*,名前,ナマエ,ナマエ\n",
      "は\t助詞,係助詞,*,*,*,*,は,ハ,ワ\n",
      "まだ\t副詞,助詞類接続,*,*,*,*,まだ,マダ,マダ\n",
      "無い\t形容詞,自立,*,*,形容詞・アウオ段,基本形,無い,ナイ,ナイ\n",
      "。\t記号,句点,*,*,*,*,。,。,。\n",
      "\t記号,一般,*,*,*,*,*\n"
     ]
    }
   ],
   "source": [
    "!head -20 neko.txt.mecab"
   ]
  },
  {
   "cell_type": "code",
   "execution_count": 338,
   "id": "0ec89690",
   "metadata": {},
   "outputs": [
    {
     "name": "stdout",
     "output_type": "stream",
     "text": [
      "Collecting toolz\n",
      "  Downloading toolz-0.12.0-py3-none-any.whl (55 kB)\n",
      "\u001b[2K     \u001b[90m━━━━━━━━━━━━━━━━━━━━━━━━━━━━━━━━━━━━━━━━\u001b[0m \u001b[32m55.8/55.8 kB\u001b[0m \u001b[31m3.3 MB/s\u001b[0m eta \u001b[36m0:00:00\u001b[0m\n",
      "\u001b[?25hInstalling collected packages: toolz\n",
      "Successfully installed toolz-0.12.0\n",
      "\n",
      "\u001b[1m[\u001b[0m\u001b[34;49mnotice\u001b[0m\u001b[1;39;49m]\u001b[0m\u001b[39;49m A new release of pip is available: \u001b[0m\u001b[31;49m23.0\u001b[0m\u001b[39;49m -> \u001b[0m\u001b[32;49m23.1\u001b[0m\n",
      "\u001b[1m[\u001b[0m\u001b[34;49mnotice\u001b[0m\u001b[1;39;49m]\u001b[0m\u001b[39;49m To update, run: \u001b[0m\u001b[32;49mpython -m pip install --upgrade pip\u001b[0m\n"
     ]
    }
   ],
   "source": [
    "%pip install toolz"
   ]
  },
  {
   "cell_type": "markdown",
   "id": "6b1312f6-6668-42d2-8555-060806fa45ed",
   "metadata": {},
   "source": [
    "## 30. 形態素解析結果の読み込み\n",
    "形態素解析結果（neko.txt.mecab）を読み込むプログラムを実装せよ．ただし，各形態素は表層形（surface），基本形（base），品詞（pos），品詞細分類1（pos1）をキーとするマッピング型に格納し，1文を形態素（マッピング型）のリストとして表現せよ．第4章の残りの問題では，ここで作ったプログラムを活用せよ"
   ]
  },
  {
   "cell_type": "code",
   "execution_count": 234,
   "id": "63c64dbc-bb68-490f-a61d-af1e088726f9",
   "metadata": {},
   "outputs": [],
   "source": [
    "#どんな感じかチェック\n",
    "\n",
    "# count = 0\n",
    "\n",
    "# with open('neko.txt.mecab') as f:\n",
    "#     for l in f:\n",
    "#         if count == 20:\n",
    "#             break\n",
    "#         else:\n",
    "#             l = l.rstrip().replace('\\t', ',').split(',')\n",
    "#             count += 1\n",
    "#             print(l)"
   ]
  },
  {
   "cell_type": "code",
   "execution_count": 351,
   "id": "646ec9b5-6dff-4eeb-8f63-88258b57aed1",
   "metadata": {},
   "outputs": [],
   "source": [
    "sentence = []\n",
    "morph_sens = []\n",
    "\n",
    "with open('neko.txt.mecab') as f:\n",
    "    for l in f:\n",
    "        l = l.rstrip()\n",
    "        if l == 'EOS':\n",
    "            morph_sens.append(sentence)\n",
    "            sentence = []\n",
    "        else:\n",
    "            morpheme = {}\n",
    "            l = l.replace('\\t', ',').split(',')\n",
    "            if len(l) != 1:  \n",
    "                morpheme['surface'] = l[0]\n",
    "                morpheme['base'] = l[7]\n",
    "                morpheme['pos'] = l[1]\n",
    "                morpheme['pos1'] = l[2]\n",
    "                sentence.append(morpheme)\n",
    "            # else:\n",
    "            #     assert len(l) == 8 or len(l) == 1, 'ウザいのがあります'"
   ]
  },
  {
   "cell_type": "code",
   "execution_count": 352,
   "id": "6edd2ce7",
   "metadata": {},
   "outputs": [
    {
     "data": {
      "text/plain": [
       "[[{'surface': '一', 'base': '一', 'pos': '名詞', 'pos1': '数'},\n",
       "  {'surface': '', 'base': '*', 'pos': '記号', 'pos1': '一般'}],\n",
       " [{'surface': '', 'base': '*', 'pos': '記号', 'pos1': '一般'}],\n",
       " [{'surface': '\\u3000', 'base': '\\u3000', 'pos': '記号', 'pos1': '空白'},\n",
       "  {'surface': '吾輩', 'base': '吾輩', 'pos': '名詞', 'pos1': '代名詞'},\n",
       "  {'surface': 'は', 'base': 'は', 'pos': '助詞', 'pos1': '係助詞'},\n",
       "  {'surface': '猫', 'base': '猫', 'pos': '名詞', 'pos1': '一般'},\n",
       "  {'surface': 'で', 'base': 'だ', 'pos': '助動詞', 'pos1': '*'},\n",
       "  {'surface': 'ある', 'base': 'ある', 'pos': '助動詞', 'pos1': '*'},\n",
       "  {'surface': '。', 'base': '。', 'pos': '記号', 'pos1': '句点'},\n",
       "  {'surface': '', 'base': '*', 'pos': '記号', 'pos1': '一般'}],\n",
       " [{'surface': '名前', 'base': '名前', 'pos': '名詞', 'pos1': '一般'},\n",
       "  {'surface': 'は', 'base': 'は', 'pos': '助詞', 'pos1': '係助詞'},\n",
       "  {'surface': 'まだ', 'base': 'まだ', 'pos': '副詞', 'pos1': '助詞類接続'},\n",
       "  {'surface': '無い', 'base': '無い', 'pos': '形容詞', 'pos1': '自立'},\n",
       "  {'surface': '。', 'base': '。', 'pos': '記号', 'pos1': '句点'},\n",
       "  {'surface': '', 'base': '*', 'pos': '記号', 'pos1': '一般'}],\n",
       " [{'surface': '', 'base': '*', 'pos': '記号', 'pos1': '一般'}]]"
      ]
     },
     "execution_count": 352,
     "metadata": {},
     "output_type": "execute_result"
    }
   ],
   "source": [
    "morph_sens[:5]"
   ]
  },
  {
   "cell_type": "markdown",
   "id": "dd68f53b",
   "metadata": {},
   "source": [
    "## 31.動詞\n",
    "動詞の表層形をすべて抽出せよ．"
   ]
  },
  {
   "cell_type": "code",
   "execution_count": 353,
   "id": "bb27d26c",
   "metadata": {},
   "outputs": [],
   "source": [
    "def same_pos_info(key, value, result):\n",
    "    lis = [w[result] for s in morph_sens for w in s if w[key] == value]\n",
    "    return lis"
   ]
  },
  {
   "cell_type": "code",
   "execution_count": 354,
   "id": "9e87fdf4",
   "metadata": {},
   "outputs": [
    {
     "data": {
      "text/plain": [
       "3893"
      ]
     },
     "execution_count": 354,
     "metadata": {},
     "output_type": "execute_result"
    }
   ],
   "source": [
    "len(set(same_pos_info('pos', '動詞','surface')))"
   ]
  },
  {
   "cell_type": "code",
   "execution_count": 355,
   "id": "f4be1d19",
   "metadata": {},
   "outputs": [
    {
     "data": {
      "text/plain": [
       "28906"
      ]
     },
     "execution_count": 355,
     "metadata": {},
     "output_type": "execute_result"
    }
   ],
   "source": [
    "len(same_pos_info('pos', '動詞','surface'))"
   ]
  },
  {
   "cell_type": "code",
   "execution_count": 356,
   "id": "383d7aa6",
   "metadata": {},
   "outputs": [
    {
     "data": {
      "text/plain": [
       "['生れ', 'つか', 'し', '泣い', 'し', 'いる', '始め', '見', '聞く', '捕え']"
      ]
     },
     "execution_count": 356,
     "metadata": {},
     "output_type": "execute_result"
    }
   ],
   "source": [
    "same_pos_info('pos', '動詞','surface')[:10]"
   ]
  },
  {
   "cell_type": "markdown",
   "id": "e864783e",
   "metadata": {},
   "source": [
    "## 32.動詞の基本形\n",
    "動詞の基本形をすべて抽出せよ．"
   ]
  },
  {
   "cell_type": "code",
   "execution_count": 357,
   "id": "118597f0",
   "metadata": {},
   "outputs": [
    {
     "data": {
      "text/plain": [
       "['生れる', 'つく', 'する', '泣く', 'する', 'いる', '始める', '見る', '聞く', '捕える']"
      ]
     },
     "execution_count": 357,
     "metadata": {},
     "output_type": "execute_result"
    }
   ],
   "source": [
    "same_pos_info('pos', '動詞','base')[:10]"
   ]
  },
  {
   "cell_type": "code",
   "execution_count": 358,
   "id": "eb58c982",
   "metadata": {},
   "outputs": [
    {
     "data": {
      "text/plain": [
       "28906"
      ]
     },
     "execution_count": 358,
     "metadata": {},
     "output_type": "execute_result"
    }
   ],
   "source": [
    "len(same_pos_info('pos', '動詞','base'))"
   ]
  },
  {
   "cell_type": "code",
   "execution_count": 359,
   "id": "eba597d2",
   "metadata": {},
   "outputs": [
    {
     "data": {
      "text/plain": [
       "2300"
      ]
     },
     "execution_count": 359,
     "metadata": {},
     "output_type": "execute_result"
    }
   ],
   "source": [
    "len(set(same_pos_info('pos', '動詞','base')))"
   ]
  },
  {
   "cell_type": "markdown",
   "id": "0738d361",
   "metadata": {},
   "source": [
    "## 33. 「AのB」\n",
    "2つの名詞が「の」で連結されている名詞句を抽出せよ．"
   ]
  },
  {
   "cell_type": "code",
   "execution_count": 360,
   "id": "c16465e2",
   "metadata": {},
   "outputs": [],
   "source": [
    "no_nouns = []\n",
    "\n",
    "for s in morph_sens:\n",
    "    for i in range(1, len(s)):\n",
    "        start = s[i-2]\n",
    "        middle = s[i-1]\n",
    "        end = s[i]\n",
    "        if middle['surface'] == 'の' and start['pos'] == end['pos'] == '名詞':\n",
    "            no_nouns.append(start['surface'] + middle['surface'] + end['surface'])"
   ]
  },
  {
   "cell_type": "code",
   "execution_count": 379,
   "id": "1ca59524",
   "metadata": {},
   "outputs": [],
   "source": [
    "# sliding_windowめっちゃいい\n",
    "from toolz.itertoolz import sliding_window \n",
    "no_nouns2 = []\n",
    "\n",
    "for s in morph_sens:\n",
    "    for w in sliding_window(3, s):\n",
    "        if w[1]['surface'] == 'の' and w[0]['pos'] == w[2]['pos'] == '名詞':\n",
    "            no_nouns2.append(w[0]['surface'] + w[1]['surface'] + w[2]['surface'])"
   ]
  },
  {
   "cell_type": "code",
   "execution_count": 367,
   "id": "723dc259",
   "metadata": {},
   "outputs": [
    {
     "name": "stdout",
     "output_type": "stream",
     "text": [
      "['彼の掌', '掌の上', '書生の顔', 'はずの顔', '顔の真中', '穴の中', '書生の掌', '掌の裏', '何の事', '肝心の母親', '藁の上', '笹原の中', '池の前', '池の上', '一樹の蔭', '垣根の穴', '隣家の三', '時の通路', '一刻の猶予', '家の内']\n"
     ]
    }
   ],
   "source": [
    "print(no_nouns[:20])"
   ]
  },
  {
   "cell_type": "code",
   "execution_count": 366,
   "id": "49f0fa0b",
   "metadata": {},
   "outputs": [
    {
     "name": "stdout",
     "output_type": "stream",
     "text": [
      "6044\n"
     ]
    }
   ],
   "source": [
    "print(len(no_nouns))"
   ]
  },
  {
   "cell_type": "code",
   "execution_count": 365,
   "id": "5dd91ae0",
   "metadata": {},
   "outputs": [
    {
     "name": "stdout",
     "output_type": "stream",
     "text": [
      "4924\n"
     ]
    }
   ],
   "source": [
    "print(len(set(no_nouns)))"
   ]
  },
  {
   "cell_type": "markdown",
   "id": "8b8ac33b",
   "metadata": {},
   "source": [
    "## 34. 名詞の連接\n",
    "名詞の連接（連続して出現する名詞）を最長一致で抽出せよ．"
   ]
  },
  {
   "cell_type": "code",
   "execution_count": 392,
   "id": "c7c63ad8",
   "metadata": {},
   "outputs": [],
   "source": [
    "n_conected = []\n",
    "nouns = []\n",
    "\n",
    "for s in morph_sens:\n",
    "    for w in s:\n",
    "        if w['pos'] == '名詞':\n",
    "            nouns.append(w['surface'])\n",
    "        else:\n",
    "            if len(nouns) >= 2:\n",
    "                n_conected.append(''.join(nouns))\n",
    "            nouns = [] # ここ改善の余地ありだと思うけど思いつかない"
   ]
  },
  {
   "cell_type": "code",
   "execution_count": 390,
   "id": "d6794766",
   "metadata": {},
   "outputs": [],
   "source": [
    "n_conected2 = []\n",
    "nouns = ''\n",
    "\n",
    "for s in morph_sens:\n",
    "    for w in s:\n",
    "        if w['pos'] == '名詞':\n",
    "            nouns = nouns + w['surface']\n",
    "        else:\n",
    "            if len(nouns) >= :\n",
    "                n_conected2.append(nouns)\n",
    "            nouns = '' # ここ改善の余地ありだと思うけど思いつかない"
   ]
  },
  {
   "cell_type": "code",
   "execution_count": 391,
   "id": "8e179c43",
   "metadata": {},
   "outputs": [
    {
     "name": "stdout",
     "output_type": "stream",
     "text": [
      "33271\n"
     ]
    }
   ],
   "source": [
    "print(len(n_conected2))"
   ]
  },
  {
   "cell_type": "code",
   "execution_count": 425,
   "id": "a3b79e7e",
   "metadata": {},
   "outputs": [
    {
     "data": {
      "text/plain": [
       "['人間中',\n",
       " '一番獰悪',\n",
       " '時妙',\n",
       " '一毛',\n",
       " 'その後猫',\n",
       " '一度',\n",
       " 'ぷうぷうと煙',\n",
       " '邸内',\n",
       " '三毛',\n",
       " '書生以外',\n",
       " '四五遍',\n",
       " 'この間おさん',\n",
       " '三馬',\n",
       " '御台所',\n",
       " 'まま奥',\n",
       " '住家',\n",
       " '終日書斎',\n",
       " '勉強家',\n",
       " '勉強家',\n",
       " '勤勉家',\n",
       " '二三ページ',\n",
       " '主人以外',\n",
       " '限り吾輩',\n",
       " '朝主人',\n",
       " '一番心持',\n",
       " '二人',\n",
       " '一つ床',\n",
       " '一人',\n",
       " '最後大変',\n",
       " '——猫']"
      ]
     },
     "execution_count": 425,
     "metadata": {},
     "output_type": "execute_result"
    }
   ],
   "source": [
    "n_conected[:30]"
   ]
  },
  {
   "cell_type": "code",
   "execution_count": 394,
   "id": "adbe3616",
   "metadata": {},
   "outputs": [
    {
     "name": "stdout",
     "output_type": "stream",
     "text": [
      "7338\n"
     ]
    }
   ],
   "source": [
    "print(len(n_conected))"
   ]
  },
  {
   "cell_type": "code",
   "execution_count": 395,
   "id": "665643cf",
   "metadata": {},
   "outputs": [
    {
     "name": "stdout",
     "output_type": "stream",
     "text": [
      "4457\n"
     ]
    }
   ],
   "source": [
    "print(len(set(n_conected)))"
   ]
  },
  {
   "cell_type": "markdown",
   "id": "079386f6",
   "metadata": {},
   "source": [
    "## 35. 単語の出現頻度\n",
    "文章中に出現する単語とその出現頻度を求め，出現頻度の高い順に並べよ．"
   ]
  },
  {
   "cell_type": "code",
   "execution_count": 401,
   "id": "f4b6f4a5",
   "metadata": {},
   "outputs": [],
   "source": [
    "from collections import defaultdict\n",
    "word_count = defaultdict(int)\n",
    "\n",
    "for s in morph_sens:\n",
    "    for w in s:\n",
    "        word_count[w['surface']] += 1\n",
    "\n",
    "word_count = sorted(word_count.items(), key = lambda x : x[1], reverse = True) # items使うとタプルのリストに変わるので注意"
   ]
  },
  {
   "cell_type": "code",
   "execution_count": 400,
   "id": "f15e0c9a",
   "metadata": {},
   "outputs": [
    {
     "data": {
      "text/plain": [
       "[('', 9964),\n",
       " ('の', 9194),\n",
       " ('。', 7486),\n",
       " ('て', 6868),\n",
       " ('、', 6772),\n",
       " ('は', 6420),\n",
       " ('に', 6243),\n",
       " ('を', 6071),\n",
       " ('と', 5508),\n",
       " ('が', 5337)]"
      ]
     },
     "execution_count": 400,
     "metadata": {},
     "output_type": "execute_result"
    }
   ],
   "source": [
    "word_count[:10]"
   ]
  },
  {
   "cell_type": "markdown",
   "id": "6fbe2e6f",
   "metadata": {},
   "source": [
    "## 36. 頻度上位10語\n",
    "出現頻度が高い10語とその出現頻度をグラフ（例えば棒グラフなど）で表示せよ．"
   ]
  },
  {
   "cell_type": "code",
   "execution_count": 372,
   "id": "1f3cbfb5",
   "metadata": {},
   "outputs": [],
   "source": [
    "# 使える日本語対応フォント探し\n",
    "# import matplotlib.font_manager\n",
    "# print([f.name for f in matplotlib.font_manager.fontManager.ttflist])"
   ]
  },
  {
   "cell_type": "code",
   "execution_count": 420,
   "id": "07bfbf83",
   "metadata": {},
   "outputs": [],
   "source": [
    "word, count = zip(*word_count)"
   ]
  },
  {
   "cell_type": "code",
   "execution_count": 421,
   "id": "47cac42e",
   "metadata": {},
   "outputs": [
    {
     "data": {
      "image/png": "[encoded data removed]",
      "text/plain": [
       "<Figure size 432x288 with 1 Axes>"
      ]
     },
     "metadata": {
      "needs_background": "light"
     },
     "output_type": "display_data"
    }
   ],
   "source": [
    "import matplotlib.pyplot as plt\n",
    "import numpy as np\n",
    "plt.rcParams['font.family'] = 'Hiragino Sans'\n",
    "\n",
    "plt.bar(word[:10], count[:10], color='darkcyan')\n",
    "plt.xlabel('単語')\n",
    "plt.ylabel('頻度')\n",
    "plt.title('単語頻度TOP10')\n",
    "plt.show()"
   ]
  },
  {
   "cell_type": "markdown",
   "id": "f2cded29",
   "metadata": {},
   "source": [
    "## 37. 「猫」と共起頻度の高い上位10語\n",
    "\n",
    "「猫」とよく共起する（共起頻度が高い）10語とその出現頻度をグラフ（例えば棒グラフなど）で表示せよ．"
   ]
  },
  {
   "cell_type": "code",
   "execution_count": 426,
   "id": "1bd51757",
   "metadata": {},
   "outputs": [],
   "source": [
    "# 共起を1文のなかで一緒にいると定義する\n",
    "from collections import defaultdict\n",
    "neko_co_count = defaultdict(int)\n",
    "\n",
    "for s in morph_sens:\n",
    "    if '猫' in str(s):\n",
    "        for w in s:\n",
    "            base = w['base']\n",
    "            if base != '猫':\n",
    "                neko_co_count[base] += 1\n",
    "\n",
    "neko_co_count = sorted(neko_co_count.items(), key = lambda x : x[1], reverse = True)"
   ]
  },
  {
   "cell_type": "code",
   "execution_count": 427,
   "id": "1568aa08",
   "metadata": {},
   "outputs": [
    {
     "data": {
      "image/png": "[encoded data removed]",
      "text/plain": [
       "<Figure size 432x288 with 1 Axes>"
      ]
     },
     "metadata": {
      "needs_background": "light"
     },
     "output_type": "display_data"
    }
   ],
   "source": [
    "import matplotlib.pyplot as plt\n",
    "import numpy as np\n",
    "plt.rcParams['font.family'] = 'Hiragino Sans'\n",
    "\n",
    "co_word, co_count = zip(*neko_co_count[:10])\n",
    "\n",
    "plt.bar(co_word, co_count, color='rosybrown')\n",
    "plt.xlabel('単語')\n",
    "plt.ylabel('頻度')\n",
    "plt.title('「猫」との共起頻度TOP10')\n",
    "plt.show()"
   ]
  },
  {
   "cell_type": "markdown",
   "id": "dc195bf0",
   "metadata": {},
   "source": [
    "## 38. ヒストグラム\n",
    "単語の出現頻度のヒストグラムを描け．ただし，横軸は出現頻度を表し，1から単語の出現頻度の最大値までの線形目盛とする．縦軸はx軸で示される出現頻度となった単語の異なり数（種類数）である．"
   ]
  },
  {
   "cell_type": "code",
   "execution_count": 422,
   "id": "eae7f59f",
   "metadata": {},
   "outputs": [
    {
     "data": {
      "image/png": "[encoded data removed]",
      "text/plain": [
       "<Figure size 432x288 with 1 Axes>"
      ]
     },
     "metadata": {
      "needs_background": "light"
     },
     "output_type": "display_data"
    }
   ],
   "source": [
    "import matplotlib.pyplot as plt\n",
    "\n",
    "plt.rcParams['font.family'] = 'Hiragino Sans'\n",
    "\n",
    "plt.hist(count, bins=50, log=True, color='grey')\n",
    "plt.xlabel('出現頻度')\n",
    "plt.ylabel('単語数')\n",
    "plt.title('単語の出現頻度(ヒストグラム)')\n",
    "plt.show()"
   ]
  },
  {
   "cell_type": "markdown",
   "id": "404a3f04",
   "metadata": {},
   "source": [
    "## 39. Zipfの法則\n",
    "単語の出現頻度順位を横軸，その出現頻度を縦軸として，両対数グラフをプロットせよ．"
   ]
  },
  {
   "cell_type": "code",
   "execution_count": 423,
   "id": "4a3112a1",
   "metadata": {},
   "outputs": [
    {
     "data": {
      "image/png": "[encoded data removed]",
      "text/plain": [
       "<Figure size 432x288 with 1 Axes>"
      ]
     },
     "metadata": {
      "needs_background": "light"
     },
     "output_type": "display_data"
    }
   ],
   "source": [
    "import matplotlib.pyplot as plt\n",
    "\n",
    "plt.plot(count)\n",
    "\n",
    "plt.xscale('log')\n",
    "plt.yscale('log')\n",
    "\n",
    "plt.title('Zipfの法則') \n",
    "plt.xlabel('出現順位')\n",
    "plt.ylabel('単語数')\n",
    "\n",
    "plt.show()"
   ]
  },
  {
   "cell_type": "code",
   "execution_count": null,
   "metadata": {},
   "outputs": [],
   "source": []
  }
 ],
 "metadata": {
  "kernelspec": {
   "display_name": "Python 3 (ipykernel)",
   "language": "python",
   "name": "python3"
  },
  "language_info": {
   "codemirror_mode": {
    "name": "ipython",
    "version": 3
   },
   "file_extension": ".py",
   "mimetype": "text/x-python",
   "name": "python",
   "nbconvert_exporter": "python",
   "pygments_lexer": "ipython3",
   "version": "3.10.5"
  },
  "vscode": {
   "interpreter": {
    "hash": "395a96220ad211f52f45e991b75182650046c054c0e7a897ef373f2f51c85f5b"
   }
  }
 },
 "nbformat": 4,
 "nbformat_minor": 5
}
