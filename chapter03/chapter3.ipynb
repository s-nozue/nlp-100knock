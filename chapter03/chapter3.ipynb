{
 "cells": [
  {
   "cell_type": "code",
   "execution_count": 4,
   "id": "5d10c1a8-0aac-4a61-9aa4-13145c718929",
   "metadata": {},
   "outputs": [
    {
     "name": "stdout",
     "output_type": "stream",
     "text": [
      "--2023-04-11 16:52:15--  https://nlp100.github.io/data/jawiki-country.json.gz\n",
      "nlp100.github.io (nlp100.github.io) をDNSに問いあわせています... 2606:50c0:8003::153, 2606:50c0:8000::153, 2606:50c0:8001::153, ...\n",
      "nlp100.github.io (nlp100.github.io)|2606:50c0:8003::153|:443 に接続しています... 接続しました。\n",
      "HTTP による接続要求を送信しました、応答を待っています... 200 OK\n",
      "長さ: 5068362 (4.8M) [application/gzip]\n",
      "`jawiki-country.json.gz' に保存中\n",
      "\n",
      "jawiki-country.json 100%[===================>]   4.83M  22.9MB/s 時間 0.2s       \n",
      "\n",
      "2023-04-11 16:52:16 (22.9 MB/s) - `jawiki-country.json.gz' へ保存完了 [5068362/5068362]\n",
      "\n"
     ]
    }
   ],
   "source": [
    "!wget https://nlp100.github.io/data/jawiki-country.json.gz"
   ]
  },
  {
   "cell_type": "code",
   "execution_count": 5,
   "id": "b13640d2-4dfb-4d3e-8eb1-14df66c52905",
   "metadata": {},
   "outputs": [],
   "source": [
    "!gunzip jawiki-country.json.gz"
   ]
  },
  {
   "cell_type": "code",
   "execution_count": 19,
   "id": "f5f6706c-289f-4463-9507-8adefebb43ee",
   "metadata": {},
   "outputs": [],
   "source": [
    "#!head -1 jawiki-country.json"
   ]
  },
  {
   "cell_type": "markdown",
   "id": "6118fe36-10a2-48a2-aa3c-df323badf277",
   "metadata": {
    "jp-MarkdownHeadingCollapsed": true,
    "tags": []
   },
   "source": [
    "## 20. JSONデータの読み込み\n",
    "Wikipedia記事のJSONファイルを読み込み，「イギリス」に関する記事本文を表示せよ．問題21-29では，ここで抽出した記事本文に対して実行せよ"
   ]
  },
  {
   "cell_type": "code",
   "execution_count": 16,
   "id": "48503ff0-0815-4a75-a257-94f03d5308ba",
   "metadata": {},
   "outputs": [],
   "source": [
    "import json\n",
    "\n",
    "data = []\n",
    "count = 0\n",
    "with open('jawiki-country.json') as fi, open('uk.txt', 'w') as fo:\n",
    "    for e in fi:\n",
    "        e = json.loads(e)\n",
    "        if e['title'] == 'イギリス':\n",
    "            fo.write(e['text'])"
   ]
  },
  {
   "cell_type": "code",
   "execution_count": 18,
   "id": "3c64dca4-83bc-45c8-b700-8e81f6f2a6a7",
   "metadata": {},
   "outputs": [
    {
     "name": "stdout",
     "output_type": "stream",
     "text": [
      "{{redirect|UK}}\n",
      "{{redirect|英国|春秋時代の諸侯国|英 (春秋)}}\n",
      "{{Otheruses|ヨーロッパの国|長崎県・熊本県の郷土料理|いぎりす}}\n",
      "{{基礎情報 国\n",
      "|略名  =イギリス\n",
      "|日本語国名 = グレートブリテン及び北アイルランド連合王国\n",
      "|公式国名 = {{lang|en|United Kingdom of Great Britain and Northern Ireland}}<ref>英語以外での正式国名:<br />\n",
      "*{{lang|gd|An Rìoghachd Aonaichte na Breatainn Mhòr agus Eirinn mu Thuath}}（[[スコットランド・ゲール語]]）\n",
      "*{{lang|cy|Teyrnas Gyfunol Prydain Fawr a Gogledd Iwerddon}}（[[ウェールズ語]]）\n",
      "*{{lang|ga|Ríocht Aontaithe na Breataine Móire agus Tuaisceart na hÉireann}}（[[アイルランド語]]）\n"
     ]
    }
   ],
   "source": [
    "!head uk.txt"
   ]
  },
  {
   "cell_type": "markdown",
   "id": "a3418d0f-6abc-4758-84b7-b9e095856b13",
   "metadata": {},
   "source": [
    "## 21. カテゴリ名を含む行を抽出\n",
    "記事中でカテゴリ名を宣言している行を抽出せよ．"
   ]
  },
  {
   "cell_type": "code",
   "execution_count": 28,
   "id": "2ebdf597-fb52-4481-9080-f5f90a202f17",
   "metadata": {},
   "outputs": [
    {
     "name": "stdout",
     "output_type": "stream",
     "text": [
      "[[Category:イギリス|*]]\n",
      "[[Category:イギリス連邦加盟国]]\n",
      "[[Category:英連邦王国|*]]\n",
      "[[Category:G8加盟国]]\n",
      "[[Category:欧州連合加盟国|元]]\n",
      "[[Category:海洋国家]]\n",
      "[[Category:現存する君主国]]\n",
      "[[Category:島国]]\n",
      "[[Category:1801年に成立した国家・領域]]\n"
     ]
    }
   ],
   "source": [
    "import re\n",
    "\n",
    "category = re.compile(r'\\[\\[Category:.+\\]\\]')\n",
    "kategori = re.compile(r'\\[\\[カテゴリ:.+\\]\\]')\n",
    "\n",
    "with open('uk.txt') as f:\n",
    "    for line in f:\n",
    "        line = line.rstrip()\n",
    "        if category.search(line) or kategori.search(line):\n",
    "            print(line)"
   ]
  },
  {
   "cell_type": "markdown",
   "id": "2b6df861-e9cb-4cb8-807d-c34d735fe1c5",
   "metadata": {},
   "source": [
    "## 22. カテゴリ名の抽出\n",
    "記事のカテゴリ名を（行単位ではなく名前で）抽出せよ．"
   ]
  },
  {
   "cell_type": "code",
   "execution_count": 54,
   "id": "b67bbec6-9e7d-493c-b9d9-17b482358679",
   "metadata": {},
   "outputs": [
    {
     "name": "stdout",
     "output_type": "stream",
     "text": [
      "イギリス\n",
      "イギリス連邦加盟国\n",
      "英連邦王国\n",
      "G8加盟国\n",
      "欧州連合加盟国\n",
      "海洋国家\n",
      "現存する君主国\n",
      "島国\n",
      "1801年に成立した国家・領域\n"
     ]
    }
   ],
   "source": [
    "category_name = re.compile(r'\\[\\[Category:(.*?)[|\\]]')\n",
    "\n",
    "with open('uk.txt') as f:\n",
    "    for line in f:\n",
    "        line = line.rstrip()\n",
    "        line_match = category_name.match(line)\n",
    "        if line_match:\n",
    "            print(line_match.group(1))"
   ]
  },
  {
   "cell_type": "markdown",
   "id": "c0c7a46a-4efa-4546-8d59-febbf84a184d",
   "metadata": {},
   "source": [
    "## 23. セクション構造\n",
    "記事中に含まれるセクション名とそのレベル（例えば”== セクション名 ==”なら1）を表示せよ．"
   ]
  },
  {
   "cell_type": "code",
   "execution_count": 59,
   "id": "34d6f3b2-b911-4de6-b8d9-b74a43f6e57a",
   "metadata": {},
   "outputs": [
    {
     "name": "stdout",
     "output_type": "stream",
     "text": [
      "国名 1\n",
      "歴史 1\n",
      "地理 1\n",
      "主要都市 2\n",
      "気候 2\n",
      "政治 1\n",
      "元首 2\n",
      "法 2\n",
      "内政 2\n",
      "地方行政区分 2\n",
      "外交・軍事 2\n",
      "経済 1\n",
      "鉱業 2\n",
      "農業 2\n",
      "貿易 2\n",
      "不動産 2\n",
      "エネルギー政策 2\n",
      "通貨 2\n",
      "企業 2\n",
      "通信 3\n",
      "交通 1\n",
      "道路 2\n",
      "鉄道 2\n",
      "海運 2\n",
      "航空 2\n",
      "科学技術 1\n",
      "国民 1\n",
      "言語 2\n",
      "宗教 2\n",
      "婚姻 2\n",
      "移住 2\n",
      "教育 2\n",
      "医療 2\n",
      "文化 1\n",
      "食文化 2\n",
      "文学 2\n",
      "哲学 2\n",
      "音楽 2\n",
      "ポピュラー音楽 3\n",
      "映画 2\n",
      "コメディ 2\n",
      "国花 2\n",
      "世界遺産 2\n",
      "祝祭日 2\n",
      "スポーツ 2\n",
      "サッカー 3\n",
      "クリケット 3\n",
      "競馬 3\n",
      "モータースポーツ 3\n",
      "野球 3\n",
      "カーリング  3\n",
      "自転車競技  3\n",
      "脚注 1\n",
      "関連項目 1\n",
      "外部リンク 1\n"
     ]
    }
   ],
   "source": [
    "section = re.compile(r'(={2,})\\s*(.+?)={2,}')\n",
    "\n",
    "with open('uk.txt') as f:\n",
    "    for line in f:\n",
    "        line = line.rstrip()\n",
    "        sec_m = section.match(line)\n",
    "        if sec_m:\n",
    "            print(sec_m.group(2),len(sec_m.group(1))-1)"
   ]
  },
  {
   "cell_type": "markdown",
   "id": "3918dd68-aa9f-4edf-92af-2a1088cb7d28",
   "metadata": {},
   "source": [
    "## 24. ファイル参照の抽出\n",
    "記事から参照されているメディアファイルをすべて抜き出せ"
   ]
  },
  {
   "cell_type": "code",
   "execution_count": 61,
   "id": "d439ce41-4670-45a5-b47e-3cfe80feb321",
   "metadata": {},
   "outputs": [
    {
     "name": "stdout",
     "output_type": "stream",
     "text": [
      "['Royal Coat of Arms of the United Kingdom.svg']\n",
      "['United States Navy Band - God Save the Queen.ogg']\n",
      "['Descriptio Prime Tabulae Europae.jpg']\n",
      "[\"Lenepveu, Jeanne d'Arc au siège d'Orléans.jpg\"]\n",
      "['London.bankofengland.arp.jpg']\n",
      "['Battle of Waterloo 1815.PNG']\n",
      "['Uk topo en.jpg']\n",
      "['BenNevis2005.jpg']\n",
      "['Population density UK 2011 census.png']\n",
      "['2019 Greenwich Peninsula & Canary Wharf.jpg', 'Birmingham Skyline from Edgbaston Cricket Ground crop.jpg']\n",
      "['Leeds CBD at night.jpg', 'Glasgow and the Clyde from the air (geograph 4665720).jpg']\n",
      "['Palace of Westminster, London - Feb 2007.jpg']\n",
      "['Scotland Parliament Holyrood.jpg']\n",
      "['Donald Trump and Theresa May (33998675310) (cropped).jpg']\n",
      "['Soldiers Trooping the Colour, 16th June 2007.jpg']\n",
      "['City of London skyline from London City Hall - Oct 2008.jpg']\n",
      "['Oil platform in the North SeaPros.jpg']\n",
      "['Eurostar at St Pancras Jan 2008.jpg']\n",
      "['Heathrow Terminal 5C Iwelumo-1.jpg', 'Airbus A380-841 G-XLEB British Airways (10424102995).jpg']\n",
      "['UKpop.svg']\n",
      "['Anglospeak.svg']\n",
      "[\"Royal Aberdeen Children's Hospital.jpg\"]\n",
      "['CHANDOS3.jpg']\n",
      "['The Fabs.JPG']\n",
      "['Wembley Stadium, illuminated.jpg']\n"
     ]
    }
   ],
   "source": [
    "media = re.compile(r'\\[\\[ファイル:(.+?)[|\\]]')\n",
    "\n",
    "with open('uk.txt') as f:\n",
    "    for line in f:\n",
    "        line = line.rstrip()\n",
    "        m_file = media.findall(line)\n",
    "        if m_file:\n",
    "            print(m_file)"
   ]
  },
  {
   "cell_type": "markdown",
   "id": "93d34a83-773c-4cd5-8a80-c7b3c2eeba65",
   "metadata": {},
   "source": [
    "## 25. テンプレートの抽出\n",
    "記事中に含まれる「基礎情報」テンプレートのフィールド名と値を抽出し，辞書オブジェクトとして格納せよ．"
   ]
  },
  {
   "cell_type": "code",
   "execution_count": 44,
   "id": "1cc7c34a-443a-4509-babd-5fddac987d07",
   "metadata": {},
   "outputs": [],
   "source": [
    "import re\n",
    "target = re.compile(r'^\\|(.+?)\\s*=\\s*(.+)')\n",
    "end = re.compile(r'^\\}\\}')\n",
    "fields = {}\n",
    "\n",
    "with open('uk.txt') as f:\n",
    "    for l in f:\n",
    "        if end.match(l):\n",
    "            break\n",
    "        else:\n",
    "            target_m = target.match(l)\n",
    "            if target_m:\n",
    "                fields[target_m[1]] = target_m[2]"
   ]
  },
  {
   "cell_type": "code",
   "execution_count": 45,
   "id": "1664342d-d1c5-4fa4-afc9-b64bb3d57cbe",
   "metadata": {},
   "outputs": [
    {
     "data": {
      "text/plain": [
       "{'略名': 'イギリス',\n",
       " '日本語国名': 'グレートブリテン及び北アイルランド連合王国',\n",
       " '公式国名': '{{lang|en|United Kingdom of Great Britain and Northern Ireland}}<ref>英語以外での正式国名:<br />',\n",
       " '国旗画像': 'Flag of the United Kingdom.svg',\n",
       " '国章画像': '[[ファイル:Royal Coat of Arms of the United Kingdom.svg|85px|イギリスの国章]]',\n",
       " '国章リンク': '（[[イギリスの国章|国章]]）',\n",
       " '標語': '{{lang|fr|[[Dieu et mon droit]]}}<br />（[[フランス語]]:[[Dieu et mon droit|神と我が権利]]）',\n",
       " '国歌': \"[[女王陛下万歳|{{lang|en|God Save the Queen}}]]{{en icon}}<br />''神よ女王を護り賜え''<br />{{center|[[ファイル:United States Navy Band - God Save the Queen.ogg]]}}\",\n",
       " '地図画像': 'Europe-UK.svg',\n",
       " '位置画像': 'United Kingdom (+overseas territories) in the World (+Antarctica claims).svg',\n",
       " '公用語': '[[英語]]',\n",
       " '首都': '[[ロンドン]]（事実上）',\n",
       " '最大都市': 'ロンドン',\n",
       " '元首等肩書': '[[イギリスの君主|女王]]',\n",
       " '元首等氏名': '[[エリザベス2世]]',\n",
       " '首相等肩書': '[[イギリスの首相|首相]]',\n",
       " '首相等氏名': '[[ボリス・ジョンソン]]',\n",
       " '他元首等肩書1': '[[貴族院 (イギリス)|貴族院議長]]',\n",
       " '他元首等氏名1': '[[:en:Norman Fowler, Baron Fowler|ノーマン・ファウラー]]',\n",
       " '他元首等肩書2': '[[庶民院 (イギリス)|庶民院議長]]',\n",
       " '他元首等氏名2': '{{仮リンク|リンゼイ・ホイル|en|Lindsay Hoyle}}',\n",
       " '他元首等肩書3': '[[連合王国最高裁判所|最高裁判所長官]]',\n",
       " '他元首等氏名3': '[[:en:Brenda Hale, Baroness Hale of Richmond|ブレンダ・ヘイル]]',\n",
       " '面積順位': '76',\n",
       " '面積大きさ': '1 E11',\n",
       " '面積値': '244,820',\n",
       " '水面積率': '1.3%',\n",
       " '人口統計年': '2018',\n",
       " '人口順位': '22',\n",
       " '人口大きさ': '1 E7',\n",
       " '人口値': '6643万5600<ref>{{Cite web|url=https://www.ons.gov.uk/peoplepopulationandcommunity/populationandmigration/populationestimates|title=Population estimates - Office for National Statistics|accessdate=2019-06-26|date=2019-06-26}}</ref>',\n",
       " '人口密度値': '271',\n",
       " 'GDP統計年元': '2012',\n",
       " 'GDP値元': '1兆5478億<ref name=\"imf-statistics-gdp\">[http://www.imf.org/external/pubs/ft/weo/2012/02/weodata/weorept.aspx?pr.x=70&pr.y=13&sy=2010&ey=2012&scsm=1&ssd=1&sort=country&ds=.&br=1&c=112&s=NGDP%2CNGDPD%2CPPPGDP%2CPPPPC&grp=0&a=IMF>Data and Statistics>World Economic Outlook Databases>By Countrise>United Kingdom]</ref>',\n",
       " 'GDP統計年MER': '2012',\n",
       " 'GDP順位MER': '6',\n",
       " 'GDP値MER': '2兆4337億<ref name=\"imf-statistics-gdp\" />',\n",
       " 'GDP統計年': '2012',\n",
       " 'GDP順位': '6',\n",
       " 'GDP値': '2兆3162億<ref name=\"imf-statistics-gdp\" />',\n",
       " 'GDP/人': '36,727<ref name=\"imf-statistics-gdp\" />',\n",
       " '建国形態': '建国',\n",
       " '確立形態1': '[[イングランド王国]]／[[スコットランド王国]]<br />（両国とも[[合同法 (1707年)|1707年合同法]]まで）',\n",
       " '確立年月日1': '927年／843年',\n",
       " '確立形態2': '[[グレートブリテン王国]]成立<br />（1707年合同法）',\n",
       " '確立年月日2': '1707年{{0}}5月{{0}}1日',\n",
       " '確立形態3': '[[グレートブリテン及びアイルランド連合王国]]成立<br />（[[合同法 (1800年)|1800年合同法]]）',\n",
       " '確立年月日3': '1801年{{0}}1月{{0}}1日',\n",
       " '確立形態4': \"現在の国号「'''グレートブリテン及び北アイルランド連合王国'''」に変更\",\n",
       " '確立年月日4': '1927年{{0}}4月12日',\n",
       " '通貨': '[[スターリング・ポンド|UKポンド]] (£)',\n",
       " '通貨コード': 'GBP',\n",
       " '時間帯': '±0',\n",
       " '夏時間': '+1',\n",
       " 'ISO 3166-1': 'GB / GBR',\n",
       " 'ccTLD': '[[.uk]] / [[.gb]]<ref>使用は.ukに比べ圧倒的少数。</ref>',\n",
       " '国際電話番号': '44',\n",
       " '注記': '<references/>'}"
      ]
     },
     "execution_count": 45,
     "metadata": {},
     "output_type": "execute_result"
    }
   ],
   "source": [
    "fields"
   ]
  },
  {
   "cell_type": "markdown",
   "id": "6ae342e6-3307-48fa-809f-530541b163fc",
   "metadata": {},
   "source": [
    "## 26. 強調マークアップの除去\n",
    "25の処理時に，テンプレートの値からMediaWikiの強調マークアップ（弱い強調，強調，強い強調のすべて）を除去してテキストに変換せよ（参考: マークアップ早見表）．"
   ]
  },
  {
   "cell_type": "code",
   "execution_count": 54,
   "id": "fd09dbab-332f-4077-b20e-bd01437720be",
   "metadata": {},
   "outputs": [],
   "source": [
    "# import re\n",
    "# target = re.compile(r'^\\|(.+?)\\s*=\\s*(.+)')\n",
    "# end = re.compile(r'^\\}\\}')\n",
    "# fields = {}\n",
    "\n",
    "# with open('uk.txt') as f:\n",
    "#     for l in f:\n",
    "#         if end.match(l):\n",
    "#             break\n",
    "#         else:\n",
    "#             target_m = target.match(l)\n",
    "#             if target_m:\n",
    "#                 fields[target_m[1]] = target_m[2]\n",
    "\n",
    "rem = re.compile(r'\\'{2,5}')\n",
    "fields_ns = {}\n",
    "\n",
    "for k, v in fields.items():\n",
    "    v = rem.sub('', v)\n",
    "    fields_ns[k] = v"
   ]
  },
  {
   "cell_type": "code",
   "execution_count": 55,
   "id": "de7dfbee-57dd-422e-96de-70535a39448a",
   "metadata": {},
   "outputs": [
    {
     "data": {
      "text/plain": [
       "{'略名': 'イギリス',\n",
       " '日本語国名': 'グレートブリテン及び北アイルランド連合王国',\n",
       " '公式国名': '{{lang|en|United Kingdom of Great Britain and Northern Ireland}}<ref>英語以外での正式国名:<br />',\n",
       " '国旗画像': 'Flag of the United Kingdom.svg',\n",
       " '国章画像': '[[ファイル:Royal Coat of Arms of the United Kingdom.svg|85px|イギリスの国章]]',\n",
       " '国章リンク': '（[[イギリスの国章|国章]]）',\n",
       " '標語': '{{lang|fr|[[Dieu et mon droit]]}}<br />（[[フランス語]]:[[Dieu et mon droit|神と我が権利]]）',\n",
       " '国歌': '[[女王陛下万歳|{{lang|en|God Save the Queen}}]]{{en icon}}<br />神よ女王を護り賜え<br />{{center|[[ファイル:United States Navy Band - God Save the Queen.ogg]]}}',\n",
       " '地図画像': 'Europe-UK.svg',\n",
       " '位置画像': 'United Kingdom (+overseas territories) in the World (+Antarctica claims).svg',\n",
       " '公用語': '[[英語]]',\n",
       " '首都': '[[ロンドン]]（事実上）',\n",
       " '最大都市': 'ロンドン',\n",
       " '元首等肩書': '[[イギリスの君主|女王]]',\n",
       " '元首等氏名': '[[エリザベス2世]]',\n",
       " '首相等肩書': '[[イギリスの首相|首相]]',\n",
       " '首相等氏名': '[[ボリス・ジョンソン]]',\n",
       " '他元首等肩書1': '[[貴族院 (イギリス)|貴族院議長]]',\n",
       " '他元首等氏名1': '[[:en:Norman Fowler, Baron Fowler|ノーマン・ファウラー]]',\n",
       " '他元首等肩書2': '[[庶民院 (イギリス)|庶民院議長]]',\n",
       " '他元首等氏名2': '{{仮リンク|リンゼイ・ホイル|en|Lindsay Hoyle}}',\n",
       " '他元首等肩書3': '[[連合王国最高裁判所|最高裁判所長官]]',\n",
       " '他元首等氏名3': '[[:en:Brenda Hale, Baroness Hale of Richmond|ブレンダ・ヘイル]]',\n",
       " '面積順位': '76',\n",
       " '面積大きさ': '1 E11',\n",
       " '面積値': '244,820',\n",
       " '水面積率': '1.3%',\n",
       " '人口統計年': '2018',\n",
       " '人口順位': '22',\n",
       " '人口大きさ': '1 E7',\n",
       " '人口値': '6643万5600<ref>{{Cite web|url=https://www.ons.gov.uk/peoplepopulationandcommunity/populationandmigration/populationestimates|title=Population estimates - Office for National Statistics|accessdate=2019-06-26|date=2019-06-26}}</ref>',\n",
       " '人口密度値': '271',\n",
       " 'GDP統計年元': '2012',\n",
       " 'GDP値元': '1兆5478億<ref name=\"imf-statistics-gdp\">[http://www.imf.org/external/pubs/ft/weo/2012/02/weodata/weorept.aspx?pr.x=70&pr.y=13&sy=2010&ey=2012&scsm=1&ssd=1&sort=country&ds=.&br=1&c=112&s=NGDP%2CNGDPD%2CPPPGDP%2CPPPPC&grp=0&a=IMF>Data and Statistics>World Economic Outlook Databases>By Countrise>United Kingdom]</ref>',\n",
       " 'GDP統計年MER': '2012',\n",
       " 'GDP順位MER': '6',\n",
       " 'GDP値MER': '2兆4337億<ref name=\"imf-statistics-gdp\" />',\n",
       " 'GDP統計年': '2012',\n",
       " 'GDP順位': '6',\n",
       " 'GDP値': '2兆3162億<ref name=\"imf-statistics-gdp\" />',\n",
       " 'GDP/人': '36,727<ref name=\"imf-statistics-gdp\" />',\n",
       " '建国形態': '建国',\n",
       " '確立形態1': '[[イングランド王国]]／[[スコットランド王国]]<br />（両国とも[[合同法 (1707年)|1707年合同法]]まで）',\n",
       " '確立年月日1': '927年／843年',\n",
       " '確立形態2': '[[グレートブリテン王国]]成立<br />（1707年合同法）',\n",
       " '確立年月日2': '1707年{{0}}5月{{0}}1日',\n",
       " '確立形態3': '[[グレートブリテン及びアイルランド連合王国]]成立<br />（[[合同法 (1800年)|1800年合同法]]）',\n",
       " '確立年月日3': '1801年{{0}}1月{{0}}1日',\n",
       " '確立形態4': '現在の国号「グレートブリテン及び北アイルランド連合王国」に変更',\n",
       " '確立年月日4': '1927年{{0}}4月12日',\n",
       " '通貨': '[[スターリング・ポンド|UKポンド]] (£)',\n",
       " '通貨コード': 'GBP',\n",
       " '時間帯': '±0',\n",
       " '夏時間': '+1',\n",
       " 'ISO 3166-1': 'GB / GBR',\n",
       " 'ccTLD': '[[.uk]] / [[.gb]]<ref>使用は.ukに比べ圧倒的少数。</ref>',\n",
       " '国際電話番号': '44',\n",
       " '注記': '<references/>'}"
      ]
     },
     "execution_count": 55,
     "metadata": {},
     "output_type": "execute_result"
    }
   ],
   "source": [
    "fields_ns"
   ]
  },
  {
   "cell_type": "code",
   "execution_count": 231,
   "id": "fbbaaf6e-811c-4525-a218-8286f37c0ce2",
   "metadata": {},
   "outputs": [],
   "source": [
    "import re\n",
    "target = re.compile(r'^\\|(.+?)\\s*=\\s*(.+)')\n",
    "end = re.compile(r'^\\}\\}')\n",
    "fields_nsp = {}\n",
    "\n",
    "with open('uk.txt') as f:\n",
    "    for l in f:\n",
    "        if end.match(l):\n",
    "            break\n",
    "        else:\n",
    "            target_m = target.match(l)\n",
    "            if target_m:\n",
    "                fields_nsp[target_m[1]] = target_m[2]"
   ]
  },
  {
   "cell_type": "code",
   "execution_count": 232,
   "id": "5a83424b-592e-402a-a2ea-2fca2cadab52",
   "metadata": {},
   "outputs": [
    {
     "data": {
      "text/plain": [
       "{'略名  ': 'イギリス\\n',\n",
       " '日本語国名 ': 'グレートブリテン及び北アイルランド連合王国\\n',\n",
       " '公式国名 ': '{{lang|en|United Kingdom of Great Britain and Northern Ireland}}<ref>英語以外での正式国名:<br />\\n',\n",
       " '国旗画像 ': 'Flag of the United Kingdom.svg\\n',\n",
       " '国章画像 ': '[[ファイル:Royal Coat of Arms of the United Kingdom.svg|85px|イギリスの国章]]\\n',\n",
       " '国章リンク ': '（[[イギリスの国章|国章]]）\\n',\n",
       " '標語 ': '{{lang|fr|[[Dieu et mon droit]]}}<br />（[[フランス語]]:[[Dieu et mon droit|神と我が権利]]）\\n',\n",
       " '国歌 ': '[[女王陛下万歳|{{lang|en|God Save the Queen}}]]{{en icon}}<br />',\n",
       " '地図画像 ': 'Europe-UK.svg\\n',\n",
       " '位置画像 ': 'United Kingdom (+overseas territories) in the World (+Antarctica claims).svg\\n',\n",
       " '公用語 ': '[[英語]]\\n',\n",
       " '首都 ': '[[ロンドン]]（事実上）\\n',\n",
       " '最大都市 ': 'ロンドン\\n',\n",
       " '元首等肩書 ': '[[イギリスの君主|女王]]\\n',\n",
       " '元首等氏名 ': '[[エリザベス2世]]\\n',\n",
       " '首相等肩書 ': '[[イギリスの首相|首相]]\\n',\n",
       " '首相等氏名 ': '[[ボリス・ジョンソン]]\\n',\n",
       " '他元首等肩書1 ': '[[貴族院 (イギリス)|貴族院議長]]\\n',\n",
       " '他元首等氏名1 ': '[[:en:Norman Fowler, Baron Fowler|ノーマン・ファウラー]]\\n',\n",
       " '他元首等肩書2 ': '[[庶民院 (イギリス)|庶民院議長]]\\n',\n",
       " '他元首等氏名2 ': '{{仮リンク|リンゼイ・ホイル|en|Lindsay Hoyle}}\\n',\n",
       " '他元首等肩書3 ': '[[連合王国最高裁判所|最高裁判所長官]]\\n',\n",
       " '他元首等氏名3 ': '[[:en:Brenda Hale, Baroness Hale of Richmond|ブレンダ・ヘイル]]\\n',\n",
       " '面積順位 ': '76\\n',\n",
       " '面積大きさ ': '1 E11\\n',\n",
       " '面積値 ': '244,820\\n',\n",
       " '水面積率 ': '1.3%\\n',\n",
       " '人口統計年 ': '2018\\n',\n",
       " '人口順位 ': '22\\n',\n",
       " '人口大きさ ': '1 E7\\n',\n",
       " '人口値 = 6643万5600<ref>{{Cite web|url=https://www.ons.gov.uk/peoplepopulationandcommunity/populationandmigration/populationestimates|title=Population estimates - Office for National Statistics|accessdate=2019-06-26|date': '2019-06-26}}</ref>\\n',\n",
       " '人口密度値 ': '271\\n',\n",
       " 'GDP統計年元 ': '2012\\n',\n",
       " 'GDP値元 = 1兆5478億<ref name=\"imf-statistics-gdp\">[http://www.imf.org/external/pubs/ft/weo/2012/02/weodata/weorept.aspx?pr.x=70&pr.y=13&sy=2010&ey=2012&scsm=1&ssd=1&sort=country&ds=.&br=1&c=112&s=NGDP%2CNGDPD%2CPPPGDP%2CPPPPC&grp=0&a': 'IMF>Data and Statistics>World Economic Outlook Databases>By Countrise>United Kingdom]</ref>\\n',\n",
       " 'GDP統計年MER ': '2012\\n',\n",
       " 'GDP順位MER ': '6\\n',\n",
       " 'GDP値MER = 2兆4337億<ref name': '\"imf-statistics-gdp\" />\\n',\n",
       " 'GDP統計年 ': '2012\\n',\n",
       " 'GDP順位 ': '6\\n',\n",
       " 'GDP値 = 2兆3162億<ref name': '\"imf-statistics-gdp\" />\\n',\n",
       " 'GDP/人 = 36,727<ref name': '\"imf-statistics-gdp\" />\\n',\n",
       " '建国形態 ': '建国\\n',\n",
       " '確立形態1 ': '[[イングランド王国]]／[[スコットランド王国]]<br />（両国とも[[合同法 (1707年)|1707年合同法]]まで）\\n',\n",
       " '確立年月日1 ': '927年／843年\\n',\n",
       " '確立形態2 ': '[[グレートブリテン王国]]成立<br />（1707年合同法）\\n',\n",
       " '確立年月日2 ': '1707年{{0}}5月{{0}}1日\\n',\n",
       " '確立形態3 ': '[[グレートブリテン及びアイルランド連合王国]]成立<br />（[[合同法 (1800年)|1800年合同法]]）\\n',\n",
       " '確立年月日3 ': '1801年{{0}}1月{{0}}1日\\n',\n",
       " '確立形態4 ': '現在の国号「',\n",
       " '確立年月日4 ': '1927年{{0}}4月12日\\n',\n",
       " '通貨 ': '[[スターリング・ポンド|UKポンド]] (£)\\n',\n",
       " '通貨コード ': 'GBP\\n',\n",
       " '時間帯 ': '±0\\n',\n",
       " '夏時間 ': '+1\\n',\n",
       " 'ISO 3166-1 ': 'GB / GBR\\n',\n",
       " 'ccTLD ': '[[.uk]] / [[.gb]]<ref>使用は.ukに比べ圧倒的少数。</ref>\\n',\n",
       " '国際電話番号 ': '44\\n',\n",
       " '注記 ': '<references/>\\n'}"
      ]
     },
     "execution_count": 232,
     "metadata": {},
     "output_type": "execute_result"
    }
   ],
   "source": [
    "fields_nsp"
   ]
  },
  {
   "cell_type": "markdown",
   "id": "f5b4cb8d-22f5-4a07-827e-3c79ef4b2d2b",
   "metadata": {},
   "source": [
    "## 27. 内部リンクの除去\n",
    "26の処理に加えて，テンプレートの値からMediaWikiの内部リンクマークアップを除去し，テキストに変換せよ"
   ]
  },
  {
   "cell_type": "code",
   "execution_count": 155,
   "id": "3a007214-f62c-4af3-819a-a45fc7102709",
   "metadata": {},
   "outputs": [],
   "source": [
    "# import re\n",
    "# target = re.compile(r'^\\|(.+?)\\s*=\\s*(.+)')\n",
    "# end = re.compile(r'^\\}\\}')\n",
    "# fields = {}\n",
    "\n",
    "# with open('uk.txt') as f:\n",
    "#     for l in f:\n",
    "#         if end.match(l):\n",
    "#             break\n",
    "#         else:\n",
    "#             target_m = target.match(l)\n",
    "#             if target_m:\n",
    "#                 fields[target_m[1]] = target_m[2]\n",
    "\n",
    "# rem = re.compile(r'\\'{2,5}')\n",
    "# fields_ns = {}\n",
    "\n",
    "# for k, v in fields.items():\n",
    "#     v = rem.sub('', v)\n",
    "#     fields_ns[k] = v\n",
    "\n",
    "rem_l = re.compile(r'\\[\\[(?!ファイル:)([^\\[\\]\\|]+)\\|*.*?\\]\\]')\n",
    "fields_txt = {}\n",
    "\n",
    "for k, v in fields_ns.items():\n",
    "    v = rem_l.sub('\\g<1>', v)\n",
    "    fields_txt[k] = v"
   ]
  },
  {
   "cell_type": "code",
   "execution_count": 156,
   "id": "88256f1f-11b2-462b-94ee-4d97f076bdca",
   "metadata": {},
   "outputs": [
    {
     "data": {
      "text/plain": [
       "{'略名': 'イギリス',\n",
       " '日本語国名': 'グレートブリテン及び北アイルランド連合王国',\n",
       " '公式国名': '{{lang|en|United Kingdom of Great Britain and Northern Ireland}}<ref>英語以外での正式国名:<br />',\n",
       " '国旗画像': 'Flag of the United Kingdom.svg',\n",
       " '国章画像': '[[ファイル:Royal Coat of Arms of the United Kingdom.svg|85px|イギリスの国章]]',\n",
       " '国章リンク': '（イギリスの国章）',\n",
       " '標語': '{{lang|fr|Dieu et mon droit}}<br />（フランス語:Dieu et mon droit）',\n",
       " '国歌': '女王陛下万歳{{en icon}}<br />神よ女王を護り賜え<br />{{center|[[ファイル:United States Navy Band - God Save the Queen.ogg]]}}',\n",
       " '地図画像': 'Europe-UK.svg',\n",
       " '位置画像': 'United Kingdom (+overseas territories) in the World (+Antarctica claims).svg',\n",
       " '公用語': '英語',\n",
       " '首都': 'ロンドン（事実上）',\n",
       " '最大都市': 'ロンドン',\n",
       " '元首等肩書': 'イギリスの君主',\n",
       " '元首等氏名': 'エリザベス2世',\n",
       " '首相等肩書': 'イギリスの首相',\n",
       " '首相等氏名': 'ボリス・ジョンソン',\n",
       " '他元首等肩書1': '貴族院 (イギリス)',\n",
       " '他元首等氏名1': ':en:Norman Fowler, Baron Fowler',\n",
       " '他元首等肩書2': '庶民院 (イギリス)',\n",
       " '他元首等氏名2': '{{仮リンク|リンゼイ・ホイル|en|Lindsay Hoyle}}',\n",
       " '他元首等肩書3': '連合王国最高裁判所',\n",
       " '他元首等氏名3': ':en:Brenda Hale, Baroness Hale of Richmond',\n",
       " '面積順位': '76',\n",
       " '面積大きさ': '1 E11',\n",
       " '面積値': '244,820',\n",
       " '水面積率': '1.3%',\n",
       " '人口統計年': '2018',\n",
       " '人口順位': '22',\n",
       " '人口大きさ': '1 E7',\n",
       " '人口値': '6643万5600<ref>{{Cite web|url=https://www.ons.gov.uk/peoplepopulationandcommunity/populationandmigration/populationestimates|title=Population estimates - Office for National Statistics|accessdate=2019-06-26|date=2019-06-26}}</ref>',\n",
       " '人口密度値': '271',\n",
       " 'GDP統計年元': '2012',\n",
       " 'GDP値元': '1兆5478億<ref name=\"imf-statistics-gdp\">[http://www.imf.org/external/pubs/ft/weo/2012/02/weodata/weorept.aspx?pr.x=70&pr.y=13&sy=2010&ey=2012&scsm=1&ssd=1&sort=country&ds=.&br=1&c=112&s=NGDP%2CNGDPD%2CPPPGDP%2CPPPPC&grp=0&a=IMF>Data and Statistics>World Economic Outlook Databases>By Countrise>United Kingdom]</ref>',\n",
       " 'GDP統計年MER': '2012',\n",
       " 'GDP順位MER': '6',\n",
       " 'GDP値MER': '2兆4337億<ref name=\"imf-statistics-gdp\" />',\n",
       " 'GDP統計年': '2012',\n",
       " 'GDP順位': '6',\n",
       " 'GDP値': '2兆3162億<ref name=\"imf-statistics-gdp\" />',\n",
       " 'GDP/人': '36,727<ref name=\"imf-statistics-gdp\" />',\n",
       " '建国形態': '建国',\n",
       " '確立形態1': 'イングランド王国／スコットランド王国<br />（両国とも合同法 (1707年)まで）',\n",
       " '確立年月日1': '927年／843年',\n",
       " '確立形態2': 'グレートブリテン王国成立<br />（1707年合同法）',\n",
       " '確立年月日2': '1707年{{0}}5月{{0}}1日',\n",
       " '確立形態3': 'グレートブリテン及びアイルランド連合王国成立<br />（合同法 (1800年)）',\n",
       " '確立年月日3': '1801年{{0}}1月{{0}}1日',\n",
       " '確立形態4': '現在の国号「グレートブリテン及び北アイルランド連合王国」に変更',\n",
       " '確立年月日4': '1927年{{0}}4月12日',\n",
       " '通貨': 'スターリング・ポンド (£)',\n",
       " '通貨コード': 'GBP',\n",
       " '時間帯': '±0',\n",
       " '夏時間': '+1',\n",
       " 'ISO 3166-1': 'GB / GBR',\n",
       " 'ccTLD': '.uk / .gb<ref>使用は.ukに比べ圧倒的少数。</ref>',\n",
       " '国際電話番号': '44',\n",
       " '注記': '<references/>'}"
      ]
     },
     "execution_count": 156,
     "metadata": {},
     "output_type": "execute_result"
    }
   ],
   "source": [
    "fields_txt"
   ]
  },
  {
   "cell_type": "markdown",
   "id": "b82b015a-ad28-4add-91d2-ca00cb1421a9",
   "metadata": {},
   "source": [
    "## 28. MediaWikiマークアップの除去\n",
    "27の処理に加えて，テンプレートの値からMediaWikiマークアップを可能な限り除去し，国の基本情報を整形せよ．"
   ]
  },
  {
   "cell_type": "code",
   "execution_count": 223,
   "id": "dd5290e2-7aa7-412a-96fc-75d6ec6b3a33",
   "metadata": {},
   "outputs": [],
   "source": [
    "# import re\n",
    "# target = re.compile(r'^\\|(.+?)\\s*=\\s*(.+)')\n",
    "# end = re.compile(r'^\\}\\}')\n",
    "# fields = {}\n",
    "\n",
    "# with open('uk.txt') as f:\n",
    "#     for l in f:\n",
    "#         if end.match(l):\n",
    "#             break\n",
    "#         else:\n",
    "#             target_m = target.match(l)\n",
    "#             if target_m:\n",
    "#                 fields[target_m[1]] = target_m[2]\n",
    "\n",
    "# rem = re.compile(r'\\'{2,5}')\n",
    "# fields_ns = {}\n",
    "\n",
    "# for k, v in fields.items():\n",
    "#     v = rem.sub('', v)\n",
    "#     fields_ns[k] = v\n",
    "\n",
    "# rem_l = re.compile(r'\\[\\[|[|\\#].+?\\]\\]|\\]\\]')\n",
    "# fields_txt = {}\n",
    "\n",
    "# for k, v in fields_ns.items():\n",
    "#     v = rem_l.sub('', v)\n",
    "#     fields_txt[k] = v\n",
    "\n",
    "rem_t = re.compile(r'<.+>')\n",
    "rem_f = re.compile(r'\\[\\[ファイル:([^\\[\\]\\|]+)\\|*.*\\]\\]')\n",
    "rem_i = re.compile(r'^（(.+)）')\n",
    "rem_te = re.compile(r'\\{\\{仮リンク\\|([^|]+)\\|*.*\\}\\}')\n",
    "rem_la = re.compile(r'\\{\\{lang\\|.+\\|(.+)\\}\\}')\n",
    "rem_c = re.compile(r'\\{\\{.+\\}\\}')\n",
    "result1 = {}\n",
    "\n",
    "for k, v in fields_txt.items():\n",
    "    v = rem_t.sub('', v)\n",
    "    v = rem_f.sub('\\g<1>', v)\n",
    "    v = rem_i.sub('\\g<1>', v)\n",
    "    v = rem_te.sub('\\g<1>', v)\n",
    "    v = rem_la.sub('\\g<1>', v)\n",
    "    v = rem_c.sub('', v)\n",
    "    result[k] = v"
   ]
  },
  {
   "cell_type": "code",
   "execution_count": 224,
   "id": "1d233b5b-3970-49a5-abc3-e9e19a491335",
   "metadata": {},
   "outputs": [
    {
     "data": {
      "text/plain": [
       "{'略名': 'イギリス',\n",
       " '日本語国名': 'グレートブリテン及び北アイルランド連合王国',\n",
       " '公式国名': 'United Kingdom of Great Britain and Northern Ireland',\n",
       " '国旗画像': 'Flag of the United Kingdom.svg',\n",
       " '国章画像': 'Royal Coat of Arms of the United Kingdom.svg',\n",
       " '国章リンク': 'イギリスの国章',\n",
       " '標語': 'Dieu et mon droit（フランス語:Dieu et mon droit）',\n",
       " '国歌': '女王陛下万歳',\n",
       " '地図画像': 'Europe-UK.svg',\n",
       " '位置画像': 'United Kingdom (+overseas territories) in the World (+Antarctica claims).svg',\n",
       " '公用語': '英語',\n",
       " '首都': 'ロンドン（事実上）',\n",
       " '最大都市': 'ロンドン',\n",
       " '元首等肩書': 'イギリスの君主',\n",
       " '元首等氏名': 'エリザベス2世',\n",
       " '首相等肩書': 'イギリスの首相',\n",
       " '首相等氏名': 'ボリス・ジョンソン',\n",
       " '他元首等肩書1': '貴族院 (イギリス)',\n",
       " '他元首等氏名1': ':en:Norman Fowler, Baron Fowler',\n",
       " '他元首等肩書2': '庶民院 (イギリス)',\n",
       " '他元首等氏名2': 'リンゼイ・ホイル',\n",
       " '他元首等肩書3': '連合王国最高裁判所',\n",
       " '他元首等氏名3': ':en:Brenda Hale, Baroness Hale of Richmond',\n",
       " '面積順位': '76',\n",
       " '面積大きさ': '1 E11',\n",
       " '面積値': '244,820',\n",
       " '水面積率': '1.3%',\n",
       " '人口統計年': '2018',\n",
       " '人口順位': '22',\n",
       " '人口大きさ': '1 E7',\n",
       " '人口値': '6643万5600',\n",
       " '人口密度値': '271',\n",
       " 'GDP統計年元': '2012',\n",
       " 'GDP値元': '1兆5478億',\n",
       " 'GDP統計年MER': '2012',\n",
       " 'GDP順位MER': '6',\n",
       " 'GDP値MER': '2兆4337億',\n",
       " 'GDP統計年': '2012',\n",
       " 'GDP順位': '6',\n",
       " 'GDP値': '2兆3162億',\n",
       " 'GDP/人': '36,727',\n",
       " '建国形態': '建国',\n",
       " '確立形態1': 'イングランド王国／スコットランド王国（両国とも合同法 (1707年)まで）',\n",
       " '確立年月日1': '927年／843年',\n",
       " '確立形態2': 'グレートブリテン王国成立（1707年合同法）',\n",
       " '確立年月日2': '1707年1日',\n",
       " '確立形態3': 'グレートブリテン及びアイルランド連合王国成立（合同法 (1800年)）',\n",
       " '確立年月日3': '1801年1日',\n",
       " '確立形態4': '現在の国号「グレートブリテン及び北アイルランド連合王国」に変更',\n",
       " '確立年月日4': '1927年4月12日',\n",
       " '通貨': 'スターリング・ポンド (£)',\n",
       " '通貨コード': 'GBP',\n",
       " '時間帯': '±0',\n",
       " '夏時間': '+1',\n",
       " 'ISO 3166-1': 'GB / GBR',\n",
       " 'ccTLD': '.uk / .gb',\n",
       " '国際電話番号': '44',\n",
       " '注記': ''}"
      ]
     },
     "execution_count": 224,
     "metadata": {},
     "output_type": "execute_result"
    }
   ],
   "source": [
    "result"
   ]
  },
  {
   "cell_type": "markdown",
   "id": "68e3f391-5e1c-4317-860c-d075671e9409",
   "metadata": {},
   "source": [
    "## 29. 国旗画像のURLを取得する\n",
    "テンプレートの内容を利用し，国旗画像のURLを取得せよ．（ヒント: MediaWiki APIのimageinfoを呼び出して，ファイル参照をURLに変換すればよい）"
   ]
  },
  {
   "cell_type": "code",
   "execution_count": 6,
   "id": "6b52816a-3701-4058-a2aa-0707bb78bcb5",
   "metadata": {},
   "outputs": [
    {
     "name": "stdout",
     "output_type": "stream",
     "text": [
      "File:Flag of the United Kingdom.svg is uploaded by User:https://upload.wikimedia.org/wikipedia/en/a/ae/Flag_of_the_United_Kingdom.svg\n"
     ]
    }
   ],
   "source": [
    "import requests\n",
    "\n",
    "S = requests.Session()\n",
    "\n",
    "URL = \"https://en.wikipedia.org/w/api.php\"\n",
    "\n",
    "PARAMS = {\n",
    "    \"action\": \"query\",\n",
    "    \"format\": \"json\",\n",
    "    \"prop\": \"imageinfo\",\n",
    "    \"titles\": \"File:Flag of the United Kingdom.svg\",\n",
    "    \"iiprop\": \"url\"\n",
    "}\n",
    "\n",
    "R = S.get(url=URL, params=PARAMS)\n",
    "DATA = R.json()\n",
    "\n",
    "PAGES = DATA[\"query\"][\"pages\"]\n",
    "\n",
    "for k, v in PAGES.items():\n",
    "    print(v[\"title\"] + \" is uploaded by User:\" + v[\"imageinfo\"][0][\"url\"])"
   ]
  },
  {
   "cell_type": "code",
   "execution_count": 7,
   "id": "79758168-e471-4470-b70e-46a10425c045",
   "metadata": {},
   "outputs": [
    {
     "name": "stdout",
     "output_type": "stream",
     "text": [
      "{'continue': {'iistart': '2011-10-03T04:05:02Z', 'continue': '||'}, 'query': {'pages': {'23473560': {'pageid': 23473560, 'ns': 6, 'title': 'File:Flag of the United Kingdom.svg', 'imagerepository': 'local', 'imageinfo': [{'url': 'https://upload.wikimedia.org/wikipedia/en/a/ae/Flag_of_the_United_Kingdom.svg', 'descriptionurl': 'https://en.wikipedia.org/wiki/File:Flag_of_the_United_Kingdom.svg', 'descriptionshorturl': 'https://en.wikipedia.org/w/index.php?curid=23473560'}]}}}}\n"
     ]
    }
   ],
   "source": [
    "print(DATA)"
   ]
  },
  {
   "cell_type": "code",
   "execution_count": null,
   "id": "e5c4731d-3f66-448d-a327-97bd330b9fb1",
   "metadata": {},
   "outputs": [],
   "source": []
  }
 ],
 "metadata": {
  "kernelspec": {
   "display_name": "Python 3 (ipykernel)",
   "language": "python",
   "name": "python3"
  },
  "language_info": {
   "codemirror_mode": {
    "name": "ipython",
    "version": 3
   },
   "file_extension": ".py",
   "mimetype": "text/x-python",
   "name": "python",
   "nbconvert_exporter": "python",
   "pygments_lexer": "ipython3",
   "version": "3.10.5"
  }
 },
 "nbformat": 4,
 "nbformat_minor": 5
}
