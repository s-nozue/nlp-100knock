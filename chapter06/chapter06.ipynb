{
 "cells": [
  {
   "cell_type": "code",
   "execution_count": 1,
   "id": "5e12e423-f3e6-4a07-a931-6059138fe2a2",
   "metadata": {},
   "outputs": [
    {
     "name": "stdout",
     "output_type": "stream",
     "text": [
      "--2023-06-07 18:26:25--  https://archive.ics.uci.edu/ml/machine-learning-databases/00359/NewsAggregatorDataset.zip\n",
      "archive.ics.uci.edu (archive.ics.uci.edu) をDNSに問いあわせています... 128.195.10.252\n",
      "archive.ics.uci.edu (archive.ics.uci.edu)|128.195.10.252|:443 に接続しています... 接続しました。\n",
      "HTTP による接続要求を送信しました、応答を待っています... 200 OK\n",
      "長さ: 29224203 (28M) [application/x-httpd-php]\n",
      "`NewsAggregatorDataset.zip' に保存中\n",
      "\n",
      "NewsAggregatorDatas 100%[===================>]  27.87M  2.12MB/s 時間 12s        \n",
      "\n",
      "2023-06-07 18:26:37 (2.33 MB/s) - `NewsAggregatorDataset.zip' へ保存完了 [29224203/29224203]\n",
      "\n"
     ]
    }
   ],
   "source": [
    "!wget https://archive.ics.uci.edu/ml/machine-learning-databases/00359/NewsAggregatorDataset.zip"
   ]
  },
  {
   "cell_type": "code",
   "execution_count": 2,
   "id": "c7cfd791",
   "metadata": {},
   "outputs": [
    {
     "name": "stdout",
     "output_type": "stream",
     "text": [
      "Archive:  NewsAggregatorDataset.zip\n",
      "  inflating: 2pageSessions.csv       \n",
      "   creating: __MACOSX/\n",
      "  inflating: __MACOSX/._2pageSessions.csv  \n",
      "  inflating: newsCorpora.csv         \n",
      "  inflating: __MACOSX/._newsCorpora.csv  \n",
      "  inflating: readme.txt              \n",
      "  inflating: __MACOSX/._readme.txt   \n"
     ]
    }
   ],
   "source": [
    "!unzip NewsAggregatorDataset.zip"
   ]
  },
  {
   "attachments": {},
   "cell_type": "markdown",
   "id": "684e1781",
   "metadata": {},
   "source": [
    "## 50. データの入手・整形\n",
    "News Aggregator Data Setをダウンロードし、以下の要領で学習データ（train.txt），検証データ（valid.txt），評価データ（test.txt）を作成せよ．\n",
    "\n",
    "1. ダウンロードしたzipファイルを解凍し，readme.txtの説明を読む．\n",
    "2. 情報源（publisher）が”Reuters”, “Huffington Post”, “Businessweek”, “Contactmusic.com”, “Daily Mail”の事例（記事）のみを抽出する．\n",
    "3. 抽出された事例をランダムに並び替える．\n",
    "4. 抽出された事例の80%を学習データ，残りの10%ずつを検証データと評価データに分割し，それぞれtrain.txt，valid.txt，test.txtというファイル名で保存する．ファイルには，１行に１事例を書き出すこととし，カテゴリ名と記事見出しのタブ区切り形式とせよ（このファイルは後に問題70で再利用する）．\n",
    "\n",
    "学習データと評価データを作成したら，各カテゴリの事例数を確認せよ．"
   ]
  },
  {
   "attachments": {},
   "cell_type": "markdown",
   "id": "e6e80f67",
   "metadata": {},
   "source": [
    "### 1. ダウンロードしたzipファイルを解凍し，readme.txtの説明を読む．"
   ]
  },
  {
   "attachments": {},
   "cell_type": "markdown",
   "id": "41d6b8b3",
   "metadata": {},
   "source": [
    "読んだ"
   ]
  },
  {
   "attachments": {},
   "cell_type": "markdown",
   "id": "0ed09a1f",
   "metadata": {},
   "source": [
    "### 2. 情報源（publisher）が”Reuters”, “Huffington Post”, “Businessweek”, “Contactmusic.com”, “Daily Mail”の事例（記事）のみを抽出する．"
   ]
  },
  {
   "cell_type": "code",
   "execution_count": 72,
   "id": "08bbb49e",
   "metadata": {},
   "outputs": [
    {
     "name": "stderr",
     "output_type": "stream",
     "text": [
      "/var/folders/t5/ff5r2wqs7d5bs7x64ntk0lm80000gn/T/ipykernel_68216/3798667375.py:2: ParserWarning: Falling back to the 'python' engine because the 'c' engine does not support regex separators (separators > 1 char and different from '\\s+' are interpreted as regex); you can avoid this warning by specifying engine='python'.\n",
      "  news = pd.read_csv('data/newsCorpora.csv', sep='\\\\t', header=None)\n"
     ]
    },
    {
     "data": {
      "text/html": [
       "<div>\n",
       "<style scoped>\n",
       "    .dataframe tbody tr th:only-of-type {\n",
       "        vertical-align: middle;\n",
       "    }\n",
       "\n",
       "    .dataframe tbody tr th {\n",
       "        vertical-align: top;\n",
       "    }\n",
       "\n",
       "    .dataframe thead th {\n",
       "        text-align: right;\n",
       "    }\n",
       "</style>\n",
       "<table border=\"1\" class=\"dataframe\">\n",
       "  <thead>\n",
       "    <tr style=\"text-align: right;\">\n",
       "      <th></th>\n",
       "      <th>0</th>\n",
       "      <th>1</th>\n",
       "      <th>2</th>\n",
       "      <th>3</th>\n",
       "      <th>4</th>\n",
       "      <th>5</th>\n",
       "      <th>6</th>\n",
       "      <th>7</th>\n",
       "    </tr>\n",
       "  </thead>\n",
       "  <tbody>\n",
       "    <tr>\n",
       "      <th>0</th>\n",
       "      <td>1</td>\n",
       "      <td>Fed official says weak data caused by weather,...</td>\n",
       "      <td>http://www.latimes.com/business/money/la-fi-mo...</td>\n",
       "      <td>Los Angeles Times</td>\n",
       "      <td>b</td>\n",
       "      <td>ddUyU0VZz0BRneMioxUPQVP6sIxvM</td>\n",
       "      <td>www.latimes.com</td>\n",
       "      <td>1394470370698</td>\n",
       "    </tr>\n",
       "    <tr>\n",
       "      <th>1</th>\n",
       "      <td>2</td>\n",
       "      <td>Fed's Charles Plosser sees high bar for change...</td>\n",
       "      <td>http://www.livemint.com/Politics/H2EvwJSK2VE6O...</td>\n",
       "      <td>Livemint</td>\n",
       "      <td>b</td>\n",
       "      <td>ddUyU0VZz0BRneMioxUPQVP6sIxvM</td>\n",
       "      <td>www.livemint.com</td>\n",
       "      <td>1394470371207</td>\n",
       "    </tr>\n",
       "    <tr>\n",
       "      <th>2</th>\n",
       "      <td>3</td>\n",
       "      <td>US open: Stocks fall after Fed official hints ...</td>\n",
       "      <td>http://www.ifamagazine.com/news/us-open-stocks...</td>\n",
       "      <td>IFA Magazine</td>\n",
       "      <td>b</td>\n",
       "      <td>ddUyU0VZz0BRneMioxUPQVP6sIxvM</td>\n",
       "      <td>www.ifamagazine.com</td>\n",
       "      <td>1394470371550</td>\n",
       "    </tr>\n",
       "    <tr>\n",
       "      <th>3</th>\n",
       "      <td>4</td>\n",
       "      <td>Fed risks falling 'behind the curve', Charles ...</td>\n",
       "      <td>http://www.ifamagazine.com/news/fed-risks-fall...</td>\n",
       "      <td>IFA Magazine</td>\n",
       "      <td>b</td>\n",
       "      <td>ddUyU0VZz0BRneMioxUPQVP6sIxvM</td>\n",
       "      <td>www.ifamagazine.com</td>\n",
       "      <td>1394470371793</td>\n",
       "    </tr>\n",
       "    <tr>\n",
       "      <th>4</th>\n",
       "      <td>5</td>\n",
       "      <td>Fed's Plosser: Nasty Weather Has Curbed Job Gr...</td>\n",
       "      <td>http://www.moneynews.com/Economy/federal-reser...</td>\n",
       "      <td>Moneynews</td>\n",
       "      <td>b</td>\n",
       "      <td>ddUyU0VZz0BRneMioxUPQVP6sIxvM</td>\n",
       "      <td>www.moneynews.com</td>\n",
       "      <td>1394470372027</td>\n",
       "    </tr>\n",
       "  </tbody>\n",
       "</table>\n",
       "</div>"
      ],
      "text/plain": [
       "   0                                                  1  \\\n",
       "0  1  Fed official says weak data caused by weather,...   \n",
       "1  2  Fed's Charles Plosser sees high bar for change...   \n",
       "2  3  US open: Stocks fall after Fed official hints ...   \n",
       "3  4  Fed risks falling 'behind the curve', Charles ...   \n",
       "4  5  Fed's Plosser: Nasty Weather Has Curbed Job Gr...   \n",
       "\n",
       "                                                   2                  3  4  \\\n",
       "0  http://www.latimes.com/business/money/la-fi-mo...  Los Angeles Times  b   \n",
       "1  http://www.livemint.com/Politics/H2EvwJSK2VE6O...           Livemint  b   \n",
       "2  http://www.ifamagazine.com/news/us-open-stocks...       IFA Magazine  b   \n",
       "3  http://www.ifamagazine.com/news/fed-risks-fall...       IFA Magazine  b   \n",
       "4  http://www.moneynews.com/Economy/federal-reser...          Moneynews  b   \n",
       "\n",
       "                               5                    6              7  \n",
       "0  ddUyU0VZz0BRneMioxUPQVP6sIxvM      www.latimes.com  1394470370698  \n",
       "1  ddUyU0VZz0BRneMioxUPQVP6sIxvM     www.livemint.com  1394470371207  \n",
       "2  ddUyU0VZz0BRneMioxUPQVP6sIxvM  www.ifamagazine.com  1394470371550  \n",
       "3  ddUyU0VZz0BRneMioxUPQVP6sIxvM  www.ifamagazine.com  1394470371793  \n",
       "4  ddUyU0VZz0BRneMioxUPQVP6sIxvM    www.moneynews.com  1394470372027  "
      ]
     },
     "execution_count": 72,
     "metadata": {},
     "output_type": "execute_result"
    }
   ],
   "source": [
    "import pandas as pd\n",
    "news = pd.read_csv('data/newsCorpora.csv', sep='\\\\t', header=None)\n",
    "news.head()"
   ]
  },
  {
   "cell_type": "code",
   "execution_count": 73,
   "id": "89d6acdf",
   "metadata": {},
   "outputs": [
    {
     "data": {
      "text/html": [
       "<div>\n",
       "<style scoped>\n",
       "    .dataframe tbody tr th:only-of-type {\n",
       "        vertical-align: middle;\n",
       "    }\n",
       "\n",
       "    .dataframe tbody tr th {\n",
       "        vertical-align: top;\n",
       "    }\n",
       "\n",
       "    .dataframe thead th {\n",
       "        text-align: right;\n",
       "    }\n",
       "</style>\n",
       "<table border=\"1\" class=\"dataframe\">\n",
       "  <thead>\n",
       "    <tr style=\"text-align: right;\">\n",
       "      <th></th>\n",
       "      <th>ID</th>\n",
       "      <th>TITLE</th>\n",
       "      <th>URL</th>\n",
       "      <th>PUBLISHER</th>\n",
       "      <th>CATEGORY</th>\n",
       "      <th>STORY</th>\n",
       "      <th>HOSTNAME</th>\n",
       "      <th>TIMESTAMP</th>\n",
       "    </tr>\n",
       "  </thead>\n",
       "  <tbody>\n",
       "    <tr>\n",
       "      <th>0</th>\n",
       "      <td>1</td>\n",
       "      <td>Fed official says weak data caused by weather,...</td>\n",
       "      <td>http://www.latimes.com/business/money/la-fi-mo...</td>\n",
       "      <td>Los Angeles Times</td>\n",
       "      <td>b</td>\n",
       "      <td>ddUyU0VZz0BRneMioxUPQVP6sIxvM</td>\n",
       "      <td>www.latimes.com</td>\n",
       "      <td>1394470370698</td>\n",
       "    </tr>\n",
       "    <tr>\n",
       "      <th>1</th>\n",
       "      <td>2</td>\n",
       "      <td>Fed's Charles Plosser sees high bar for change...</td>\n",
       "      <td>http://www.livemint.com/Politics/H2EvwJSK2VE6O...</td>\n",
       "      <td>Livemint</td>\n",
       "      <td>b</td>\n",
       "      <td>ddUyU0VZz0BRneMioxUPQVP6sIxvM</td>\n",
       "      <td>www.livemint.com</td>\n",
       "      <td>1394470371207</td>\n",
       "    </tr>\n",
       "    <tr>\n",
       "      <th>2</th>\n",
       "      <td>3</td>\n",
       "      <td>US open: Stocks fall after Fed official hints ...</td>\n",
       "      <td>http://www.ifamagazine.com/news/us-open-stocks...</td>\n",
       "      <td>IFA Magazine</td>\n",
       "      <td>b</td>\n",
       "      <td>ddUyU0VZz0BRneMioxUPQVP6sIxvM</td>\n",
       "      <td>www.ifamagazine.com</td>\n",
       "      <td>1394470371550</td>\n",
       "    </tr>\n",
       "    <tr>\n",
       "      <th>3</th>\n",
       "      <td>4</td>\n",
       "      <td>Fed risks falling 'behind the curve', Charles ...</td>\n",
       "      <td>http://www.ifamagazine.com/news/fed-risks-fall...</td>\n",
       "      <td>IFA Magazine</td>\n",
       "      <td>b</td>\n",
       "      <td>ddUyU0VZz0BRneMioxUPQVP6sIxvM</td>\n",
       "      <td>www.ifamagazine.com</td>\n",
       "      <td>1394470371793</td>\n",
       "    </tr>\n",
       "    <tr>\n",
       "      <th>4</th>\n",
       "      <td>5</td>\n",
       "      <td>Fed's Plosser: Nasty Weather Has Curbed Job Gr...</td>\n",
       "      <td>http://www.moneynews.com/Economy/federal-reser...</td>\n",
       "      <td>Moneynews</td>\n",
       "      <td>b</td>\n",
       "      <td>ddUyU0VZz0BRneMioxUPQVP6sIxvM</td>\n",
       "      <td>www.moneynews.com</td>\n",
       "      <td>1394470372027</td>\n",
       "    </tr>\n",
       "  </tbody>\n",
       "</table>\n",
       "</div>"
      ],
      "text/plain": [
       "  ID                                              TITLE  \\\n",
       "0  1  Fed official says weak data caused by weather,...   \n",
       "1  2  Fed's Charles Plosser sees high bar for change...   \n",
       "2  3  US open: Stocks fall after Fed official hints ...   \n",
       "3  4  Fed risks falling 'behind the curve', Charles ...   \n",
       "4  5  Fed's Plosser: Nasty Weather Has Curbed Job Gr...   \n",
       "\n",
       "                                                 URL          PUBLISHER  \\\n",
       "0  http://www.latimes.com/business/money/la-fi-mo...  Los Angeles Times   \n",
       "1  http://www.livemint.com/Politics/H2EvwJSK2VE6O...           Livemint   \n",
       "2  http://www.ifamagazine.com/news/us-open-stocks...       IFA Magazine   \n",
       "3  http://www.ifamagazine.com/news/fed-risks-fall...       IFA Magazine   \n",
       "4  http://www.moneynews.com/Economy/federal-reser...          Moneynews   \n",
       "\n",
       "  CATEGORY                          STORY             HOSTNAME      TIMESTAMP  \n",
       "0        b  ddUyU0VZz0BRneMioxUPQVP6sIxvM      www.latimes.com  1394470370698  \n",
       "1        b  ddUyU0VZz0BRneMioxUPQVP6sIxvM     www.livemint.com  1394470371207  \n",
       "2        b  ddUyU0VZz0BRneMioxUPQVP6sIxvM  www.ifamagazine.com  1394470371550  \n",
       "3        b  ddUyU0VZz0BRneMioxUPQVP6sIxvM  www.ifamagazine.com  1394470371793  \n",
       "4        b  ddUyU0VZz0BRneMioxUPQVP6sIxvM    www.moneynews.com  1394470372027  "
      ]
     },
     "execution_count": 73,
     "metadata": {},
     "output_type": "execute_result"
    }
   ],
   "source": [
    "news = pd.DataFrame(news.values, columns=('ID \\t TITLE \\t URL \\t PUBLISHER \\t CATEGORY \\t STORY \\t HOSTNAME \\t TIMESTAMP').split(' \\t '))\n",
    "news.head()"
   ]
  },
  {
   "cell_type": "code",
   "execution_count": 74,
   "id": "f0998535",
   "metadata": {},
   "outputs": [
    {
     "data": {
      "text/html": [
       "<div>\n",
       "<style scoped>\n",
       "    .dataframe tbody tr th:only-of-type {\n",
       "        vertical-align: middle;\n",
       "    }\n",
       "\n",
       "    .dataframe tbody tr th {\n",
       "        vertical-align: top;\n",
       "    }\n",
       "\n",
       "    .dataframe thead th {\n",
       "        text-align: right;\n",
       "    }\n",
       "</style>\n",
       "<table border=\"1\" class=\"dataframe\">\n",
       "  <thead>\n",
       "    <tr style=\"text-align: right;\">\n",
       "      <th></th>\n",
       "      <th>ID</th>\n",
       "      <th>TITLE</th>\n",
       "      <th>URL</th>\n",
       "      <th>PUBLISHER</th>\n",
       "      <th>CATEGORY</th>\n",
       "      <th>STORY</th>\n",
       "      <th>HOSTNAME</th>\n",
       "      <th>TIMESTAMP</th>\n",
       "    </tr>\n",
       "  </thead>\n",
       "  <tbody>\n",
       "    <tr>\n",
       "      <th>12</th>\n",
       "      <td>13</td>\n",
       "      <td>Europe reaches crunch point on banking union</td>\n",
       "      <td>http://in.reuters.com/article/2014/03/10/eu-ba...</td>\n",
       "      <td>Reuters</td>\n",
       "      <td>b</td>\n",
       "      <td>dPhGU51DcrolUIMxbRm0InaHGA2XM</td>\n",
       "      <td>in.reuters.com</td>\n",
       "      <td>1394470501755</td>\n",
       "    </tr>\n",
       "    <tr>\n",
       "      <th>13</th>\n",
       "      <td>14</td>\n",
       "      <td>ECB FOCUS-Stronger euro drowns out ECB's messa...</td>\n",
       "      <td>http://in.reuters.com/article/2014/03/10/ecb-p...</td>\n",
       "      <td>Reuters</td>\n",
       "      <td>b</td>\n",
       "      <td>dPhGU51DcrolUIMxbRm0InaHGA2XM</td>\n",
       "      <td>in.reuters.com</td>\n",
       "      <td>1394470501948</td>\n",
       "    </tr>\n",
       "    <tr>\n",
       "      <th>19</th>\n",
       "      <td>20</td>\n",
       "      <td>Euro Anxieties Wane as Bunds Top Treasuries, S...</td>\n",
       "      <td>http://www.businessweek.com/news/2014-03-10/ge...</td>\n",
       "      <td>Businessweek</td>\n",
       "      <td>b</td>\n",
       "      <td>dPhGU51DcrolUIMxbRm0InaHGA2XM</td>\n",
       "      <td>www.businessweek.com</td>\n",
       "      <td>1394470503148</td>\n",
       "    </tr>\n",
       "    <tr>\n",
       "      <th>20</th>\n",
       "      <td>21</td>\n",
       "      <td>Noyer Says Strong Euro Creates Unwarranted Eco...</td>\n",
       "      <td>http://www.businessweek.com/news/2014-03-10/no...</td>\n",
       "      <td>Businessweek</td>\n",
       "      <td>b</td>\n",
       "      <td>dPhGU51DcrolUIMxbRm0InaHGA2XM</td>\n",
       "      <td>www.businessweek.com</td>\n",
       "      <td>1394470503366</td>\n",
       "    </tr>\n",
       "    <tr>\n",
       "      <th>29</th>\n",
       "      <td>30</td>\n",
       "      <td>REFILE-Bad loan triggers key feature in ECB ba...</td>\n",
       "      <td>http://in.reuters.com/article/2014/03/10/euroz...</td>\n",
       "      <td>Reuters</td>\n",
       "      <td>b</td>\n",
       "      <td>dPhGU51DcrolUIMxbRm0InaHGA2XM</td>\n",
       "      <td>in.reuters.com</td>\n",
       "      <td>1394470505070</td>\n",
       "    </tr>\n",
       "    <tr>\n",
       "      <th>30</th>\n",
       "      <td>31</td>\n",
       "      <td>UPDATE 1-ECB to reveal bad loan hurdles for eu...</td>\n",
       "      <td>http://in.reuters.com/article/2014/03/10/euroz...</td>\n",
       "      <td>Reuters</td>\n",
       "      <td>b</td>\n",
       "      <td>dPhGU51DcrolUIMxbRm0InaHGA2XM</td>\n",
       "      <td>in.reuters.com</td>\n",
       "      <td>1394470505314</td>\n",
       "    </tr>\n",
       "    <tr>\n",
       "      <th>35</th>\n",
       "      <td>36</td>\n",
       "      <td>Central banks must contain threats from low pr...</td>\n",
       "      <td>http://www.reuters.com/article/2014/03/10/us-e...</td>\n",
       "      <td>Reuters</td>\n",
       "      <td>b</td>\n",
       "      <td>dPhGU51DcrolUIMxbRm0InaHGA2XM</td>\n",
       "      <td>www.reuters.com</td>\n",
       "      <td>1394470506238</td>\n",
       "    </tr>\n",
       "    <tr>\n",
       "      <th>36</th>\n",
       "      <td>37</td>\n",
       "      <td>UPDATE 1-Central banks must contain threat fro...</td>\n",
       "      <td>http://in.reuters.com/article/2014/03/10/ecb-n...</td>\n",
       "      <td>Reuters</td>\n",
       "      <td>b</td>\n",
       "      <td>dPhGU51DcrolUIMxbRm0InaHGA2XM</td>\n",
       "      <td>in.reuters.com</td>\n",
       "      <td>1394470506431</td>\n",
       "    </tr>\n",
       "    <tr>\n",
       "      <th>37</th>\n",
       "      <td>38</td>\n",
       "      <td>ECB's Noyer says 'not happy' with euro's rise</td>\n",
       "      <td>http://in.reuters.com/article/2014/03/10/ecb-n...</td>\n",
       "      <td>Reuters</td>\n",
       "      <td>b</td>\n",
       "      <td>dPhGU51DcrolUIMxbRm0InaHGA2XM</td>\n",
       "      <td>in.reuters.com</td>\n",
       "      <td>1394470506642</td>\n",
       "    </tr>\n",
       "    <tr>\n",
       "      <th>54</th>\n",
       "      <td>55</td>\n",
       "      <td>EBay rejects Icahn board nominees, asks invest...</td>\n",
       "      <td>http://www.reuters.com/article/2014/03/10/us-e...</td>\n",
       "      <td>Reuters</td>\n",
       "      <td>b</td>\n",
       "      <td>dxyGGb4iN9Cs9aMZTKQpJeoiQfruM</td>\n",
       "      <td>www.reuters.com</td>\n",
       "      <td>1394470921709</td>\n",
       "    </tr>\n",
       "  </tbody>\n",
       "</table>\n",
       "</div>"
      ],
      "text/plain": [
       "    ID                                              TITLE  \\\n",
       "12  13       Europe reaches crunch point on banking union   \n",
       "13  14  ECB FOCUS-Stronger euro drowns out ECB's messa...   \n",
       "19  20  Euro Anxieties Wane as Bunds Top Treasuries, S...   \n",
       "20  21  Noyer Says Strong Euro Creates Unwarranted Eco...   \n",
       "29  30  REFILE-Bad loan triggers key feature in ECB ba...   \n",
       "30  31  UPDATE 1-ECB to reveal bad loan hurdles for eu...   \n",
       "35  36  Central banks must contain threats from low pr...   \n",
       "36  37  UPDATE 1-Central banks must contain threat fro...   \n",
       "37  38      ECB's Noyer says 'not happy' with euro's rise   \n",
       "54  55  EBay rejects Icahn board nominees, asks invest...   \n",
       "\n",
       "                                                  URL     PUBLISHER CATEGORY  \\\n",
       "12  http://in.reuters.com/article/2014/03/10/eu-ba...       Reuters        b   \n",
       "13  http://in.reuters.com/article/2014/03/10/ecb-p...       Reuters        b   \n",
       "19  http://www.businessweek.com/news/2014-03-10/ge...  Businessweek        b   \n",
       "20  http://www.businessweek.com/news/2014-03-10/no...  Businessweek        b   \n",
       "29  http://in.reuters.com/article/2014/03/10/euroz...       Reuters        b   \n",
       "30  http://in.reuters.com/article/2014/03/10/euroz...       Reuters        b   \n",
       "35  http://www.reuters.com/article/2014/03/10/us-e...       Reuters        b   \n",
       "36  http://in.reuters.com/article/2014/03/10/ecb-n...       Reuters        b   \n",
       "37  http://in.reuters.com/article/2014/03/10/ecb-n...       Reuters        b   \n",
       "54  http://www.reuters.com/article/2014/03/10/us-e...       Reuters        b   \n",
       "\n",
       "                            STORY              HOSTNAME      TIMESTAMP  \n",
       "12  dPhGU51DcrolUIMxbRm0InaHGA2XM        in.reuters.com  1394470501755  \n",
       "13  dPhGU51DcrolUIMxbRm0InaHGA2XM        in.reuters.com  1394470501948  \n",
       "19  dPhGU51DcrolUIMxbRm0InaHGA2XM  www.businessweek.com  1394470503148  \n",
       "20  dPhGU51DcrolUIMxbRm0InaHGA2XM  www.businessweek.com  1394470503366  \n",
       "29  dPhGU51DcrolUIMxbRm0InaHGA2XM        in.reuters.com  1394470505070  \n",
       "30  dPhGU51DcrolUIMxbRm0InaHGA2XM        in.reuters.com  1394470505314  \n",
       "35  dPhGU51DcrolUIMxbRm0InaHGA2XM       www.reuters.com  1394470506238  \n",
       "36  dPhGU51DcrolUIMxbRm0InaHGA2XM        in.reuters.com  1394470506431  \n",
       "37  dPhGU51DcrolUIMxbRm0InaHGA2XM        in.reuters.com  1394470506642  \n",
       "54  dxyGGb4iN9Cs9aMZTKQpJeoiQfruM       www.reuters.com  1394470921709  "
      ]
     },
     "execution_count": 74,
     "metadata": {},
     "output_type": "execute_result"
    }
   ],
   "source": [
    "extracted_news = news[news['PUBLISHER'].isin(['Reuters', 'Huffington Post', 'Businessweek', 'Contactmusic.com', 'Daily Mail'])]\n",
    "extracted_news.head(10)"
   ]
  },
  {
   "attachments": {},
   "cell_type": "markdown",
   "id": "4137b42b",
   "metadata": {},
   "source": [
    "### 3. 抽出された事例をランダムに並び替える．"
   ]
  },
  {
   "cell_type": "code",
   "execution_count": 75,
   "id": "6f355a0b",
   "metadata": {},
   "outputs": [
    {
     "data": {
      "text/html": [
       "<div>\n",
       "<style scoped>\n",
       "    .dataframe tbody tr th:only-of-type {\n",
       "        vertical-align: middle;\n",
       "    }\n",
       "\n",
       "    .dataframe tbody tr th {\n",
       "        vertical-align: top;\n",
       "    }\n",
       "\n",
       "    .dataframe thead th {\n",
       "        text-align: right;\n",
       "    }\n",
       "</style>\n",
       "<table border=\"1\" class=\"dataframe\">\n",
       "  <thead>\n",
       "    <tr style=\"text-align: right;\">\n",
       "      <th></th>\n",
       "      <th>ID</th>\n",
       "      <th>TITLE</th>\n",
       "      <th>URL</th>\n",
       "      <th>PUBLISHER</th>\n",
       "      <th>CATEGORY</th>\n",
       "      <th>STORY</th>\n",
       "      <th>HOSTNAME</th>\n",
       "      <th>TIMESTAMP</th>\n",
       "    </tr>\n",
       "  </thead>\n",
       "  <tbody>\n",
       "    <tr>\n",
       "      <th>380208</th>\n",
       "      <td>380209</td>\n",
       "      <td>Google's Elite 'Project Zero' Aims To Fight Ha...</td>\n",
       "      <td>http://www.huffingtonpost.com/2014/07/15/googl...</td>\n",
       "      <td>Huffington Post</td>\n",
       "      <td>t</td>\n",
       "      <td>dGxUStKlvl7M3_M4sfejoM1pVcaqM</td>\n",
       "      <td>www.huffingtonpost.com</td>\n",
       "      <td>1405486245083</td>\n",
       "    </tr>\n",
       "    <tr>\n",
       "      <th>132855</th>\n",
       "      <td>132856</td>\n",
       "      <td>Classic-style car that could replace Central P...</td>\n",
       "      <td>http://www.dailymail.co.uk/news/article-260723...</td>\n",
       "      <td>Daily Mail</td>\n",
       "      <td>t</td>\n",
       "      <td>db4pgI2UOnhX0MMro2cnCYXfDxouM</td>\n",
       "      <td>www.dailymail.co.uk</td>\n",
       "      <td>1397828272962</td>\n",
       "    </tr>\n",
       "    <tr>\n",
       "      <th>117276</th>\n",
       "      <td>117277</td>\n",
       "      <td>Coca-Cola First-Quarter Results Soothe Angst A...</td>\n",
       "      <td>http://www.businessweek.com/news/2014-04-15/co...</td>\n",
       "      <td>Businessweek</td>\n",
       "      <td>b</td>\n",
       "      <td>dtGvpP7nKa5iPhMgZRDrpLz4c-xhM</td>\n",
       "      <td>www.businessweek.com</td>\n",
       "      <td>1397579445976</td>\n",
       "    </tr>\n",
       "    <tr>\n",
       "      <th>338020</th>\n",
       "      <td>338021</td>\n",
       "      <td>Shia Labeouf - Shia LaBeouf sent Cabaret DVD a...</td>\n",
       "      <td>http://www.contactmusic.com/story/shia-labeouf...</td>\n",
       "      <td>Contactmusic.com</td>\n",
       "      <td>e</td>\n",
       "      <td>dSxCH6eKHibCnTML3kb-li9KO9EUM</td>\n",
       "      <td>www.contactmusic.com</td>\n",
       "      <td>1404173326092</td>\n",
       "    </tr>\n",
       "    <tr>\n",
       "      <th>196881</th>\n",
       "      <td>196882</td>\n",
       "      <td>UK Stocks Rise to Two-Month High as Barclays G...</td>\n",
       "      <td>http://www.businessweek.com/news/2014-05-08/u-...</td>\n",
       "      <td>Businessweek</td>\n",
       "      <td>b</td>\n",
       "      <td>dmfYAYOSCXeIgdMeNy_RGzRlSo-4M</td>\n",
       "      <td>www.businessweek.com</td>\n",
       "      <td>1399625754388</td>\n",
       "    </tr>\n",
       "    <tr>\n",
       "      <th>130511</th>\n",
       "      <td>130512</td>\n",
       "      <td>Katie Holmes pulls on her sexiest mini dress a...</td>\n",
       "      <td>http://www.dailymail.co.uk/tvshowbiz/article-2...</td>\n",
       "      <td>Daily Mail</td>\n",
       "      <td>e</td>\n",
       "      <td>d5UsmDphxH0tE_MUoWfxcxDdHp1-M</td>\n",
       "      <td>www.dailymail.co.uk</td>\n",
       "      <td>1397775634354</td>\n",
       "    </tr>\n",
       "    <tr>\n",
       "      <th>10851</th>\n",
       "      <td>10852</td>\n",
       "      <td>Kim Kardashian Steals Kylie Jenner's Bikini, P...</td>\n",
       "      <td>http://www.huffingtonpost.com/2014/03/12/kim-k...</td>\n",
       "      <td>Huffington Post</td>\n",
       "      <td>e</td>\n",
       "      <td>dgrugNy8JhKGJpM4mzHwu-gX3uV9M</td>\n",
       "      <td>www.huffingtonpost.com</td>\n",
       "      <td>1394717924366</td>\n",
       "    </tr>\n",
       "    <tr>\n",
       "      <th>306025</th>\n",
       "      <td>306026</td>\n",
       "      <td>UPDATE 2-SNB says ready to act as needed in wa...</td>\n",
       "      <td>http://www.reuters.com/article/2014/06/19/swis...</td>\n",
       "      <td>Reuters</td>\n",
       "      <td>b</td>\n",
       "      <td>dweCGAGMEP5sb_MJ58Wqp08O1SX3M</td>\n",
       "      <td>www.reuters.com</td>\n",
       "      <td>1403193582881</td>\n",
       "    </tr>\n",
       "    <tr>\n",
       "      <th>334290</th>\n",
       "      <td>334291</td>\n",
       "      <td>UPDATE 3-Philips spins off lighting components...</td>\n",
       "      <td>http://in.reuters.com/article/2014/06/30/phili...</td>\n",
       "      <td>Reuters</td>\n",
       "      <td>b</td>\n",
       "      <td>dI3EP3IzprskODMxEwzY-q51E3JWM</td>\n",
       "      <td>in.reuters.com</td>\n",
       "      <td>1404146167025</td>\n",
       "    </tr>\n",
       "    <tr>\n",
       "      <th>191555</th>\n",
       "      <td>191556</td>\n",
       "      <td>Fannie Mae Will Pay US $5.7 Billion After Firs...</td>\n",
       "      <td>http://www.businessweek.com/news/2014-05-08/fa...</td>\n",
       "      <td>Businessweek</td>\n",
       "      <td>b</td>\n",
       "      <td>dyVST1xzahgTA3MVWTM5glZxwJXWM</td>\n",
       "      <td>www.businessweek.com</td>\n",
       "      <td>1399555324349</td>\n",
       "    </tr>\n",
       "  </tbody>\n",
       "</table>\n",
       "</div>"
      ],
      "text/plain": [
       "            ID                                              TITLE  \\\n",
       "380208  380209  Google's Elite 'Project Zero' Aims To Fight Ha...   \n",
       "132855  132856  Classic-style car that could replace Central P...   \n",
       "117276  117277  Coca-Cola First-Quarter Results Soothe Angst A...   \n",
       "338020  338021  Shia Labeouf - Shia LaBeouf sent Cabaret DVD a...   \n",
       "196881  196882  UK Stocks Rise to Two-Month High as Barclays G...   \n",
       "130511  130512  Katie Holmes pulls on her sexiest mini dress a...   \n",
       "10851    10852  Kim Kardashian Steals Kylie Jenner's Bikini, P...   \n",
       "306025  306026  UPDATE 2-SNB says ready to act as needed in wa...   \n",
       "334290  334291  UPDATE 3-Philips spins off lighting components...   \n",
       "191555  191556  Fannie Mae Will Pay US $5.7 Billion After Firs...   \n",
       "\n",
       "                                                      URL         PUBLISHER  \\\n",
       "380208  http://www.huffingtonpost.com/2014/07/15/googl...   Huffington Post   \n",
       "132855  http://www.dailymail.co.uk/news/article-260723...        Daily Mail   \n",
       "117276  http://www.businessweek.com/news/2014-04-15/co...      Businessweek   \n",
       "338020  http://www.contactmusic.com/story/shia-labeouf...  Contactmusic.com   \n",
       "196881  http://www.businessweek.com/news/2014-05-08/u-...      Businessweek   \n",
       "130511  http://www.dailymail.co.uk/tvshowbiz/article-2...        Daily Mail   \n",
       "10851   http://www.huffingtonpost.com/2014/03/12/kim-k...   Huffington Post   \n",
       "306025  http://www.reuters.com/article/2014/06/19/swis...           Reuters   \n",
       "334290  http://in.reuters.com/article/2014/06/30/phili...           Reuters   \n",
       "191555  http://www.businessweek.com/news/2014-05-08/fa...      Businessweek   \n",
       "\n",
       "       CATEGORY                          STORY                HOSTNAME  \\\n",
       "380208        t  dGxUStKlvl7M3_M4sfejoM1pVcaqM  www.huffingtonpost.com   \n",
       "132855        t  db4pgI2UOnhX0MMro2cnCYXfDxouM     www.dailymail.co.uk   \n",
       "117276        b  dtGvpP7nKa5iPhMgZRDrpLz4c-xhM    www.businessweek.com   \n",
       "338020        e  dSxCH6eKHibCnTML3kb-li9KO9EUM    www.contactmusic.com   \n",
       "196881        b  dmfYAYOSCXeIgdMeNy_RGzRlSo-4M    www.businessweek.com   \n",
       "130511        e  d5UsmDphxH0tE_MUoWfxcxDdHp1-M     www.dailymail.co.uk   \n",
       "10851         e  dgrugNy8JhKGJpM4mzHwu-gX3uV9M  www.huffingtonpost.com   \n",
       "306025        b  dweCGAGMEP5sb_MJ58Wqp08O1SX3M         www.reuters.com   \n",
       "334290        b  dI3EP3IzprskODMxEwzY-q51E3JWM          in.reuters.com   \n",
       "191555        b  dyVST1xzahgTA3MVWTM5glZxwJXWM    www.businessweek.com   \n",
       "\n",
       "            TIMESTAMP  \n",
       "380208  1405486245083  \n",
       "132855  1397828272962  \n",
       "117276  1397579445976  \n",
       "338020  1404173326092  \n",
       "196881  1399625754388  \n",
       "130511  1397775634354  \n",
       "10851   1394717924366  \n",
       "306025  1403193582881  \n",
       "334290  1404146167025  \n",
       "191555  1399555324349  "
      ]
     },
     "execution_count": 75,
     "metadata": {},
     "output_type": "execute_result"
    }
   ],
   "source": [
    "extracted_news = extracted_news.sample(frac=1)\n",
    "extracted_news.head(10)"
   ]
  },
  {
   "attachments": {},
   "cell_type": "markdown",
   "id": "655e4d14",
   "metadata": {},
   "source": [
    "### 4. 抽出された事例の80%を学習データ，残りの10%ずつを検証データと評価データに分割し，それぞれtrain.txt，valid.txt，test.txtというファイル名で保存する．ファイルには，１行に１事例を書き出すこととし，カテゴリ名と記事見出しのタブ区切り形式とせよ（このファイルは後に問題70で再利用する）．\n",
    "学習データと評価データを作成したら，各カテゴリの事例数を確認せよ．"
   ]
  },
  {
   "cell_type": "code",
   "execution_count": 76,
   "id": "05438519",
   "metadata": {},
   "outputs": [],
   "source": [
    "from sklearn.model_selection import train_test_split\n",
    "\n",
    "train_data, valid_test_data = train_test_split(extracted_news[['TITLE', 'CATEGORY']], test_size=0.2, shuffle=True, random_state=42)    # 42はあるSF小説の有名な数字で、深い意味はないらしい\n",
    "valid_data, test_data = train_test_split(valid_test_data, test_size=0.5, shuffle=True, random_state=42)\n",
    "\n",
    "train_data.to_csv('work/train_data.txt', sep='\\t', index=False, header=None)\n",
    "valid_data.to_csv('work/valid_data.txt', sep='\\t', index=False, header=None)\n",
    "test_data.to_csv('work/test_data.txt', sep='\\t', index=False, header=None)"
   ]
  },
  {
   "cell_type": "code",
   "execution_count": 77,
   "id": "c3ebe0f3",
   "metadata": {},
   "outputs": [
    {
     "name": "stdout",
     "output_type": "stream",
     "text": [
      "  1336 work/test_data.txt\n",
      " 10684 work/train_data.txt\n",
      "  1336 work/valid_data.txt\n",
      " 13356 total\n"
     ]
    }
   ],
   "source": [
    "!wc -l work/*_data.txt"
   ]
  },
  {
   "attachments": {},
   "cell_type": "markdown",
   "id": "0348b816",
   "metadata": {},
   "source": [
    "## 51. 特徴量抽出\n",
    "学習データ，検証データ，評価データから特徴量を抽出し，それぞれtrain.feature.txt，valid.feature.txt，test.feature.txtというファイル名で保存せよ． なお，カテゴリ分類に有用そうな特徴量は各自で自由に設計せよ．記事の見出しを単語列に変換したものが最低限のベースラインとなるであろう．"
   ]
  },
  {
   "cell_type": "code",
   "execution_count": 78,
   "id": "01c00897",
   "metadata": {},
   "outputs": [
    {
     "name": "stdout",
     "output_type": "stream",
     "text": [
      "(10684, 12528) (1336, 12528) (1336, 12528)\n",
      "  (0, 10729)\t1\n",
      "  (0, 4756)\t1\n",
      "  (0, 3682)\t1\n",
      "  (0, 5966)\t1\n",
      "  (0, 11628)\t1\n",
      "  (0, 2691)\t1\n",
      "[[0 0 0 ... 0 0 0]\n",
      " [0 0 0 ... 0 0 0]\n",
      " [0 0 0 ... 0 0 0]\n",
      " ...\n",
      " [0 0 0 ... 0 0 0]\n",
      " [0 0 0 ... 0 0 0]\n",
      " [0 0 0 ... 0 0 0]]\n"
     ]
    }
   ],
   "source": [
    "# より良い特徴量は余裕があったら探す\n",
    "from sklearn.feature_extraction.text import CountVectorizer   # tf-idfよりこっちの方が性能が良かった.理由は？？\n",
    "vectorizer = CountVectorizer(stop_words='english')\n",
    "\n",
    "train_X = vectorizer.fit_transform(train_data['TITLE'])  # fit_transform()はfit()とtransform()を同時に行う, fit は語彙の獲得やidfの計算をする\n",
    "valid_X = vectorizer.transform(valid_data['TITLE'])    # transform はfitで獲得した語彙やidfを使って文書をtf-idfのベクトルにする, \n",
    "test_X = vectorizer.transform(test_data['TITLE'])\n",
    "\n",
    "print(train_X.shape, valid_X.shape, test_X.shape)\n",
    "print(train_X[0])\n",
    "print(train_X.toarray())"
   ]
  },
  {
   "cell_type": "code",
   "execution_count": 79,
   "id": "e3009c90",
   "metadata": {},
   "outputs": [],
   "source": [
    "from sklearn.feature_extraction.text import TfidfVectorizer\n",
    "vectorizer_tfidf = TfidfVectorizer(stop_words='english')\n",
    "\n",
    "tfidf_train_X = vectorizer_tfidf.fit_transform(train_data['TITLE'])\n",
    "tfidf_valid_X = vectorizer_tfidf.transform(valid_data['TITLE'])\n",
    "tfidf_test_X = vectorizer_tfidf.transform(test_data['TITLE'])"
   ]
  },
  {
   "cell_type": "code",
   "execution_count": 80,
   "id": "dadf1859",
   "metadata": {},
   "outputs": [
    {
     "name": "stdout",
     "output_type": "stream",
     "text": [
      "US STOCKS-Futures drop as Iraq turmoil continues\te\n"
     ]
    }
   ],
   "source": [
    "!head -1 work/train_data.txt"
   ]
  },
  {
   "cell_type": "code",
   "execution_count": 81,
   "id": "c1da729a",
   "metadata": {},
   "outputs": [
    {
     "name": "stdout",
     "output_type": "stream",
     "text": [
      "  (0, 10729)\t1\n",
      "  (0, 4756)\t1\n",
      "  (0, 3682)\t1\n",
      "  (0, 5966)\t1\n",
      "  (0, 11628)\t1\n",
      "  (0, 2691)\t1\n"
     ]
    },
    {
     "data": {
      "text/plain": [
       "[array(['stocks', 'futures', 'drop', 'iraq', 'turmoil', 'continues'],\n",
       "       dtype='<U27')]"
      ]
     },
     "execution_count": 81,
     "metadata": {},
     "output_type": "execute_result"
    }
   ],
   "source": [
    "print(train_X[0])\n",
    "vectorizer.inverse_transform(train_X[0])"
   ]
  },
  {
   "cell_type": "code",
   "execution_count": 82,
   "id": "854400e6",
   "metadata": {},
   "outputs": [
    {
     "name": "stdout",
     "output_type": "stream",
     "text": [
      "[[0 0 0 ... 0 0 0]]\n"
     ]
    },
    {
     "data": {
      "text/plain": [
       "[array(['continues', 'drop', 'futures', 'iraq', 'stocks', 'turmoil'],\n",
       "       dtype='<U27')]"
      ]
     },
     "execution_count": 82,
     "metadata": {},
     "output_type": "execute_result"
    }
   ],
   "source": [
    "print(train_X[0].toarray())\n",
    "vectorizer.inverse_transform(train_X[0].toarray())"
   ]
  },
  {
   "cell_type": "code",
   "execution_count": 83,
   "id": "6ea99e5e",
   "metadata": {},
   "outputs": [],
   "source": [
    "import numpy as np\n",
    "\n",
    "# np.savetxt と np.loadtxt だと、テキストファイルに配列を保存したり、読み込んだりすることができるらしい\n",
    "\n",
    "np.savetxt('train_X.feature.txt', train_X.toarray())\n",
    "np.savetxt('valid_X.feature.txt', valid_X.toarray())\n",
    "np.savetxt('test_X.feature.txt', test_X.toarray())"
   ]
  },
  {
   "cell_type": "code",
   "execution_count": 84,
   "id": "645736a1",
   "metadata": {},
   "outputs": [
    {
     "data": {
      "text/plain": [
       "array([[0., 0., 0., ..., 0., 0., 0.],\n",
       "       [0., 0., 0., ..., 0., 0., 0.],\n",
       "       [0., 0., 0., ..., 0., 0., 0.],\n",
       "       ...,\n",
       "       [0., 0., 0., ..., 0., 0., 0.],\n",
       "       [0., 0., 0., ..., 0., 0., 0.],\n",
       "       [0., 0., 0., ..., 0., 0., 0.]])"
      ]
     },
     "execution_count": 84,
     "metadata": {},
     "output_type": "execute_result"
    }
   ],
   "source": [
    "l = np.loadtxt('train_X.feature.txt')\n",
    "l"
   ]
  },
  {
   "cell_type": "code",
   "execution_count": 85,
   "id": "0c17bec7",
   "metadata": {},
   "outputs": [
    {
     "name": "stdout",
     "output_type": "stream",
     "text": [
      "[array(['continues', 'drop', 'futures', 'iraq', 'stocks', 'turmoil'],\n",
      "      dtype='<U27')]\n"
     ]
    }
   ],
   "source": [
    "print(vectorizer.inverse_transform(l[:1]))"
   ]
  },
  {
   "cell_type": "code",
   "execution_count": 86,
   "id": "cc1f8c27",
   "metadata": {},
   "outputs": [],
   "source": [
    "# 保存場所間違えた…\n",
    "!mv *.feature.txt work/"
   ]
  },
  {
   "attachments": {},
   "cell_type": "markdown",
   "id": "5550069c",
   "metadata": {},
   "source": [
    "### 52. 学習\n",
    "51で構築した学習データを用いて，ロジスティック回帰モデルを学習せよ．"
   ]
  },
  {
   "cell_type": "code",
   "execution_count": 87,
   "metadata": {},
   "outputs": [
    {
     "data": {
      "text/html": [
       "<style>#sk-container-id-3 {color: black;background-color: white;}#sk-container-id-3 pre{padding: 0;}#sk-container-id-3 div.sk-toggleable {background-color: white;}#sk-container-id-3 label.sk-toggleable__label {cursor: pointer;display: block;width: 100%;margin-bottom: 0;padding: 0.3em;box-sizing: border-box;text-align: center;}#sk-container-id-3 label.sk-toggleable__label-arrow:before {content: \"▸\";float: left;margin-right: 0.25em;color: #696969;}#sk-container-id-3 label.sk-toggleable__label-arrow:hover:before {color: black;}#sk-container-id-3 div.sk-estimator:hover label.sk-toggleable__label-arrow:before {color: black;}#sk-container-id-3 div.sk-toggleable__content {max-height: 0;max-width: 0;overflow: hidden;text-align: left;background-color: #f0f8ff;}#sk-container-id-3 div.sk-toggleable__content pre {margin: 0.2em;color: black;border-radius: 0.25em;background-color: #f0f8ff;}#sk-container-id-3 input.sk-toggleable__control:checked~div.sk-toggleable__content {max-height: 200px;max-width: 100%;overflow: auto;}#sk-container-id-3 input.sk-toggleable__control:checked~label.sk-toggleable__label-arrow:before {content: \"▾\";}#sk-container-id-3 div.sk-estimator input.sk-toggleable__control:checked~label.sk-toggleable__label {background-color: #d4ebff;}#sk-container-id-3 div.sk-label input.sk-toggleable__control:checked~label.sk-toggleable__label {background-color: #d4ebff;}#sk-container-id-3 input.sk-hidden--visually {border: 0;clip: rect(1px 1px 1px 1px);clip: rect(1px, 1px, 1px, 1px);height: 1px;margin: -1px;overflow: hidden;padding: 0;position: absolute;width: 1px;}#sk-container-id-3 div.sk-estimator {font-family: monospace;background-color: #f0f8ff;border: 1px dotted black;border-radius: 0.25em;box-sizing: border-box;margin-bottom: 0.5em;}#sk-container-id-3 div.sk-estimator:hover {background-color: #d4ebff;}#sk-container-id-3 div.sk-parallel-item::after {content: \"\";width: 100%;border-bottom: 1px solid gray;flex-grow: 1;}#sk-container-id-3 div.sk-label:hover label.sk-toggleable__label {background-color: #d4ebff;}#sk-container-id-3 div.sk-serial::before {content: \"\";position: absolute;border-left: 1px solid gray;box-sizing: border-box;top: 0;bottom: 0;left: 50%;z-index: 0;}#sk-container-id-3 div.sk-serial {display: flex;flex-direction: column;align-items: center;background-color: white;padding-right: 0.2em;padding-left: 0.2em;position: relative;}#sk-container-id-3 div.sk-item {position: relative;z-index: 1;}#sk-container-id-3 div.sk-parallel {display: flex;align-items: stretch;justify-content: center;background-color: white;position: relative;}#sk-container-id-3 div.sk-item::before, #sk-container-id-3 div.sk-parallel-item::before {content: \"\";position: absolute;border-left: 1px solid gray;box-sizing: border-box;top: 0;bottom: 0;left: 50%;z-index: -1;}#sk-container-id-3 div.sk-parallel-item {display: flex;flex-direction: column;z-index: 1;position: relative;background-color: white;}#sk-container-id-3 div.sk-parallel-item:first-child::after {align-self: flex-end;width: 50%;}#sk-container-id-3 div.sk-parallel-item:last-child::after {align-self: flex-start;width: 50%;}#sk-container-id-3 div.sk-parallel-item:only-child::after {width: 0;}#sk-container-id-3 div.sk-dashed-wrapped {border: 1px dashed gray;margin: 0 0.4em 0.5em 0.4em;box-sizing: border-box;padding-bottom: 0.4em;background-color: white;}#sk-container-id-3 div.sk-label label {font-family: monospace;font-weight: bold;display: inline-block;line-height: 1.2em;}#sk-container-id-3 div.sk-label-container {text-align: center;}#sk-container-id-3 div.sk-container {/* jupyter's `normalize.less` sets `[hidden] { display: none; }` but bootstrap.min.css set `[hidden] { display: none !important; }` so we also need the `!important` here to be able to override the default hidden behavior on the sphinx rendered scikit-learn.org. See: https://github.com/scikit-learn/scikit-learn/issues/21755 */display: inline-block !important;position: relative;}#sk-container-id-3 div.sk-text-repr-fallback {display: none;}</style><div id=\"sk-container-id-3\" class=\"sk-top-container\"><div class=\"sk-text-repr-fallback\"><pre>LogisticRegression(max_iter=1000)</pre><b>In a Jupyter environment, please rerun this cell to show the HTML representation or trust the notebook. <br />On GitHub, the HTML representation is unable to render, please try loading this page with nbviewer.org.</b></div><div class=\"sk-container\" hidden><div class=\"sk-item\"><div class=\"sk-estimator sk-toggleable\"><input class=\"sk-toggleable__control sk-hidden--visually\" id=\"sk-estimator-id-3\" type=\"checkbox\" checked><label for=\"sk-estimator-id-3\" class=\"sk-toggleable__label sk-toggleable__label-arrow\">LogisticRegression</label><div class=\"sk-toggleable__content\"><pre>LogisticRegression(max_iter=1000)</pre></div></div></div></div></div>"
      ],
      "text/plain": [
       "LogisticRegression(max_iter=1000)"
      ]
     },
     "execution_count": 87,
     "metadata": {},
     "output_type": "execute_result"
    }
   ],
   "source": [
    "from sklearn.linear_model import LogisticRegression\n",
    "# ロジスティック回帰モデルのインスタンスを作成\n",
    "model = LogisticRegression(max_iter=1000)\n",
    "\n",
    "# 説明変数Xを作成\n",
    "train_X = np.loadtxt('work/train_X.feature.txt')\n",
    "# 目的変数yを作成\n",
    "train_y = train_data['CATEGORY']\n",
    "\n",
    "# ロジスティック回帰モデルの重みを学習\n",
    "model.fit(train_X, train_y)"
   ]
  },
  {
   "cell_type": "code",
   "execution_count": 88,
   "id": "56a3c2ab",
   "metadata": {},
   "outputs": [
    {
     "name": "stderr",
     "output_type": "stream",
     "text": [
      "/Users/nozueshinnosuke/.pyenv/versions/3.10.5/envs/100knock/lib/python3.10/site-packages/sklearn/linear_model/_logistic.py:458: ConvergenceWarning: lbfgs failed to converge (status=1):\n",
      "STOP: TOTAL NO. of ITERATIONS REACHED LIMIT.\n",
      "\n",
      "Increase the number of iterations (max_iter) or scale the data as shown in:\n",
      "    https://scikit-learn.org/stable/modules/preprocessing.html\n",
      "Please also refer to the documentation for alternative solver options:\n",
      "    https://scikit-learn.org/stable/modules/linear_model.html#logistic-regression\n",
      "  n_iter_i = _check_optimize_result(\n"
     ]
    },
    {
     "data": {
      "text/html": [
       "<style>#sk-container-id-4 {color: black;background-color: white;}#sk-container-id-4 pre{padding: 0;}#sk-container-id-4 div.sk-toggleable {background-color: white;}#sk-container-id-4 label.sk-toggleable__label {cursor: pointer;display: block;width: 100%;margin-bottom: 0;padding: 0.3em;box-sizing: border-box;text-align: center;}#sk-container-id-4 label.sk-toggleable__label-arrow:before {content: \"▸\";float: left;margin-right: 0.25em;color: #696969;}#sk-container-id-4 label.sk-toggleable__label-arrow:hover:before {color: black;}#sk-container-id-4 div.sk-estimator:hover label.sk-toggleable__label-arrow:before {color: black;}#sk-container-id-4 div.sk-toggleable__content {max-height: 0;max-width: 0;overflow: hidden;text-align: left;background-color: #f0f8ff;}#sk-container-id-4 div.sk-toggleable__content pre {margin: 0.2em;color: black;border-radius: 0.25em;background-color: #f0f8ff;}#sk-container-id-4 input.sk-toggleable__control:checked~div.sk-toggleable__content {max-height: 200px;max-width: 100%;overflow: auto;}#sk-container-id-4 input.sk-toggleable__control:checked~label.sk-toggleable__label-arrow:before {content: \"▾\";}#sk-container-id-4 div.sk-estimator input.sk-toggleable__control:checked~label.sk-toggleable__label {background-color: #d4ebff;}#sk-container-id-4 div.sk-label input.sk-toggleable__control:checked~label.sk-toggleable__label {background-color: #d4ebff;}#sk-container-id-4 input.sk-hidden--visually {border: 0;clip: rect(1px 1px 1px 1px);clip: rect(1px, 1px, 1px, 1px);height: 1px;margin: -1px;overflow: hidden;padding: 0;position: absolute;width: 1px;}#sk-container-id-4 div.sk-estimator {font-family: monospace;background-color: #f0f8ff;border: 1px dotted black;border-radius: 0.25em;box-sizing: border-box;margin-bottom: 0.5em;}#sk-container-id-4 div.sk-estimator:hover {background-color: #d4ebff;}#sk-container-id-4 div.sk-parallel-item::after {content: \"\";width: 100%;border-bottom: 1px solid gray;flex-grow: 1;}#sk-container-id-4 div.sk-label:hover label.sk-toggleable__label {background-color: #d4ebff;}#sk-container-id-4 div.sk-serial::before {content: \"\";position: absolute;border-left: 1px solid gray;box-sizing: border-box;top: 0;bottom: 0;left: 50%;z-index: 0;}#sk-container-id-4 div.sk-serial {display: flex;flex-direction: column;align-items: center;background-color: white;padding-right: 0.2em;padding-left: 0.2em;position: relative;}#sk-container-id-4 div.sk-item {position: relative;z-index: 1;}#sk-container-id-4 div.sk-parallel {display: flex;align-items: stretch;justify-content: center;background-color: white;position: relative;}#sk-container-id-4 div.sk-item::before, #sk-container-id-4 div.sk-parallel-item::before {content: \"\";position: absolute;border-left: 1px solid gray;box-sizing: border-box;top: 0;bottom: 0;left: 50%;z-index: -1;}#sk-container-id-4 div.sk-parallel-item {display: flex;flex-direction: column;z-index: 1;position: relative;background-color: white;}#sk-container-id-4 div.sk-parallel-item:first-child::after {align-self: flex-end;width: 50%;}#sk-container-id-4 div.sk-parallel-item:last-child::after {align-self: flex-start;width: 50%;}#sk-container-id-4 div.sk-parallel-item:only-child::after {width: 0;}#sk-container-id-4 div.sk-dashed-wrapped {border: 1px dashed gray;margin: 0 0.4em 0.5em 0.4em;box-sizing: border-box;padding-bottom: 0.4em;background-color: white;}#sk-container-id-4 div.sk-label label {font-family: monospace;font-weight: bold;display: inline-block;line-height: 1.2em;}#sk-container-id-4 div.sk-label-container {text-align: center;}#sk-container-id-4 div.sk-container {/* jupyter's `normalize.less` sets `[hidden] { display: none; }` but bootstrap.min.css set `[hidden] { display: none !important; }` so we also need the `!important` here to be able to override the default hidden behavior on the sphinx rendered scikit-learn.org. See: https://github.com/scikit-learn/scikit-learn/issues/21755 */display: inline-block !important;position: relative;}#sk-container-id-4 div.sk-text-repr-fallback {display: none;}</style><div id=\"sk-container-id-4\" class=\"sk-top-container\"><div class=\"sk-text-repr-fallback\"><pre>LogisticRegression()</pre><b>In a Jupyter environment, please rerun this cell to show the HTML representation or trust the notebook. <br />On GitHub, the HTML representation is unable to render, please try loading this page with nbviewer.org.</b></div><div class=\"sk-container\" hidden><div class=\"sk-item\"><div class=\"sk-estimator sk-toggleable\"><input class=\"sk-toggleable__control sk-hidden--visually\" id=\"sk-estimator-id-4\" type=\"checkbox\" checked><label for=\"sk-estimator-id-4\" class=\"sk-toggleable__label sk-toggleable__label-arrow\">LogisticRegression</label><div class=\"sk-toggleable__content\"><pre>LogisticRegression()</pre></div></div></div></div></div>"
      ],
      "text/plain": [
       "LogisticRegression()"
      ]
     },
     "execution_count": 88,
     "metadata": {},
     "output_type": "execute_result"
    }
   ],
   "source": [
    "model_tfidf = LogisticRegression()\n",
    "\n",
    "# 説明変数Xを作成\n",
    "train_X = tfidf_train_X\n",
    "# 目的変数yを作成\n",
    "train_y = train_data['CATEGORY']\n",
    "\n",
    "# ロジスティック回帰モデルの重みを学習\n",
    "model_tfidf.fit(tfidf_train_X, train_y)"
   ]
  },
  {
   "cell_type": "code",
   "execution_count": 89,
   "id": "dcedfd19",
   "metadata": {},
   "outputs": [
    {
     "name": "stdout",
     "output_type": "stream",
     "text": [
      "0.8982590789966305\n"
     ]
    }
   ],
   "source": [
    "print(model.score(train_X, train_y))"
   ]
  },
  {
   "cell_type": "code",
   "execution_count": 90,
   "id": "d5b0a534",
   "metadata": {},
   "outputs": [
    {
     "name": "stdout",
     "output_type": "stream",
     "text": [
      "0.9499251216772744\n"
     ]
    }
   ],
   "source": [
    "print(model_tfidf.score(tfidf_train_X, train_y))"
   ]
  },
  {
   "attachments": {},
   "cell_type": "markdown",
   "id": "24a1833a",
   "metadata": {},
   "source": [
    "### 53. 予測\n",
    "52で学習したロジスティック回帰モデルを用い，与えられた記事見出しからカテゴリとその予測確率を計算するプログラムを実装せよ．"
   ]
  },
  {
   "cell_type": "code",
   "execution_count": 91,
   "id": "28c1afaa",
   "metadata": {},
   "outputs": [],
   "source": [
    "class LogisticRegressionClassifier:\n",
    "    def __init__(self, model):\n",
    "        self.model = model\n",
    "\n",
    "    def classify(self, test_X):\n",
    "        predict = self.model.predict(test_X)\n",
    "        probabillity = self.model.predict_proba(test_X)\n",
    "        return predict, probabillity"
   ]
  },
  {
   "cell_type": "code",
   "execution_count": 92,
   "id": "dea2f89c",
   "metadata": {},
   "outputs": [
    {
     "data": {
      "text/plain": [
       "(array(['e', 'e', 'e', 'e', 'b', 'b'], dtype=object),\n",
       " array([[0.40398505, 0.51580032, 0.03564107, 0.04457356],\n",
       "        [0.21631439, 0.43336441, 0.23161584, 0.11870536],\n",
       "        [0.13332434, 0.7565899 , 0.03956112, 0.07052464],\n",
       "        [0.23508427, 0.37921539, 0.04400687, 0.34169347],\n",
       "        [0.63435718, 0.23132128, 0.06195439, 0.07236715],\n",
       "        [0.50872968, 0.29277668, 0.07097638, 0.12751726]]))"
      ]
     },
     "execution_count": 92,
     "metadata": {},
     "output_type": "execute_result"
    }
   ],
   "source": [
    "LogisticRegressionClassifier(model).classify(train_X[:6])"
   ]
  },
  {
   "cell_type": "code",
   "execution_count": 93,
   "id": "9e3595d7",
   "metadata": {},
   "outputs": [
    {
     "data": {
      "text/plain": [
       "(array(['b', 'e', 'e', 't', 'b', 'b'], dtype=object),\n",
       " array([[0.86871736, 0.09834423, 0.01577045, 0.01716797],\n",
       "        [0.16849449, 0.42619732, 0.2918242 , 0.11348398],\n",
       "        [0.15089755, 0.73438172, 0.04115017, 0.07357057],\n",
       "        [0.10224678, 0.16619859, 0.02566155, 0.70589309],\n",
       "        [0.82116597, 0.09232262, 0.04152927, 0.04498214],\n",
       "        [0.61037099, 0.19096317, 0.072385  , 0.12628083]]))"
      ]
     },
     "execution_count": 93,
     "metadata": {},
     "output_type": "execute_result"
    }
   ],
   "source": [
    "LogisticRegressionClassifier(model_tfidf).classify(train_X[:6])"
   ]
  },
  {
   "cell_type": "code",
   "execution_count": 94,
   "id": "3c77cd6d",
   "metadata": {},
   "outputs": [
    {
     "name": "stdout",
     "output_type": "stream",
     "text": [
      "US STOCKS-Futures drop as Iraq turmoil continues\te\n",
      "Mother left with gaping hole in cheek and no jawbone after Kazakh doctors  ...\tm\n",
      "UPDATE 2-Prolific US character actor Eli Wallach dies at 98 - NYT\te\n",
      "Apple now has access to Beats streaming music service allowing it to compete  ...\tt\n",
      "US forces hand over seized oil tanker to Libya: agency\tb\n",
      "US Federal Reserve Meeting Minutes for June 18 (Text)\tb\n"
     ]
    }
   ],
   "source": [
    "!head -6 work/train_data.txt"
   ]
  },
  {
   "attachments": {},
   "cell_type": "markdown",
   "id": "63491a06",
   "metadata": {},
   "source": [
    "### 54. 正解率の計測\n",
    "52で学習したロジスティック回帰モデルの正解率を，学習データおよび評価データ上で計測せよ．"
   ]
  },
  {
   "cell_type": "code",
   "execution_count": 95,
   "id": "33757a2f",
   "metadata": {},
   "outputs": [
    {
     "name": "stdout",
     "output_type": "stream",
     "text": [
      "0.8982590789966305\n",
      "0.9206586826347305\n"
     ]
    }
   ],
   "source": [
    "from sklearn.metrics import accuracy_score\n",
    "valid_X = np.loadtxt('work/valid_X.feature.txt')\n",
    "valid_y = valid_data['CATEGORY']\n",
    "\n",
    "predict_train = model.predict(train_X)\n",
    "predict_valid = model.predict(valid_X)\n",
    "print(accuracy_score(train_y, predict_train))\n",
    "print(accuracy_score(valid_y, predict_valid))"
   ]
  },
  {
   "cell_type": "code",
   "execution_count": 153,
   "id": "b72f50b8",
   "metadata": {},
   "outputs": [
    {
     "name": "stdout",
     "output_type": "stream",
     "text": [
      "0.9499251216772744\n",
      "0.8952095808383234\n"
     ]
    }
   ],
   "source": [
    "predict_train_tfidf = model_tfidf.predict(tfidf_train_X)\n",
    "predict_valid_tfidf = model_tfidf.predict(tfidf_valid_X)\n",
    "print(accuracy_score(train_y, predict_train_tfidf))\n",
    "print(accuracy_score(valid_y, predict_valid_tfidf))"
   ]
  },
  {
   "attachments": {},
   "cell_type": "markdown",
   "id": "91393f4d",
   "metadata": {},
   "source": [
    "### 55. 混同行列の作成\n",
    "52で学習したロジスティック回帰モデルの混同行列（confusion matrix）を，学習データおよび評価データ上で作成せよ．"
   ]
  },
  {
   "cell_type": "code",
   "execution_count": 157,
   "id": "d6d93388",
   "metadata": {},
   "outputs": [],
   "source": [
    "# b, e の数が多くて、t, m の数が少ないので、正規化して比率で表したい。\n",
    "from sklearn.metrics import confusion_matrix\n",
    "import seaborn as sns\n",
    "\n",
    "def show_confusion_matrix(valid_y, predict_valid):\n",
    "  cm = confusion_matrix(valid_y, predict_valid, normalize='true')\n",
    "  labels = model.classes_\n",
    "  sns.heatmap(cm,\n",
    "              annot=True,\n",
    "                cmap='Reds',\n",
    "                  xticklabels=labels,\n",
    "                  yticklabels=labels)"
   ]
  },
  {
   "cell_type": "code",
   "execution_count": 159,
   "id": "c0174df0",
   "metadata": {},
   "outputs": [
    {
     "data": {
      "image/png": "[encoded data removed]",
      "text/plain": [
       "<Figure size 432x288 with 2 Axes>"
      ]
     },
     "metadata": {
      "needs_background": "light"
     },
     "output_type": "display_data"
    }
   ],
   "source": [
    "show_confusion_matrix(train_y, predict_train)"
   ]
  },
  {
   "cell_type": "code",
   "execution_count": 160,
   "id": "82aeff14",
   "metadata": {},
   "outputs": [
    {
     "data": {
      "image/png": "[encoded data removed]",
      "text/plain": [
       "<Figure size 432x288 with 2 Axes>"
      ]
     },
     "metadata": {
      "needs_background": "light"
     },
     "output_type": "display_data"
    }
   ],
   "source": [
    "show_confusion_matrix(valid_y, predict_valid)"
   ]
  },
  {
   "cell_type": "code",
   "execution_count": 161,
   "id": "443bbe01",
   "metadata": {},
   "outputs": [
    {
     "data": {
      "image/png": "[encoded data removed]",
      "text/plain": [
       "<Figure size 432x288 with 2 Axes>"
      ]
     },
     "metadata": {
      "needs_background": "light"
     },
     "output_type": "display_data"
    }
   ],
   "source": [
    "show_confusion_matrix(train_y, predict_train_tfidf)"
   ]
  },
  {
   "cell_type": "code",
   "execution_count": 162,
   "id": "bcf0086e",
   "metadata": {},
   "outputs": [
    {
     "data": {
      "image/png": "[encoded data removed]",
      "text/plain": [
       "<Figure size 432x288 with 2 Axes>"
      ]
     },
     "metadata": {
      "needs_background": "light"
     },
     "output_type": "display_data"
    }
   ],
   "source": [
    "show_confusion_matrix(valid_y, predict_valid_tfidf)"
   ]
  },
  {
   "cell_type": "code",
   "execution_count": 100,
   "id": "b1a635ea",
   "metadata": {},
   "outputs": [
    {
     "name": "stdout",
     "output_type": "stream",
     "text": [
      "535\n"
     ]
    }
   ],
   "source": [
    "!cut -f 2 work/valid_data.txt | grep b | wc -l"
   ]
  },
  {
   "cell_type": "code",
   "execution_count": 101,
   "id": "37bd5901",
   "metadata": {},
   "outputs": [
    {
     "name": "stdout",
     "output_type": "stream",
     "text": [
      "547\n"
     ]
    }
   ],
   "source": [
    "!cut -f 2 work/valid_data.txt | grep e | wc -l"
   ]
  },
  {
   "cell_type": "code",
   "execution_count": 102,
   "id": "d44e5970",
   "metadata": {},
   "outputs": [
    {
     "name": "stdout",
     "output_type": "stream",
     "text": [
      "96\n"
     ]
    }
   ],
   "source": [
    "!cut -f 2 work/valid_data.txt | grep m | wc -l"
   ]
  },
  {
   "cell_type": "code",
   "execution_count": 103,
   "id": "531a17e2",
   "metadata": {},
   "outputs": [
    {
     "name": "stdout",
     "output_type": "stream",
     "text": [
      "158\n"
     ]
    }
   ],
   "source": [
    "!cut -f 2 work/valid_data.txt | grep t | wc -l"
   ]
  },
  {
   "attachments": {},
   "cell_type": "markdown",
   "id": "086105c8",
   "metadata": {},
   "source": [
    "### 56. 適合率，再現率，F1スコアの計測\n",
    "52で学習したロジスティック回帰モデルの適合率，再現率，F1スコアを，評価データ上で計測せよ．カテゴリごとに適合率，再現率，F1スコアを求め，カテゴリごとの性能をマイクロ平均（micro-average）とマクロ平均（macro-average）で統合せよ"
   ]
  },
  {
   "cell_type": "code",
   "execution_count": 183,
   "id": "5e438ac6",
   "metadata": {},
   "outputs": [],
   "source": [
    "from sklearn.metrics import precision_score, recall_score, f1_score\n",
    "# 各カテゴリのやつ\n",
    "def show_scores(valid_y, predict_valid):\n",
    "    prec = precision_score(valid_y, predict_valid, average=None, labels=['b', 'e', 't', 'm'])\n",
    "    rec = recall_score(valid_y, predict_valid, average=None, labels=['b', 'e', 't', 'm'])\n",
    "    f1 = f1_score(valid_y, predict_valid, average=None, labels=['b', 'e', 't', 'm'])\n",
    "\n",
    "    # micro平均\n",
    "    micro_prec = precision_score(valid_y, predict_valid, average='micro')\n",
    "    micro_rec = recall_score(valid_y, predict_valid, average='micro')\n",
    "    micro_f1 = f1_score(valid_y, predict_valid, average='micro')\n",
    "\n",
    "    # macro平均\n",
    "    macro_prec = precision_score(valid_y, predict_valid, average='macro')\n",
    "    macro_rec = recall_score(valid_y, predict_valid, average='macro')\n",
    "    macro_f1 = f1_score(valid_y, predict_valid, average='macro')\n",
    "\n",
    "    table = pd.DataFrame([prec, rec, f1], index=['適合率', '再現率', 'F1スコア'], columns=['b', 'e', 't', 'm'])\n",
    "    table_mi = pd.DataFrame([[micro_prec, micro_rec, micro_f1]], index=['micro平均'], columns=['適合率', '再現率', 'F1スコア'])\n",
    "    table_ma = pd.DataFrame([[macro_prec, macro_rec, macro_f1]], index=['macro平均'], columns=['適合率', '再現率', 'F1スコア'])\n",
    "    table_m = pd.concat([table_mi, table_ma])\n",
    "    display(table)\n",
    "    display(table_m)"
   ]
  },
  {
   "cell_type": "code",
   "execution_count": 184,
   "id": "0c4b0204",
   "metadata": {},
   "outputs": [
    {
     "data": {
      "text/html": [
       "<div>\n",
       "<style scoped>\n",
       "    .dataframe tbody tr th:only-of-type {\n",
       "        vertical-align: middle;\n",
       "    }\n",
       "\n",
       "    .dataframe tbody tr th {\n",
       "        vertical-align: top;\n",
       "    }\n",
       "\n",
       "    .dataframe thead th {\n",
       "        text-align: right;\n",
       "    }\n",
       "</style>\n",
       "<table border=\"1\" class=\"dataframe\">\n",
       "  <thead>\n",
       "    <tr style=\"text-align: right;\">\n",
       "      <th></th>\n",
       "      <th>b</th>\n",
       "      <th>e</th>\n",
       "      <th>t</th>\n",
       "      <th>m</th>\n",
       "    </tr>\n",
       "  </thead>\n",
       "  <tbody>\n",
       "    <tr>\n",
       "      <th>適合率</th>\n",
       "      <td>0.922101</td>\n",
       "      <td>0.926957</td>\n",
       "      <td>0.881481</td>\n",
       "      <td>0.932432</td>\n",
       "    </tr>\n",
       "    <tr>\n",
       "      <th>再現率</th>\n",
       "      <td>0.951402</td>\n",
       "      <td>0.974406</td>\n",
       "      <td>0.753165</td>\n",
       "      <td>0.718750</td>\n",
       "    </tr>\n",
       "    <tr>\n",
       "      <th>F1スコア</th>\n",
       "      <td>0.936523</td>\n",
       "      <td>0.950089</td>\n",
       "      <td>0.812287</td>\n",
       "      <td>0.811765</td>\n",
       "    </tr>\n",
       "  </tbody>\n",
       "</table>\n",
       "</div>"
      ],
      "text/plain": [
       "              b         e         t         m\n",
       "適合率    0.922101  0.926957  0.881481  0.932432\n",
       "再現率    0.951402  0.974406  0.753165  0.718750\n",
       "F1スコア  0.936523  0.950089  0.812287  0.811765"
      ]
     },
     "metadata": {},
     "output_type": "display_data"
    },
    {
     "data": {
      "text/html": [
       "<div>\n",
       "<style scoped>\n",
       "    .dataframe tbody tr th:only-of-type {\n",
       "        vertical-align: middle;\n",
       "    }\n",
       "\n",
       "    .dataframe tbody tr th {\n",
       "        vertical-align: top;\n",
       "    }\n",
       "\n",
       "    .dataframe thead th {\n",
       "        text-align: right;\n",
       "    }\n",
       "</style>\n",
       "<table border=\"1\" class=\"dataframe\">\n",
       "  <thead>\n",
       "    <tr style=\"text-align: right;\">\n",
       "      <th></th>\n",
       "      <th>適合率</th>\n",
       "      <th>再現率</th>\n",
       "      <th>F1スコア</th>\n",
       "    </tr>\n",
       "  </thead>\n",
       "  <tbody>\n",
       "    <tr>\n",
       "      <th>micro平均</th>\n",
       "      <td>0.920659</td>\n",
       "      <td>0.920659</td>\n",
       "      <td>0.920659</td>\n",
       "    </tr>\n",
       "    <tr>\n",
       "      <th>macro平均</th>\n",
       "      <td>0.915743</td>\n",
       "      <td>0.849431</td>\n",
       "      <td>0.877666</td>\n",
       "    </tr>\n",
       "  </tbody>\n",
       "</table>\n",
       "</div>"
      ],
      "text/plain": [
       "              適合率       再現率     F1スコア\n",
       "micro平均  0.920659  0.920659  0.920659\n",
       "macro平均  0.915743  0.849431  0.877666"
      ]
     },
     "metadata": {},
     "output_type": "display_data"
    }
   ],
   "source": [
    "show_scores(valid_y, predict_valid)"
   ]
  },
  {
   "cell_type": "code",
   "execution_count": 185,
   "id": "578af2a6",
   "metadata": {},
   "outputs": [
    {
     "data": {
      "text/html": [
       "<div>\n",
       "<style scoped>\n",
       "    .dataframe tbody tr th:only-of-type {\n",
       "        vertical-align: middle;\n",
       "    }\n",
       "\n",
       "    .dataframe tbody tr th {\n",
       "        vertical-align: top;\n",
       "    }\n",
       "\n",
       "    .dataframe thead th {\n",
       "        text-align: right;\n",
       "    }\n",
       "</style>\n",
       "<table border=\"1\" class=\"dataframe\">\n",
       "  <thead>\n",
       "    <tr style=\"text-align: right;\">\n",
       "      <th></th>\n",
       "      <th>b</th>\n",
       "      <th>e</th>\n",
       "      <th>t</th>\n",
       "      <th>m</th>\n",
       "    </tr>\n",
       "  </thead>\n",
       "  <tbody>\n",
       "    <tr>\n",
       "      <th>適合率</th>\n",
       "      <td>0.899115</td>\n",
       "      <td>0.885057</td>\n",
       "      <td>0.885714</td>\n",
       "      <td>0.982456</td>\n",
       "    </tr>\n",
       "    <tr>\n",
       "      <th>再現率</th>\n",
       "      <td>0.949533</td>\n",
       "      <td>0.985375</td>\n",
       "      <td>0.588608</td>\n",
       "      <td>0.583333</td>\n",
       "    </tr>\n",
       "    <tr>\n",
       "      <th>F1スコア</th>\n",
       "      <td>0.923636</td>\n",
       "      <td>0.932526</td>\n",
       "      <td>0.707224</td>\n",
       "      <td>0.732026</td>\n",
       "    </tr>\n",
       "  </tbody>\n",
       "</table>\n",
       "</div>"
      ],
      "text/plain": [
       "              b         e         t         m\n",
       "適合率    0.899115  0.885057  0.885714  0.982456\n",
       "再現率    0.949533  0.985375  0.588608  0.583333\n",
       "F1スコア  0.923636  0.932526  0.707224  0.732026"
      ]
     },
     "metadata": {},
     "output_type": "display_data"
    },
    {
     "data": {
      "text/html": [
       "<div>\n",
       "<style scoped>\n",
       "    .dataframe tbody tr th:only-of-type {\n",
       "        vertical-align: middle;\n",
       "    }\n",
       "\n",
       "    .dataframe tbody tr th {\n",
       "        vertical-align: top;\n",
       "    }\n",
       "\n",
       "    .dataframe thead th {\n",
       "        text-align: right;\n",
       "    }\n",
       "</style>\n",
       "<table border=\"1\" class=\"dataframe\">\n",
       "  <thead>\n",
       "    <tr style=\"text-align: right;\">\n",
       "      <th></th>\n",
       "      <th>適合率</th>\n",
       "      <th>再現率</th>\n",
       "      <th>F1スコア</th>\n",
       "    </tr>\n",
       "  </thead>\n",
       "  <tbody>\n",
       "    <tr>\n",
       "      <th>micro平均</th>\n",
       "      <td>0.895210</td>\n",
       "      <td>0.895210</td>\n",
       "      <td>0.895210</td>\n",
       "    </tr>\n",
       "    <tr>\n",
       "      <th>macro平均</th>\n",
       "      <td>0.913086</td>\n",
       "      <td>0.776712</td>\n",
       "      <td>0.823853</td>\n",
       "    </tr>\n",
       "  </tbody>\n",
       "</table>\n",
       "</div>"
      ],
      "text/plain": [
       "              適合率       再現率     F1スコア\n",
       "micro平均  0.895210  0.895210  0.895210\n",
       "macro平均  0.913086  0.776712  0.823853"
      ]
     },
     "metadata": {},
     "output_type": "display_data"
    }
   ],
   "source": [
    "show_scores(valid_y, predict_valid_tfidf)"
   ]
  },
  {
   "attachments": {},
   "cell_type": "markdown",
   "id": "0e0424b7",
   "metadata": {},
   "source": [
    "### 57. 特徴量の重みの確認\n",
    "52で学習したロジスティック回帰モデルの中で，重みの高い特徴量トップ10と，重みの低い特徴量トップ10を確認せよ"
   ]
  },
  {
   "cell_type": "code",
   "execution_count": 107,
   "id": "243f51af",
   "metadata": {},
   "outputs": [
    {
     "name": "stdout",
     "output_type": "stream",
     "text": [
      "【カテゴリ】b\n"
     ]
    },
    {
     "data": {
      "text/html": [
       "<div>\n",
       "<style scoped>\n",
       "    .dataframe tbody tr th:only-of-type {\n",
       "        vertical-align: middle;\n",
       "    }\n",
       "\n",
       "    .dataframe tbody tr th {\n",
       "        vertical-align: top;\n",
       "    }\n",
       "\n",
       "    .dataframe thead th {\n",
       "        text-align: right;\n",
       "    }\n",
       "</style>\n",
       "<table border=\"1\" class=\"dataframe\">\n",
       "  <thead>\n",
       "    <tr style=\"text-align: right;\">\n",
       "      <th></th>\n",
       "      <th>1位</th>\n",
       "      <th>2位</th>\n",
       "      <th>3位</th>\n",
       "      <th>4位</th>\n",
       "      <th>5位</th>\n",
       "      <th>6位</th>\n",
       "      <th>7位</th>\n",
       "      <th>8位</th>\n",
       "      <th>9位</th>\n",
       "      <th>10位</th>\n",
       "    </tr>\n",
       "  </thead>\n",
       "  <tbody>\n",
       "    <tr>\n",
       "      <th>TOP10</th>\n",
       "      <td>bank</td>\n",
       "      <td>fed</td>\n",
       "      <td>ecb</td>\n",
       "      <td>ukraine</td>\n",
       "      <td>argentina</td>\n",
       "      <td>obamacare</td>\n",
       "      <td>china</td>\n",
       "      <td>yellen</td>\n",
       "      <td>stocks</td>\n",
       "      <td>buy</td>\n",
       "    </tr>\n",
       "  </tbody>\n",
       "</table>\n",
       "</div>"
      ],
      "text/plain": [
       "         1位   2位   3位       4位         5位         6位     7位      8位      9位  \\\n",
       "TOP10  bank  fed  ecb  ukraine  argentina  obamacare  china  yellen  stocks   \n",
       "\n",
       "       10位  \n",
       "TOP10  buy  "
      ]
     },
     "metadata": {},
     "output_type": "display_data"
    },
    {
     "data": {
      "text/html": [
       "<div>\n",
       "<style scoped>\n",
       "    .dataframe tbody tr th:only-of-type {\n",
       "        vertical-align: middle;\n",
       "    }\n",
       "\n",
       "    .dataframe tbody tr th {\n",
       "        vertical-align: top;\n",
       "    }\n",
       "\n",
       "    .dataframe thead th {\n",
       "        text-align: right;\n",
       "    }\n",
       "</style>\n",
       "<table border=\"1\" class=\"dataframe\">\n",
       "  <thead>\n",
       "    <tr style=\"text-align: right;\">\n",
       "      <th></th>\n",
       "      <th>1位</th>\n",
       "      <th>2位</th>\n",
       "      <th>3位</th>\n",
       "      <th>4位</th>\n",
       "      <th>5位</th>\n",
       "      <th>6位</th>\n",
       "      <th>7位</th>\n",
       "      <th>8位</th>\n",
       "      <th>9位</th>\n",
       "      <th>10位</th>\n",
       "    </tr>\n",
       "  </thead>\n",
       "  <tbody>\n",
       "    <tr>\n",
       "      <th>WORST10</th>\n",
       "      <td>activision</td>\n",
       "      <td>aereo</td>\n",
       "      <td>ebola</td>\n",
       "      <td>nintendo</td>\n",
       "      <td>mother</td>\n",
       "      <td>cap</td>\n",
       "      <td>heartbleed</td>\n",
       "      <td>virus</td>\n",
       "      <td>drug</td>\n",
       "      <td>victims</td>\n",
       "    </tr>\n",
       "  </tbody>\n",
       "</table>\n",
       "</div>"
      ],
      "text/plain": [
       "                 1位     2位     3位        4位      5位   6位          7位     8位  \\\n",
       "WORST10  activision  aereo  ebola  nintendo  mother  cap  heartbleed  virus   \n",
       "\n",
       "           9位      10位  \n",
       "WORST10  drug  victims  "
      ]
     },
     "metadata": {},
     "output_type": "display_data"
    },
    {
     "name": "stdout",
     "output_type": "stream",
     "text": [
      "【カテゴリ】e\n"
     ]
    },
    {
     "data": {
      "text/html": [
       "<div>\n",
       "<style scoped>\n",
       "    .dataframe tbody tr th:only-of-type {\n",
       "        vertical-align: middle;\n",
       "    }\n",
       "\n",
       "    .dataframe tbody tr th {\n",
       "        vertical-align: top;\n",
       "    }\n",
       "\n",
       "    .dataframe thead th {\n",
       "        text-align: right;\n",
       "    }\n",
       "</style>\n",
       "<table border=\"1\" class=\"dataframe\">\n",
       "  <thead>\n",
       "    <tr style=\"text-align: right;\">\n",
       "      <th></th>\n",
       "      <th>1位</th>\n",
       "      <th>2位</th>\n",
       "      <th>3位</th>\n",
       "      <th>4位</th>\n",
       "      <th>5位</th>\n",
       "      <th>6位</th>\n",
       "      <th>7位</th>\n",
       "      <th>8位</th>\n",
       "      <th>9位</th>\n",
       "      <th>10位</th>\n",
       "    </tr>\n",
       "  </thead>\n",
       "  <tbody>\n",
       "    <tr>\n",
       "      <th>TOP10</th>\n",
       "      <td>chris</td>\n",
       "      <td>kardashian</td>\n",
       "      <td>paul</td>\n",
       "      <td>miley</td>\n",
       "      <td>trailer</td>\n",
       "      <td>beyonce</td>\n",
       "      <td>cyrus</td>\n",
       "      <td>thrones</td>\n",
       "      <td>kim</td>\n",
       "      <td>film</td>\n",
       "    </tr>\n",
       "  </tbody>\n",
       "</table>\n",
       "</div>"
      ],
      "text/plain": [
       "          1位          2位    3位     4位       5位       6位     7位       8位   9位  \\\n",
       "TOP10  chris  kardashian  paul  miley  trailer  beyonce  cyrus  thrones  kim   \n",
       "\n",
       "        10位  \n",
       "TOP10  film  "
      ]
     },
     "metadata": {},
     "output_type": "display_data"
    },
    {
     "data": {
      "text/html": [
       "<div>\n",
       "<style scoped>\n",
       "    .dataframe tbody tr th:only-of-type {\n",
       "        vertical-align: middle;\n",
       "    }\n",
       "\n",
       "    .dataframe tbody tr th {\n",
       "        vertical-align: top;\n",
       "    }\n",
       "\n",
       "    .dataframe thead th {\n",
       "        text-align: right;\n",
       "    }\n",
       "</style>\n",
       "<table border=\"1\" class=\"dataframe\">\n",
       "  <thead>\n",
       "    <tr style=\"text-align: right;\">\n",
       "      <th></th>\n",
       "      <th>1位</th>\n",
       "      <th>2位</th>\n",
       "      <th>3位</th>\n",
       "      <th>4位</th>\n",
       "      <th>5位</th>\n",
       "      <th>6位</th>\n",
       "      <th>7位</th>\n",
       "      <th>8位</th>\n",
       "      <th>9位</th>\n",
       "      <th>10位</th>\n",
       "    </tr>\n",
       "  </thead>\n",
       "  <tbody>\n",
       "    <tr>\n",
       "      <th>WORST10</th>\n",
       "      <td>google</td>\n",
       "      <td>china</td>\n",
       "      <td>study</td>\n",
       "      <td>facebook</td>\n",
       "      <td>billion</td>\n",
       "      <td>gm</td>\n",
       "      <td>microsoft</td>\n",
       "      <td>data</td>\n",
       "      <td>obamacare</td>\n",
       "      <td>oil</td>\n",
       "    </tr>\n",
       "  </tbody>\n",
       "</table>\n",
       "</div>"
      ],
      "text/plain": [
       "             1位     2位     3位        4位       5位  6位         7位    8位  \\\n",
       "WORST10  google  china  study  facebook  billion  gm  microsoft  data   \n",
       "\n",
       "                9位  10位  \n",
       "WORST10  obamacare  oil  "
      ]
     },
     "metadata": {},
     "output_type": "display_data"
    },
    {
     "name": "stdout",
     "output_type": "stream",
     "text": [
      "【カテゴリ】m\n"
     ]
    },
    {
     "data": {
      "text/html": [
       "<div>\n",
       "<style scoped>\n",
       "    .dataframe tbody tr th:only-of-type {\n",
       "        vertical-align: middle;\n",
       "    }\n",
       "\n",
       "    .dataframe tbody tr th {\n",
       "        vertical-align: top;\n",
       "    }\n",
       "\n",
       "    .dataframe thead th {\n",
       "        text-align: right;\n",
       "    }\n",
       "</style>\n",
       "<table border=\"1\" class=\"dataframe\">\n",
       "  <thead>\n",
       "    <tr style=\"text-align: right;\">\n",
       "      <th></th>\n",
       "      <th>1位</th>\n",
       "      <th>2位</th>\n",
       "      <th>3位</th>\n",
       "      <th>4位</th>\n",
       "      <th>5位</th>\n",
       "      <th>6位</th>\n",
       "      <th>7位</th>\n",
       "      <th>8位</th>\n",
       "      <th>9位</th>\n",
       "      <th>10位</th>\n",
       "    </tr>\n",
       "  </thead>\n",
       "  <tbody>\n",
       "    <tr>\n",
       "      <th>TOP10</th>\n",
       "      <td>ebola</td>\n",
       "      <td>fda</td>\n",
       "      <td>cancer</td>\n",
       "      <td>mers</td>\n",
       "      <td>cases</td>\n",
       "      <td>study</td>\n",
       "      <td>brain</td>\n",
       "      <td>drug</td>\n",
       "      <td>aids</td>\n",
       "      <td>health</td>\n",
       "    </tr>\n",
       "  </tbody>\n",
       "</table>\n",
       "</div>"
      ],
      "text/plain": [
       "          1位   2位      3位    4位     5位     6位     7位    8位    9位     10位\n",
       "TOP10  ebola  fda  cancer  mers  cases  study  brain  drug  aids  health"
      ]
     },
     "metadata": {},
     "output_type": "display_data"
    },
    {
     "data": {
      "text/html": [
       "<div>\n",
       "<style scoped>\n",
       "    .dataframe tbody tr th:only-of-type {\n",
       "        vertical-align: middle;\n",
       "    }\n",
       "\n",
       "    .dataframe tbody tr th {\n",
       "        vertical-align: top;\n",
       "    }\n",
       "\n",
       "    .dataframe thead th {\n",
       "        text-align: right;\n",
       "    }\n",
       "</style>\n",
       "<table border=\"1\" class=\"dataframe\">\n",
       "  <thead>\n",
       "    <tr style=\"text-align: right;\">\n",
       "      <th></th>\n",
       "      <th>1位</th>\n",
       "      <th>2位</th>\n",
       "      <th>3位</th>\n",
       "      <th>4位</th>\n",
       "      <th>5位</th>\n",
       "      <th>6位</th>\n",
       "      <th>7位</th>\n",
       "      <th>8位</th>\n",
       "      <th>9位</th>\n",
       "      <th>10位</th>\n",
       "    </tr>\n",
       "  </thead>\n",
       "  <tbody>\n",
       "    <tr>\n",
       "      <th>WORST10</th>\n",
       "      <td>gm</td>\n",
       "      <td>twitter</td>\n",
       "      <td>facebook</td>\n",
       "      <td>dimon</td>\n",
       "      <td>ceo</td>\n",
       "      <td>climate</td>\n",
       "      <td>apple</td>\n",
       "      <td>amazon</td>\n",
       "      <td>profit</td>\n",
       "      <td>sell</td>\n",
       "    </tr>\n",
       "  </tbody>\n",
       "</table>\n",
       "</div>"
      ],
      "text/plain": [
       "         1位       2位        3位     4位   5位       6位     7位      8位      9位  \\\n",
       "WORST10  gm  twitter  facebook  dimon  ceo  climate  apple  amazon  profit   \n",
       "\n",
       "          10位  \n",
       "WORST10  sell  "
      ]
     },
     "metadata": {},
     "output_type": "display_data"
    },
    {
     "name": "stdout",
     "output_type": "stream",
     "text": [
      "【カテゴリ】t\n"
     ]
    },
    {
     "data": {
      "text/html": [
       "<div>\n",
       "<style scoped>\n",
       "    .dataframe tbody tr th:only-of-type {\n",
       "        vertical-align: middle;\n",
       "    }\n",
       "\n",
       "    .dataframe tbody tr th {\n",
       "        vertical-align: top;\n",
       "    }\n",
       "\n",
       "    .dataframe thead th {\n",
       "        text-align: right;\n",
       "    }\n",
       "</style>\n",
       "<table border=\"1\" class=\"dataframe\">\n",
       "  <thead>\n",
       "    <tr style=\"text-align: right;\">\n",
       "      <th></th>\n",
       "      <th>1位</th>\n",
       "      <th>2位</th>\n",
       "      <th>3位</th>\n",
       "      <th>4位</th>\n",
       "      <th>5位</th>\n",
       "      <th>6位</th>\n",
       "      <th>7位</th>\n",
       "      <th>8位</th>\n",
       "      <th>9位</th>\n",
       "      <th>10位</th>\n",
       "    </tr>\n",
       "  </thead>\n",
       "  <tbody>\n",
       "    <tr>\n",
       "      <th>TOP10</th>\n",
       "      <td>google</td>\n",
       "      <td>facebook</td>\n",
       "      <td>apple</td>\n",
       "      <td>microsoft</td>\n",
       "      <td>climate</td>\n",
       "      <td>activision</td>\n",
       "      <td>nasa</td>\n",
       "      <td>tesla</td>\n",
       "      <td>heartbleed</td>\n",
       "      <td>fcc</td>\n",
       "    </tr>\n",
       "  </tbody>\n",
       "</table>\n",
       "</div>"
      ],
      "text/plain": [
       "           1位        2位     3位         4位       5位          6位    7位     8位  \\\n",
       "TOP10  google  facebook  apple  microsoft  climate  activision  nasa  tesla   \n",
       "\n",
       "               9位  10位  \n",
       "TOP10  heartbleed  fcc  "
      ]
     },
     "metadata": {},
     "output_type": "display_data"
    },
    {
     "data": {
      "text/html": [
       "<div>\n",
       "<style scoped>\n",
       "    .dataframe tbody tr th:only-of-type {\n",
       "        vertical-align: middle;\n",
       "    }\n",
       "\n",
       "    .dataframe tbody tr th {\n",
       "        vertical-align: top;\n",
       "    }\n",
       "\n",
       "    .dataframe thead th {\n",
       "        text-align: right;\n",
       "    }\n",
       "</style>\n",
       "<table border=\"1\" class=\"dataframe\">\n",
       "  <thead>\n",
       "    <tr style=\"text-align: right;\">\n",
       "      <th></th>\n",
       "      <th>1位</th>\n",
       "      <th>2位</th>\n",
       "      <th>3位</th>\n",
       "      <th>4位</th>\n",
       "      <th>5位</th>\n",
       "      <th>6位</th>\n",
       "      <th>7位</th>\n",
       "      <th>8位</th>\n",
       "      <th>9位</th>\n",
       "      <th>10位</th>\n",
       "    </tr>\n",
       "  </thead>\n",
       "  <tbody>\n",
       "    <tr>\n",
       "      <th>WORST10</th>\n",
       "      <td>stocks</td>\n",
       "      <td>percent</td>\n",
       "      <td>grows</td>\n",
       "      <td>close</td>\n",
       "      <td>fed</td>\n",
       "      <td>men</td>\n",
       "      <td>american</td>\n",
       "      <td>upholds</td>\n",
       "      <td>deals</td>\n",
       "      <td>kids</td>\n",
       "    </tr>\n",
       "  </tbody>\n",
       "</table>\n",
       "</div>"
      ],
      "text/plain": [
       "             1位       2位     3位     4位   5位   6位        7位       8位     9位  \\\n",
       "WORST10  stocks  percent  grows  close  fed  men  american  upholds  deals   \n",
       "\n",
       "          10位  \n",
       "WORST10  kids  "
      ]
     },
     "metadata": {},
     "output_type": "display_data"
    }
   ],
   "source": [
    "import pandas as pd\n",
    "classes = model.classes_\n",
    "coefs = model.coef_\n",
    "features = vectorizer.get_feature_names_out()\n",
    "\n",
    "for cl, co in zip(classes, coefs):\n",
    "    top10_ind = np.argsort(co)[::-1][:10]\n",
    "    top10 = [features[i] for i in top10_ind]\n",
    "    df_top = pd.DataFrame(top10, columns=['TOP10'], index=[f'{i}位' for i in range(1,11)])\n",
    "\n",
    "    worst10_ind = np.argsort(co)[:10]\n",
    "    worst10 = [features[i] for i in worst10_ind]\n",
    "    df_worst = pd.DataFrame(worst10, columns=['WORST10'], index=[f'{i}位' for i in range(1,11)])\n",
    "\n",
    "    print(f'【カテゴリ】{cl}')\n",
    "    display(df_top.T)   # Tは転置\n",
    "    display(df_worst.T)"
   ]
  },
  {
   "attachments": {},
   "cell_type": "markdown",
   "id": "70f72aaf",
   "metadata": {},
   "source": [
    "### 58. 正則化パラメータの変更\n",
    "ロジスティック回帰モデルを学習するとき，正則化パラメータを調整することで，学習時の過学習（overfitting）の度合いを制御できる．異なる正則化パラメータでロジスティック回帰モデルを学習し，学習データ，検証データ，および評価データ上の正解率を求めよ．実験の結果は，正則化パラメータを横軸，正解率を縦軸としたグラフにまとめよ"
   ]
  },
  {
   "cell_type": "code",
   "execution_count": 143,
   "id": "7c187372",
   "metadata": {},
   "outputs": [],
   "source": [
    "import matplotlib.pyplot as plt\n",
    "def show_train_result(train_data, valid_data, test_data, train_X, valid_X, test_X):\n",
    "    train_y = train_data['CATEGORY']\n",
    "    valid_y = valid_data['CATEGORY']\n",
    "    test_y = test_data['CATEGORY']\n",
    "\n",
    "    result = {'train' : {}, 'valid' : {}, 'test' : {}}\n",
    "\n",
    "    for i in range(7):\n",
    "        c = 10**(i-3)\n",
    "        model = LogisticRegression(C=c, max_iter=1000, random_state=1234)\n",
    "        model.fit(train_X, train_y)\n",
    "        train_predict = model.predict(train_X)\n",
    "        valid_predict = model.predict(valid_X)\n",
    "        test_predict = model.predict(test_X)\n",
    "        result['train'][c] = accuracy_score(train_y, train_predict)\n",
    "        result['valid'][c] = accuracy_score(valid_y, valid_predict)\n",
    "        result['test'][c] = accuracy_score(test_y, test_predict)\n",
    "        \n",
    "    plt.plot(result['train'].keys(), result['train'].values(), label = \"train\")\n",
    "    plt.plot(result['valid'].keys(), result['valid'].values(), label = \"valid\")\n",
    "    plt.plot(result['test'].keys(), result['test'].values(), label = \"test\")\n",
    "\n",
    "    plt.legend(bbox_to_anchor=(0.90, 0.40), loc='lower right', borderaxespad=-2, fontsize=14)\n",
    "\n",
    "    plt.xlabel(\"C\")\n",
    "    plt.ylabel(\"accuracys\")\n",
    "    plt.xscale('log')\n",
    "    plt.show()"
   ]
  },
  {
   "cell_type": "code",
   "execution_count": 144,
   "id": "f1b77a3b",
   "metadata": {},
   "outputs": [
    {
     "data": {
      "image/png": "[encoded data removed]",
      "text/plain": [
       "<Figure size 432x288 with 1 Axes>"
      ]
     },
     "metadata": {
      "needs_background": "light"
     },
     "output_type": "display_data"
    }
   ],
   "source": [
    "show_train_result(train_data, valid_data, test_data, train_X, valid_X, test_X)"
   ]
  },
  {
   "cell_type": "code",
   "execution_count": 145,
   "id": "f101226f",
   "metadata": {},
   "outputs": [
    {
     "data": {
      "image/png": "[encoded data removed]",
      "text/plain": [
       "<Figure size 432x288 with 1 Axes>"
      ]
     },
     "metadata": {
      "needs_background": "light"
     },
     "output_type": "display_data"
    }
   ],
   "source": [
    "show_train_result(train_data, valid_data, test_data, tfidf_train_X, tfidf_valid_X, tfidf_test_X)"
   ]
  },
  {
   "attachments": {},
   "cell_type": "markdown",
   "id": "d84b3755",
   "metadata": {},
   "source": [
    "### 59. ハイパーパラメータの探索\n",
    "学習アルゴリズムや学習パラメータを変えながら，カテゴリ分類モデルを学習せよ．検証データ上の正解率が最も高くなる学習アルゴリズム・パラメータを求めよ．また，その学習アルゴリズム・パラメータを用いたときの評価データ上の正解率を求めよ．"
   ]
  },
  {
   "cell_type": "code",
   "execution_count": 130,
   "id": "5e518a64",
   "metadata": {},
   "outputs": [],
   "source": [
    "from sklearn.model_selection import GridSearchCV\n",
    "from sklearn.linear_model import LogisticRegression\n",
    "test_y = test_data['CATEGORY']\n",
    "\n",
    "def grid_search(train, valid, test):\n",
    "    model = LogisticRegression(solver='lbfgs')\n",
    "    param_grid = {'C': [10**i for i in range(-3, 4)],\n",
    "                'max_iter': list(range(1000, 5000, 100))}\n",
    "    grid_search = GridSearchCV(estimator = model, \n",
    "                                    param_grid = param_grid,  # チューニングするパラメータ\n",
    "                                    scoring = 'accuracy'  # スコアリング\n",
    "                                    )\n",
    "    grid_search.fit(valid, valid_y)\n",
    "\n",
    "    best_model = LogisticRegression(**grid_search.best_params_)\n",
    "    best_model.fit(train, train_y)\n",
    "    pred = best_model.predict(test)\n",
    "\n",
    "\n",
    "    print(f\"ベストスコア:{grid_search.best_score_}\")\n",
    "    print(f\"パラメーター:{grid_search.best_params_}\")\n",
    "    print(f\"テストスコア:{accuracy_score(test_y, pred)}\")\n",
    "\n",
    "    defoult_model = LogisticRegression(max_iter=1000)\n",
    "    defoult_model.fit(train, train_y)\n",
    "    defoult_pred = defoult_model.predict(test)\n",
    "    print(f\"デフォルトモデルのテストスコア:{accuracy_score(test_y, defoult_pred)}\")"
   ]
  },
  {
   "cell_type": "code",
   "execution_count": 131,
   "id": "c6d8665e",
   "metadata": {},
   "outputs": [
    {
     "name": "stdout",
     "output_type": "stream",
     "text": [
      "ベストスコア:0.8248504667672872\n",
      "パラメーター:{'C': 10, 'max_iter': 1000}\n",
      "テストスコア:0.9116766467065869\n",
      "デフォルトモデルのテストスコア:0.8952095808383234\n"
     ]
    }
   ],
   "source": [
    "test_y = test_data['CATEGORY']\n",
    "grid_search(train_X, valid_X, test_X)"
   ]
  },
  {
   "cell_type": "code",
   "execution_count": 132,
   "id": "1d099797",
   "metadata": {},
   "outputs": [
    {
     "name": "stdout",
     "output_type": "stream",
     "text": [
      "ベストスコア:0.8240958130694841\n",
      "パラメーター:{'C': 1000, 'max_iter': 1000}\n",
      "テストスコア:0.9303892215568862\n",
      "デフォルトモデルのテストスコア:0.8832335329341318\n"
     ]
    }
   ],
   "source": [
    "grid_search(tfidf_train_X, tfidf_valid_X, tfidf_test_X)"
   ]
  },
  {
   "cell_type": "code",
   "execution_count": 149,
   "id": "b7e6683e",
   "metadata": {},
   "outputs": [],
   "source": [
    "from sklearn.svm import LinearSVC\n",
    "\n",
    "def grid_search_svm(train, valid, test):\n",
    "    model = LinearSVC()\n",
    "    param_grid = {'C': [10**i for i in range(-3, 4)],\n",
    "                'max_iter': list(range(9000, 14000, 100))}\n",
    "    grid_search = GridSearchCV(estimator = model, \n",
    "                                    param_grid = param_grid,  # チューニングするパラメータ\n",
    "                                    scoring = 'accuracy'  # スコアリング\n",
    "                                    )\n",
    "    grid_search.fit(valid, valid_y)\n",
    "\n",
    "    best_model = LogisticRegression(**grid_search.best_params_)\n",
    "    best_model.fit(train, train_y)\n",
    "    pred = best_model.predict(test)\n",
    "\n",
    "    print(f\"ベストスコア:{grid_search.best_score_}\")\n",
    "    print(f\"パラメーター:{grid_search.best_params_}\")\n",
    "    print(f\"テストスコア:{accuracy_score(test_y, pred)}\")\n",
    "\n",
    "    defoult_model = LogisticRegression(max_iter=1000)\n",
    "    defoult_model.fit(train, train_y)\n",
    "    defoult_pred = defoult_model.predict(test)\n",
    "    print(f\"デフォルトモデルのテストスコア:{accuracy_score(test_y, defoult_pred)}\")"
   ]
  },
  {
   "cell_type": "code",
   "execution_count": 150,
   "id": "8aaed8fc",
   "metadata": {},
   "outputs": [
    {
     "name": "stdout",
     "output_type": "stream",
     "text": [
      "ベストスコア:0.8285901950919559\n",
      "パラメーター:{'C': 0.1, 'max_iter': 9000}\n",
      "テストスコア:0.8390718562874252\n",
      "デフォルトモデルのテストスコア:0.8952095808383234\n"
     ]
    }
   ],
   "source": [
    "grid_search_svm(train_X, valid_X, test_X)"
   ]
  },
  {
   "cell_type": "code",
   "execution_count": 151,
   "id": "00f26f16",
   "metadata": {},
   "outputs": [
    {
     "name": "stdout",
     "output_type": "stream",
     "text": [
      "ベストスコア:0.8278327463804572\n",
      "パラメーター:{'C': 10, 'max_iter': 9000}\n",
      "テストスコア:0.9214071856287425\n",
      "デフォルトモデルのテストスコア:0.8832335329341318\n"
     ]
    }
   ],
   "source": [
    "grid_search_svm(tfidf_train_X, tfidf_valid_X, tfidf_test_X)"
   ]
  }
 ],
 "metadata": {
  "kernelspec": {
   "display_name": "Python 3 (ipykernel)",
   "language": "python",
   "name": "python3"
  },
  "language_info": {
   "codemirror_mode": {
    "name": "ipython",
    "version": 3
   },
   "file_extension": ".py",
   "mimetype": "text/x-python",
   "name": "python",
   "nbconvert_exporter": "python",
   "pygments_lexer": "ipython3",
   "version": "3.10.5"
  }
 },
 "nbformat": 4,
 "nbformat_minor": 5
}
