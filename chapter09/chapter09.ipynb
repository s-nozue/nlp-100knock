{
 "cells": [
  {
   "cell_type": "code",
   "execution_count": 2,
   "metadata": {},
   "outputs": [
    {
     "name": "stdout",
     "output_type": "stream",
     "text": [
      "[tensor([4, 5, 6]), tensor([2, 3]), tensor([1])]\n",
      "PackedSequence(data=tensor([4, 2, 1, 5, 3, 6]), batch_sizes=tensor([3, 2, 1]), sorted_indices=None, unsorted_indices=None)\n",
      "tensor([[4, 5, 6],\n",
      "        [2, 3, 0],\n",
      "        [1, 0, 0]])\n",
      "tensor([3, 2, 1])\n"
     ]
    }
   ],
   "source": [
    "from torch.nn.utils.rnn import pack_sequence, pad_packed_sequence\n",
    "import torch\n",
    "\n",
    "a = torch.tensor([4,5,6])\n",
    "b = torch.tensor([2,3])\n",
    "c = torch.tensor([1])\n",
    "input_data = ([a,b,c])\n",
    "print(input_data)\n",
    "# [tensor([1]), tensor([2, 3]), tensor([4, 5, 6])]\n",
    "packed = pack_sequence(input_data, enforce_sorted=True) # enforce_sortedはデフォルトがTrue\n",
    "print(packed)\n",
    "# PackedSequence(data=tensor([4, 2, 1, 5, 3, 6]), \n",
    "# batch_sizes=tensor([3, 2, 1]), \n",
    "# sorted_indices=None, unsorted_indices=None)\n",
    "padded, x = pad_packed_sequence(packed, batch_first=True, \n",
    "                                padding_value=0, total_length=None)\n",
    "print(padded)\n",
    "print(x)"
   ]
  },
  {
   "cell_type": "code",
   "execution_count": 4,
   "metadata": {},
   "outputs": [
    {
     "data": {
      "text/plain": [
       "tensor([[0, 0],\n",
       "        [0, 0],\n",
       "        [0, 0]])"
      ]
     },
     "execution_count": 4,
     "metadata": {},
     "output_type": "execute_result"
    }
   ],
   "source": [
    "torch.zeros(3, 2, dtype=torch.long)"
   ]
  },
  {
   "cell_type": "code",
   "execution_count": 7,
   "metadata": {},
   "outputs": [
    {
     "name": "stdout",
     "output_type": "stream",
     "text": [
      "tensor([2, 1, 0]) tensor([0, 2, 1])\n",
      "tensor([8, 6, 3])\n",
      "tensor([2, 1, 4])\n"
     ]
    }
   ],
   "source": [
    "a = torch.tensor([8,3,6])\n",
    "b = torch.tensor([2,4,1])\n",
    "c = torch.tensor([2,0,1])\n",
    "\n",
    "c, idx = c.sort(descending=True)\n",
    "print(c, idx)\n",
    "a = a[idx]\n",
    "b = b[idx]\n",
    "print(a)\n",
    "print(b)"
   ]
  },
  {
   "cell_type": "code",
   "execution_count": 10,
   "metadata": {},
   "outputs": [
    {
     "data": {
      "text/plain": [
       "tensor([1, 1, 1, 0, 0, 0])"
      ]
     },
     "execution_count": 10,
     "metadata": {},
     "output_type": "execute_result"
    }
   ],
   "source": [
    "a = torch.tensor([1, 1, 1])\n",
    "b = torch.tensor([0, 0, 0])\n",
    "c = torch.cat([a, b], dim=0)\n",
    "c"
   ]
  },
  {
   "cell_type": "code",
   "execution_count": 16,
   "metadata": {},
   "outputs": [
    {
     "data": {
      "text/plain": [
       "3"
      ]
     },
     "execution_count": 16,
     "metadata": {},
     "output_type": "execute_result"
    }
   ],
   "source": [
    "a = torch.tensor([1, 2, 3])\n",
    "\n",
    "len(a)"
   ]
  },
  {
   "cell_type": "code",
   "execution_count": 3,
   "metadata": {},
   "outputs": [],
   "source": [
    "import torch\n",
    "\n",
    "a = [0] * 3\n",
    "a = torch.tensor(a)\n",
    "\n",
    "if a.any():\n",
    "    print('a')"
   ]
  },
  {
   "cell_type": "code",
   "execution_count": null,
   "metadata": {},
   "outputs": [],
   "source": []
  }
 ],
 "metadata": {
  "kernelspec": {
   "display_name": "play",
   "language": "python",
   "name": "python3"
  },
  "language_info": {
   "codemirror_mode": {
    "name": "ipython",
    "version": 3
   },
   "file_extension": ".py",
   "mimetype": "text/x-python",
   "name": "python",
   "nbconvert_exporter": "python",
   "pygments_lexer": "ipython3",
   "version": "3.10.5"
  }
 },
 "nbformat": 4,
 "nbformat_minor": 2
}
