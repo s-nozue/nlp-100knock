{
 "cells": [
  {
   "cell_type": "markdown",
   "id": "60718624-42eb-42c1-b462-cab63a16dd98",
   "metadata": {},
   "source": [
    "## 00. 文字列の逆順"
   ]
  },
  {
   "cell_type": "markdown",
   "id": "287dd61a-dcd9-4fa9-b4b0-87617e4be3db",
   "metadata": {},
   "source": [
    "文字列”stressed”の文字を逆に（末尾から先頭に向かって）並べた文字列を得よ．"
   ]
  },
  {
   "cell_type": "code",
   "execution_count": 1,
   "id": "235282a1-9af2-4b22-b2a9-ae50c890eb12",
   "metadata": {},
   "outputs": [
    {
     "data": {
      "text/plain": [
       "'desserts'"
      ]
     },
     "execution_count": 1,
     "metadata": {},
     "output_type": "execute_result"
    }
   ],
   "source": [
    "\"stressed\"[::-1]"
   ]
  },
  {
   "cell_type": "markdown",
   "id": "4a3c164d-f09a-45dd-a10f-0dcac6ccf4e5",
   "metadata": {},
   "source": [
    "## 01. 「パタトクカシーー」"
   ]
  },
  {
   "cell_type": "markdown",
   "id": "e6a7fcd7-56d9-40c2-902c-db7464fca1e4",
   "metadata": {},
   "source": [
    "「パタトクカシーー」という文字列の1,3,5,7文字目を取り出して連結した文字列を得よ．"
   ]
  },
  {
   "cell_type": "code",
   "execution_count": 2,
   "id": "bf235956-1e2b-4bf0-a075-7bb45e41e93b",
   "metadata": {},
   "outputs": [
    {
     "data": {
      "text/plain": [
       "'パトカー'"
      ]
     },
     "execution_count": 2,
     "metadata": {},
     "output_type": "execute_result"
    }
   ],
   "source": [
    "'パタトクカシーー'[::2]"
   ]
  },
  {
   "cell_type": "markdown",
   "id": "8c82fecd-e53c-492b-a977-9a68bbf43e5e",
   "metadata": {},
   "source": [
    "## 02. 「パトカー」＋「タクシー」＝「パタトクカシーー」"
   ]
  },
  {
   "cell_type": "markdown",
   "id": "25e74025-3528-44ab-89fa-a805bf4a0fae",
   "metadata": {},
   "source": [
    "「パトカー」＋「タクシー」の文字を先頭から交互に連結して文字列「パタトクカシーー」を得よ．"
   ]
  },
  {
   "cell_type": "code",
   "execution_count": 15,
   "id": "e075a4de-73f5-43c0-8250-eb4be7541f9b",
   "metadata": {},
   "outputs": [
    {
     "name": "stdout",
     "output_type": "stream",
     "text": [
      "パタトクカシーー\n"
     ]
    }
   ],
   "source": [
    "pat = 'パトカー'\n",
    "taxi = 'タクシー'\n",
    "pata = ''\n",
    "for p, t in zip(pat, taxi):\n",
    "    pata += p + t\n",
    "print(pata)"
   ]
  },
  {
   "cell_type": "markdown",
   "id": "b26bb2ce-30cc-4d9d-87f2-a111b52d7f03",
   "metadata": {},
   "source": [
    "## 03. 円周率"
   ]
  },
  {
   "cell_type": "markdown",
   "id": "fba5ad64-532f-48b4-8b8c-3ab136893d6f",
   "metadata": {},
   "source": [
    "“Now I need a drink, alcoholic of course, after the heavy lectures involving quantum mechanics.”という文を単語に分解し，各単語の（アルファベットの）文字数を先頭から出現順に並べたリストを作成せよ．"
   ]
  },
  {
   "cell_type": "code",
   "execution_count": 26,
   "id": "c33efab4-48dc-4b14-9cea-d109846ebb1e",
   "metadata": {},
   "outputs": [
    {
     "data": {
      "text/plain": [
       "[3, 1, 4, 1, 5, 9, 2, 6, 5, 3, 5, 8, 9, 7, 9]"
      ]
     },
     "execution_count": 26,
     "metadata": {},
     "output_type": "execute_result"
    }
   ],
   "source": [
    "import re\n",
    "sentence = 'Now I need a drink, alcoholic of course, after the heavy lectures involving quantum mechanics.'\n",
    "words = re.sub('[,.]', '', sentence).split(' ')\n",
    "# for w in words:\n",
    "#     numbers.append(len(w))\n",
    "#内包表記思い出す時と思い出さない時のムラを無くしたい\n",
    "numbers = [len(w) for w in words]\n",
    "numbers"
   ]
  },
  {
   "cell_type": "markdown",
   "id": "dfea7c4f-5241-48bd-a4e2-0222f1127cb3",
   "metadata": {
    "tags": []
   },
   "source": [
    "## 04. 元素記号"
   ]
  },
  {
   "cell_type": "markdown",
   "id": "4fdc96ac-856e-4c26-a906-08f3da9b9500",
   "metadata": {},
   "source": [
    "“Hi He Lied Because Boron Could Not Oxidize Fluorine. New Nations Might Also Sign Peace Security Clause. Arthur King Can.”という文を単語に分解し，1, 5, 6, 7, 8, 9, 15, 16, 19番目の単語は先頭の1文字，それ以外の単語は先頭の2文字を取り出し，取り出した文字列から単語の位置（先頭から何番目の単語か）への連想配列（辞書型もしくはマップ型）を作成せよ．"
   ]
  },
  {
   "cell_type": "code",
   "execution_count": 2,
   "id": "7131b298-e327-4234-9fe4-9d51a37cf740",
   "metadata": {},
   "outputs": [
    {
     "name": "stdout",
     "output_type": "stream",
     "text": [
      "{1: 'H', 2: 'He', 3: 'Li', 4: 'Be', 5: 'B', 6: 'C', 7: 'N', 8: 'O', 9: 'F', 10: 'Ne', 11: 'Na', 12: 'Mi', 13: 'Al', 14: 'Si', 15: 'P', 16: 'S', 17: 'Cl', 18: 'Ar', 19: 'K', 20: 'Ca'}\n"
     ]
    }
   ],
   "source": [
    "#問題文よく読みましょう。キーとバリュー逆だよ。\n",
    "numbers = [1,5,6,7,8,9,15,16,19]\n",
    "result = {}\n",
    "sentence = 'Hi He Lied Because Boron Could Not Oxidize Fluorine. New Nations Might Also Sign Peace Security Clause. Arthur King Can.'\n",
    "words = sentence.replace('.', '').split(' ')\n",
    "\n",
    "for i, w in enumerate(words, 1):#便宜上１から始まり\n",
    "    if i in numbers:\n",
    "        result[i] = w[:1]\n",
    "    else:\n",
    "        result[i] = w[:2]\n",
    "print(result)"
   ]
  },
  {
   "cell_type": "markdown",
   "id": "98770b82-2ef4-4aed-bb81-f16c0f373569",
   "metadata": {},
   "source": [
    "## 05. n-gram"
   ]
  },
  {
   "cell_type": "markdown",
   "id": "05a56240-fb49-479e-bdb4-b0ed0cf28b4a",
   "metadata": {},
   "source": [
    "与えられたシーケンス（文字列やリストなど）からn-gramを作る関数を作成せよ．この関数を用い，”I am an NLPer”という文から単語bi-gram，文字bi-gramを得よ．"
   ]
  },
  {
   "cell_type": "code",
   "execution_count": 1,
   "id": "f72166f9-8f1d-4df0-bdad-1c59911c9d29",
   "metadata": {},
   "outputs": [],
   "source": [
    "#単語ごとに分ける\n",
    "#n個づつ取り出す\n",
    "def n_gram(sentence, number, mode): \n",
    "    if mode == 'word':\n",
    "        sentence = sentence.split(' ')\n",
    "    return [sentence[i:i+number] for i in range(len(sentence) - (number - 1))]"
   ]
  },
  {
   "cell_type": "code",
   "execution_count": 2,
   "id": "d2f7f88a-502c-4215-9dd9-0cc68eda3fcf",
   "metadata": {},
   "outputs": [
    {
     "data": {
      "text/plain": [
       "[['I', 'am'], ['am', 'an'], ['an', 'NLPer']]"
      ]
     },
     "execution_count": 2,
     "metadata": {},
     "output_type": "execute_result"
    }
   ],
   "source": [
    "n_gram('I am an NLPer', 2, 'word')\n",
    "# n_gram('I am an NLPer', 2, 'letter')"
   ]
  },
  {
   "cell_type": "code",
   "execution_count": 3,
   "id": "0fab8483-1e2f-4849-99e2-038fca2d1d13",
   "metadata": {},
   "outputs": [
    {
     "data": {
      "text/plain": [
       "['I ', ' a', 'am', 'm ', ' a', 'an', 'n ', ' N', 'NL', 'LP', 'Pe', 'er']"
      ]
     },
     "execution_count": 3,
     "metadata": {},
     "output_type": "execute_result"
    }
   ],
   "source": [
    "n_gram('I am an NLPer', 2, 'letter')"
   ]
  },
  {
   "cell_type": "markdown",
   "id": "313aefc2-82ad-4823-a7f2-7ac514b1e97e",
   "metadata": {},
   "source": [
    "## 06. 集合"
   ]
  },
  {
   "cell_type": "markdown",
   "id": "7baf10a0-45e3-4686-8aea-5aa9d73db0e2",
   "metadata": {},
   "source": [
    "“paraparaparadise”と”paragraph”に含まれる文字bi-gramの集合を，それぞれ, XとYとして求め，XとYの和集合，積集合，差集合を求めよ．さらに，’se’というbi-gramがXおよびYに含まれるかどうかを調べよ．"
   ]
  },
  {
   "cell_type": "code",
   "execution_count": 4,
   "id": "c1945086-4e73-490f-a67b-87871bd242d1",
   "metadata": {},
   "outputs": [
    {
     "name": "stdout",
     "output_type": "stream",
     "text": [
      "X :  {'is', 'pa', 'ar', 'se', 'ra', 'ad', 'ap', 'di'}\n",
      "Y :  {'ph', 'gr', 'pa', 'ag', 'ar', 'ra', 'ap'}\n"
     ]
    }
   ],
   "source": [
    "X = set(n_gram('paraparaparadise', 2, 'letter'))\n",
    "Y = set(n_gram('paragraph', 2, 'letter'))\n",
    "\n",
    "print('X : ', X)\n",
    "print('Y : ', Y)"
   ]
  },
  {
   "cell_type": "code",
   "execution_count": 5,
   "id": "f5ee5c3b-bdd9-470f-99d7-4f206840cded",
   "metadata": {},
   "outputs": [
    {
     "data": {
      "text/plain": [
       "{'ad', 'ag', 'ap', 'ar', 'di', 'gr', 'is', 'pa', 'ph', 'ra', 'se'}"
      ]
     },
     "execution_count": 5,
     "metadata": {},
     "output_type": "execute_result"
    }
   ],
   "source": [
    "#和集合\n",
    "X | Y"
   ]
  },
  {
   "cell_type": "code",
   "execution_count": 6,
   "id": "63f42617-1826-4223-9de1-bb39c34b7623",
   "metadata": {},
   "outputs": [
    {
     "data": {
      "text/plain": [
       "{'ad', 'di', 'is', 'se'}"
      ]
     },
     "execution_count": 6,
     "metadata": {},
     "output_type": "execute_result"
    }
   ],
   "source": [
    "#差集合\n",
    "X - Y"
   ]
  },
  {
   "cell_type": "code",
   "execution_count": 7,
   "id": "2cd6194c-5cf5-42db-9c3c-af6ab4358173",
   "metadata": {},
   "outputs": [
    {
     "data": {
      "text/plain": [
       "{'ap', 'ar', 'pa', 'ra'}"
      ]
     },
     "execution_count": 7,
     "metadata": {},
     "output_type": "execute_result"
    }
   ],
   "source": [
    "#積集合\n",
    "X & Y"
   ]
  },
  {
   "cell_type": "markdown",
   "id": "f1135688-6ba9-468d-8eba-7f7bee409f66",
   "metadata": {},
   "source": [
    "## 07. テンプレートによる文生成\n",
    "引数x, y, zを受け取り「x時のyはz」という文字列を返す関数を実装せよ．さらに，x=12, y=”気温”, z=22.4として，実行結果を確認せよ."
   ]
  },
  {
   "cell_type": "code",
   "execution_count": 1,
   "id": "02b71ea9-a19e-4d87-be1f-be4ced95cf5b",
   "metadata": {},
   "outputs": [],
   "source": [
    "def weather(x, y, z):\n",
    "    return f'{x}時の{y}は{z}'"
   ]
  },
  {
   "cell_type": "code",
   "execution_count": 2,
   "id": "db7f7631-374c-4e6e-90e5-199175cd3950",
   "metadata": {},
   "outputs": [
    {
     "data": {
      "text/plain": [
       "'12時の気温は22.4'"
      ]
     },
     "execution_count": 2,
     "metadata": {},
     "output_type": "execute_result"
    }
   ],
   "source": [
    "weather(12, '気温', 22.4)"
   ]
  },
  {
   "cell_type": "markdown",
   "id": "fcf16324-b6e7-4c4f-8eb1-a4b4fc87872a",
   "metadata": {},
   "source": [
    "## 08. 暗号文\n",
    "与えられた文字列の各文字を，以下の仕様で変換する関数cipherを実装せよ．\n",
    "・英小文字ならば(219 - 文字コード)の文字に置換\n",
    "・その他の文字はそのまま出力\n",
    "この関数を用い，英語のメッセージを暗号化・復号化せよ．"
   ]
  },
  {
   "cell_type": "code",
   "execution_count": 32,
   "id": "392d1084-1ffa-4c68-8803-c2b0ab66b911",
   "metadata": {},
   "outputs": [],
   "source": [
    "def cipher(sentence):\n",
    "    words = list(sentence)\n",
    "    for i, w in enumerate(words):\n",
    "        if w.islower():\n",
    "            words[i] = chr(219 - ord(w))\n",
    "    return ''.join(words)"
   ]
  },
  {
   "cell_type": "code",
   "execution_count": 37,
   "id": "d854d27f-af44-48fc-9f92-70ef8596a5a5",
   "metadata": {},
   "outputs": [
    {
     "name": "stdout",
     "output_type": "stream",
     "text": [
      "6.45 µs ± 77 ns per loop (mean ± std. dev. of 7 runs, 100,000 loops each)\n"
     ]
    }
   ],
   "source": [
    "%%timeit\n",
    "sentence = 'I wrote this code in Inui lab.'\n",
    "ciphered = cipher(sentence)\n",
    "# # 原文\n",
    "# print(sentence)\n",
    "# # 暗号化\n",
    "# print(ciphered)\n",
    "# # 復号化\n",
    "# print(cipher(ciphered))"
   ]
  },
  {
   "cell_type": "code",
   "execution_count": 34,
   "id": "cbee3d95-1028-4f2f-8e91-f814bb914252",
   "metadata": {},
   "outputs": [],
   "source": [
    "def cipher2(sentence):\n",
    "    new_sentence = ''\n",
    "    for w in sentence:\n",
    "        if w.islower():\n",
    "            w = chr(219 - ord(w))\n",
    "        new_sentence += w\n",
    "    return new_sentence"
   ]
  },
  {
   "cell_type": "code",
   "execution_count": 38,
   "id": "f90c90ea-f7f3-47a3-8aea-a59cad2563d6",
   "metadata": {},
   "outputs": [
    {
     "name": "stdout",
     "output_type": "stream",
     "text": [
      "6.23 µs ± 72 ns per loop (mean ± std. dev. of 7 runs, 100,000 loops each)\n"
     ]
    }
   ],
   "source": [
    "%%timeit\n",
    "sentence = 'I wrote this code in Inui lab.'\n",
    "ciphered = cipher2(sentence)\n",
    "# # 原文\n",
    "# print(sentence)\n",
    "# # 暗号化\n",
    "# print(ciphered)\n",
    "# # 復号化\n",
    "# print(cipher2(ciphered))"
   ]
  },
  {
   "cell_type": "markdown",
   "id": "f664a081-b815-4345-9ca7-270575bd0402",
   "metadata": {},
   "source": [
    "## 09. Typoglycemia\n",
    "スペースで区切られた単語列に対して，各単語の先頭と末尾の文字は残し，それ以外の文字の順序をランダムに並び替えるプログラムを作成せよ．ただし，長さが４以下の単語は並び替えないこととする．適当な英語の文（例えば”I couldn’t believe that I could actually understand what I was reading : the phenomenal power of the human mind .”）を与え，その実行結果を確認せよ．"
   ]
  },
  {
   "cell_type": "code",
   "execution_count": 9,
   "id": "46d9fb42-791b-4542-9b54-eec80d7736cb",
   "metadata": {},
   "outputs": [],
   "source": [
    "import random\n",
    "def typo(sentence):\n",
    "    words = []\n",
    "    for w in sentence.split():\n",
    "        if len(w) >= 5:\n",
    "            letters = list(w)\n",
    "            letters[1:-1] = random.sample(letters[1:-1], len(letters)-2)\n",
    "            words.append(''.join(letters))\n",
    "        else:\n",
    "            words.append(w)\n",
    "    return ' '.join(words)"
   ]
  },
  {
   "cell_type": "code",
   "execution_count": 10,
   "id": "16e47d1a-a9ec-4b39-ab64-24e5ff51abf6",
   "metadata": {},
   "outputs": [
    {
     "data": {
      "text/plain": [
       "'I cdulon’t blveeie that I cuold acaultly ursetnadnd what I was rdaneig : the pneneomhal pweor of the hmaun mind .'"
      ]
     },
     "execution_count": 10,
     "metadata": {},
     "output_type": "execute_result"
    }
   ],
   "source": [
    "sentence = 'I couldn’t believe that I could actually understand what I was reading : the phenomenal power of the human mind .'\n",
    "typo(sentence)"
   ]
  },
  {
   "cell_type": "code",
   "execution_count": 43,
   "id": "d8b82234-cb73-4b60-824b-80632c3e18d1",
   "metadata": {},
   "outputs": [
    {
     "data": {
      "text/plain": [
       "['b', 'c']"
      ]
     },
     "execution_count": 43,
     "metadata": {},
     "output_type": "execute_result"
    }
   ],
   "source": [
    "import random\n",
    "a=['a', 'b', 'c']\n",
    "random.sample(a, 2)"
   ]
  }
 ],
 "metadata": {
  "kernelspec": {
   "display_name": "Python 3 (ipykernel)",
   "language": "python",
   "name": "python3"
  },
  "language_info": {
   "codemirror_mode": {
    "name": "ipython",
    "version": 3
   },
   "file_extension": ".py",
   "mimetype": "text/x-python",
   "name": "python",
   "nbconvert_exporter": "python",
   "pygments_lexer": "ipython3",
   "version": "3.10.5"
  }
 },
 "nbformat": 4,
 "nbformat_minor": 5
}
